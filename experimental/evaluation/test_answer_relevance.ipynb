{
 "cells": [
  {
   "cell_type": "code",
   "execution_count": 1,
   "metadata": {},
   "outputs": [
    {
     "name": "stderr",
     "output_type": "stream",
     "text": [
      "/home/psaegert/miniconda3/envs/elqm/lib/python3.11/site-packages/tqdm/auto.py:21: TqdmWarning: IProgress not found. Please update jupyter and ipywidgets. See https://ipywidgets.readthedocs.io/en/stable/user_install.html\n",
      "  from .autonotebook import tqdm as notebook_tqdm\n"
     ]
    }
   ],
   "source": [
    "from elqm.eval import Evaluation"
   ]
  },
  {
   "cell_type": "code",
   "execution_count": 2,
   "metadata": {},
   "outputs": [],
   "source": [
    "eval = Evaluation()"
   ]
  },
  {
   "cell_type": "code",
   "execution_count": 3,
   "metadata": {},
   "outputs": [],
   "source": [
    "question = \"Is the capital of France Paris?\"\n",
    "\n",
    "answer = \"\"\"\n",
    "Yes, the capital of France is Paris.\n",
    "Paris is located in northern central France on the river Seine.\n",
    "It has been the capital city of France since the late 5th century, though some earlier French kings had their main residence in other cities such as Laon and Soissons.\n",
    "\"\"\"\n",
    "\n",
    "answer_bad = \"\"\"\n",
    "To import UFuncTypeError, you need to import it from numpy.core._exceptions. Here is how you can do it:\n",
    "\n",
    "from numpy.core._exceptions import UFuncTypeError\n",
    "\n",
    "This will allow you to catch or handle UFuncTypeError exceptions in your code, which occur when NumPy encounters an error during element-wise operations due to incompatible data types 2.\n",
    "\"\"\""
   ]
  },
  {
   "cell_type": "code",
   "execution_count": 4,
   "metadata": {},
   "outputs": [
    {
     "name": "stdout",
     "output_type": "stream",
     "text": [
      " {QUESTION 1}: What is the capital city of France? {ANSWER 1}: The capital of France is Paris.\n",
      "{QUESTION 2}: In which century did Paris become the capital city of France? {ANSWER 2}: Paris has been the capital city of France since the late 5th century.\n"
     ]
    },
    {
     "name": "stderr",
     "output_type": "stream",
     "text": [
      "Some weights of RobertaModel were not initialized from the model checkpoint at roberta-large and are newly initialized: ['roberta.pooler.dense.bias', 'roberta.pooler.dense.weight']\n",
      "You should probably TRAIN this model on a down-stream task to be able to use it for predictions and inference.\n"
     ]
    },
    {
     "name": "stdout",
     "output_type": "stream",
     "text": [
      "[('What is the capital city of France?', 'The capital of France is Paris.'), ('In which century did Paris become the capital city of France?', 'Paris has been the capital city of France since the late 5th century.')]\n",
      "{'precision': 0.9286210536956787, 'recall': 0.910132884979248, 'f1': 0.919210821390152, 'hashcode': nan}\n"
     ]
    }
   ],
   "source": [
    "oracle_qa_pairs, relevance_scores = eval.scores_functions['A_AR'](\n",
    "    question=question,\n",
    "    answer=answer,\n",
    "    n_questions=2,\n",
    "    model='mixtral',\n",
    "    similarity=lambda a, b: eval.scores_functions['A_BERT_RAG'](predictions=[a], references=[b]))\n",
    "\n",
    "print(oracle_qa_pairs)\n",
    "print(relevance_scores)"
   ]
  },
  {
   "cell_type": "code",
   "execution_count": 5,
   "metadata": {},
   "outputs": [
    {
     "name": "stdout",
     "output_type": "stream",
     "text": [
      " {QUESTION 1}: What is the module and name of the exception that you need to import from numpy.core.\\_exceptions to handle incompatible data types during element-wise operations? <br>\n",
      "{ANSWER 1}: UFuncTypeError <br>\n",
      "{QUESTION 2}: How can you import UFuncTypeError exception from numpy.core.\\_exceptions to catch or handle it in your code? <br>\n",
      "{ANSWER 2}: from numpy.core.\\_exceptions import UFuncTypeError\n",
      "[('What is the module and name of the exception that you need to import from numpy.core.\\\\_exceptions to handle incompatible data types during element-wise operations? <br>', 'UFuncTypeError <br>'), ('How can you import UFuncTypeError exception from numpy.core.\\\\_exceptions to catch or handle it in your code? <br>', 'from numpy.core.\\\\_exceptions import UFuncTypeError')]\n",
      "{'precision': 0.8626265525817871, 'recall': 0.8110398948192596, 'f1': 0.8360316753387451, 'hashcode': nan}\n"
     ]
    }
   ],
   "source": [
    "oracle_qa_pairs, relevance_scores = eval.scores_functions['A_AR'](\n",
    "    question=question,\n",
    "    answer=answer_bad,\n",
    "    n_questions=2,\n",
    "    model='mixtral',\n",
    "    similarity=lambda a, b: eval.scores_functions['A_BERT_RAG'](predictions=[a], references=[b]))\n",
    "\n",
    "print(oracle_qa_pairs)\n",
    "print(relevance_scores)"
   ]
  }
 ],
 "metadata": {
  "kernelspec": {
   "display_name": "elqm",
   "language": "python",
   "name": "python3"
  },
  "language_info": {
   "codemirror_mode": {
    "name": "ipython",
    "version": 3
   },
   "file_extension": ".py",
   "mimetype": "text/x-python",
   "name": "python",
   "nbconvert_exporter": "python",
   "pygments_lexer": "ipython3",
   "version": "3.11.7"
  }
 },
 "nbformat": 4,
 "nbformat_minor": 2
}
