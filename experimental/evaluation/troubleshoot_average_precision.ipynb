{
 "cells": [
  {
   "cell_type": "code",
   "execution_count": 5,
   "metadata": {},
   "outputs": [],
   "source": [
    "# from elqm.eval.evaluation import retriever_average_precision"
   ]
  },
  {
   "cell_type": "code",
   "execution_count": 6,
   "metadata": {},
   "outputs": [],
   "source": [
    "import numpy as np\n",
    "from elqm.eval.evaluation import retriever_precision"
   ]
  },
  {
   "cell_type": "code",
   "execution_count": 7,
   "metadata": {},
   "outputs": [],
   "source": [
    "def retriever_average_precision(references: list[str], candidates: list[str], max_k: int = 1) -> list[float]:\n",
    "    \"\"\"\n",
    "    Computes the average precision of the retriever from reference ids and candidate ids for each k in 1 to max_k.\n",
    "\n",
    "    Parameters\n",
    "    ----------\n",
    "    references : list[str]\n",
    "        The reference document IDs considered relevant.\n",
    "    candidates : list[str]\n",
    "        The candidate document IDs retrieved by the system, in ranked order.\n",
    "    max_k : int\n",
    "        The maximum number of retrieved documents to consider.\n",
    "\n",
    "    Returns\n",
    "    -------\n",
    "    list[float]\n",
    "        The list of average precision scores @k for k in [1, max_k].\n",
    "    \"\"\"\n",
    "    if len(references) == 0 or max_k < 1:\n",
    "        return [0.0] * max_k\n",
    "\n",
    "    hits = np.zeros(max(max_k, len(candidates)), dtype=bool)\n",
    "    hits[:len(candidates)] = [True if candidate in references else False for candidate in candidates]\n",
    "\n",
    "    precisions = np.array(retriever_precision(references, candidates, max_k))\n",
    "\n",
    "    average_precisions = [np.sum(precisions[:k] * hits[:k]) / np.sum(hits) for k in range(1, max_k + 1)]\n",
    "\n",
    "    return average_precisions"
   ]
  },
  {
   "cell_type": "code",
   "execution_count": 8,
   "metadata": {},
   "outputs": [
    {
     "data": {
      "text/plain": [
       "[0.3333333333333333,\n",
       " 0.5,\n",
       " 0.611111111111111,\n",
       " 0.611111111111111,\n",
       " 0.611111111111111,\n",
       " 0.611111111111111,\n",
       " 0.611111111111111,\n",
       " 0.611111111111111,\n",
       " 0.611111111111111,\n",
       " 0.611111111111111]"
      ]
     },
     "execution_count": 8,
     "metadata": {},
     "output_type": "execute_result"
    }
   ],
   "source": [
    "retriever_average_precision(\n",
    "    references=[\"B\"],\n",
    "    candidates=[\"B\", \"B\", \"B\",\"C\", \"D\"],\n",
    "    max_k=10\n",
    ")"
   ]
  },
  {
   "cell_type": "code",
   "execution_count": null,
   "metadata": {},
   "outputs": [],
   "source": []
  }
 ],
 "metadata": {
  "kernelspec": {
   "display_name": "elqm",
   "language": "python",
   "name": "python3"
  },
  "language_info": {
   "codemirror_mode": {
    "name": "ipython",
    "version": 3
   },
   "file_extension": ".py",
   "mimetype": "text/x-python",
   "name": "python",
   "nbconvert_exporter": "python",
   "pygments_lexer": "ipython3",
   "version": "3.11.7"
  }
 },
 "nbformat": 4,
 "nbformat_minor": 2
}
