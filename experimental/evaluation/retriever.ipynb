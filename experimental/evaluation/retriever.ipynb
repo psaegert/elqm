{
 "cells": [
  {
   "cell_type": "code",
   "execution_count": 1,
   "metadata": {},
   "outputs": [
    {
     "name": "stderr",
     "output_type": "stream",
     "text": [
      "/home/psaegert/miniconda3/envs/elqm/lib/python3.11/site-packages/tqdm/auto.py:21: TqdmWarning: IProgress not found. Please update jupyter and ipywidgets. See https://ipywidgets.readthedocs.io/en/stable/user_install.html\n",
      "  from .autonotebook import tqdm as notebook_tqdm\n"
     ]
    }
   ],
   "source": [
    "import os\n",
    "import pandas as pd\n",
    "import numpy as np\n",
    "from dynaconf import Dynaconf\n",
    "\n",
    "from elqm import ELQMPipeline\n",
    "from elqm.eval import Evaluation\n",
    "from elqm.utils import get_configs_dir, get_data_dir"
   ]
  },
  {
   "cell_type": "code",
   "execution_count": 2,
   "metadata": {},
   "outputs": [],
   "source": [
    "config = Dynaconf(settings_files=os.path.join(get_configs_dir(), 'dev.yaml'))"
   ]
  },
  {
   "cell_type": "code",
   "execution_count": 3,
   "metadata": {},
   "outputs": [
    {
     "name": "stdout",
     "output_type": "stream",
     "text": [
      "Cache key: dev\n",
      "No cache found for dev\n"
     ]
    },
    {
     "name": "stderr",
     "output_type": "stream",
     "text": [
      "Loading documents: 100%|██████████| 508/508 [00:00<00:00, 7043.66it/s]\n",
      "Removing HTML tags: 100%|██████████| 508/508 [00:10<00:00, 47.11it/s]\n",
      "Saving documents: 100%|██████████| 508/508 [00:00<00:00, 3227.06it/s]\n",
      "100%|██████████| 508/508 [00:01<00:00, 390.06it/s]\n"
     ]
    },
    {
     "name": "stdout",
     "output_type": "stream",
     "text": [
      "Created Document Loader DirectoryLoader\n",
      "Loaded 508 documents\n",
      "Created Splitter RecursiveCharacterTextSplitter\n",
      "Split into 18322 chunks\n",
      "bert_load_from_file: gguf version     = 2\n",
      "bert_load_from_file: gguf alignment   = 32\n",
      "bert_load_from_file: gguf data offset = 695552\n",
      "bert_load_from_file: model name           = BERT\n",
      "bert_load_from_file: model architecture   = bert\n",
      "bert_load_from_file: model file type      = 1\n",
      "bert_load_from_file: bert tokenizer vocab = 30522\n",
      "Created Embedding GPT4AllEmbeddings\n",
      "Index file:  /home/psaegert/Projects/elqm-INLPT-WS2023/cache/dev/FAISS/full_prototype_pipeline/index.faiss\n"
     ]
    },
    {
     "name": "stderr",
     "output_type": "stream",
     "text": [
      "Creating FAISS vectorstores: 100%|██████████| 100/100 [06:41<00:00,  4.01s/it]\n"
     ]
    },
    {
     "name": "stdout",
     "output_type": "stream",
     "text": [
      "Created Retriever VectorStoreRetriever\n"
     ]
    }
   ],
   "source": [
    "elqm = ELQMPipeline(config)"
   ]
  },
  {
   "cell_type": "code",
   "execution_count": 4,
   "metadata": {},
   "outputs": [
    {
     "data": {
      "text/html": [
       "<div>\n",
       "<style scoped>\n",
       "    .dataframe tbody tr th:only-of-type {\n",
       "        vertical-align: middle;\n",
       "    }\n",
       "\n",
       "    .dataframe tbody tr th {\n",
       "        vertical-align: top;\n",
       "    }\n",
       "\n",
       "    .dataframe thead th {\n",
       "        text-align: right;\n",
       "    }\n",
       "</style>\n",
       "<table border=\"1\" class=\"dataframe\">\n",
       "  <thead>\n",
       "    <tr style=\"text-align: right;\">\n",
       "      <th></th>\n",
       "      <th>source</th>\n",
       "      <th>type</th>\n",
       "      <th>question</th>\n",
       "      <th>answer</th>\n",
       "    </tr>\n",
       "  </thead>\n",
       "  <tbody>\n",
       "    <tr>\n",
       "      <th>0</th>\n",
       "      <td>32015R1188</td>\n",
       "      <td>confirmation</td>\n",
       "      <td>Is the product equipped with an automatically ...</td>\n",
       "      <td>Yes.</td>\n",
       "    </tr>\n",
       "    <tr>\n",
       "      <th>1</th>\n",
       "      <td>32015R1188</td>\n",
       "      <td>confirmation</td>\n",
       "      <td>Does the product have a fan-assisted heat outp...</td>\n",
       "      <td>No.</td>\n",
       "    </tr>\n",
       "    <tr>\n",
       "      <th>2</th>\n",
       "      <td>32015R1188</td>\n",
       "      <td>confirmation</td>\n",
       "      <td>Can the product's heat output be regulated by ...</td>\n",
       "      <td>Yes.</td>\n",
       "    </tr>\n",
       "    <tr>\n",
       "      <th>3</th>\n",
       "      <td>32015R1188</td>\n",
       "      <td>confirmation</td>\n",
       "      <td>Is the product equipped with a non-electronic ...</td>\n",
       "      <td>No.</td>\n",
       "    </tr>\n",
       "    <tr>\n",
       "      <th>4</th>\n",
       "      <td>32015R1188</td>\n",
       "      <td>confirmation</td>\n",
       "      <td>Does the product have a day timer or week time...</td>\n",
       "      <td>Yes.</td>\n",
       "    </tr>\n",
       "    <tr>\n",
       "      <th>...</th>\n",
       "      <td>...</td>\n",
       "      <td>...</td>\n",
       "      <td>...</td>\n",
       "      <td>...</td>\n",
       "    </tr>\n",
       "    <tr>\n",
       "      <th>3013</th>\n",
       "      <td>32016R1719</td>\n",
       "      <td>default</td>\n",
       "      <td>What is the timeline for developing necessary ...</td>\n",
       "      <td>No later than six months after the request by ...</td>\n",
       "    </tr>\n",
       "    <tr>\n",
       "      <th>3014</th>\n",
       "      <td>32016R1719</td>\n",
       "      <td>default</td>\n",
       "      <td>Can long-term transmission rights be issued by...</td>\n",
       "      <td>Yes, upon a joint request of the TSOs on a bid...</td>\n",
       "    </tr>\n",
       "    <tr>\n",
       "      <th>3015</th>\n",
       "      <td>32016R1719</td>\n",
       "      <td>default</td>\n",
       "      <td>What are the different forms in which long-ter...</td>\n",
       "      <td>Long-term cross-zonal capacity shall be alloca...</td>\n",
       "    </tr>\n",
       "    <tr>\n",
       "      <th>3016</th>\n",
       "      <td>32016R1719</td>\n",
       "      <td>default</td>\n",
       "      <td>What is the timeline for developing a proposal...</td>\n",
       "      <td>No later than six months after the coordinated...</td>\n",
       "    </tr>\n",
       "    <tr>\n",
       "      <th>3017</th>\n",
       "      <td>32016R1719</td>\n",
       "      <td>default</td>\n",
       "      <td>Can regulatory authorities maintain physical l...</td>\n",
       "      <td>Yes, regulatory authorities of Member States i...</td>\n",
       "    </tr>\n",
       "  </tbody>\n",
       "</table>\n",
       "<p>3018 rows × 4 columns</p>\n",
       "</div>"
      ],
      "text/plain": [
       "          source          type  \\\n",
       "0     32015R1188  confirmation   \n",
       "1     32015R1188  confirmation   \n",
       "2     32015R1188  confirmation   \n",
       "3     32015R1188  confirmation   \n",
       "4     32015R1188  confirmation   \n",
       "...          ...           ...   \n",
       "3013  32016R1719       default   \n",
       "3014  32016R1719       default   \n",
       "3015  32016R1719       default   \n",
       "3016  32016R1719       default   \n",
       "3017  32016R1719       default   \n",
       "\n",
       "                                               question  \\\n",
       "0     Is the product equipped with an automatically ...   \n",
       "1     Does the product have a fan-assisted heat outp...   \n",
       "2     Can the product's heat output be regulated by ...   \n",
       "3     Is the product equipped with a non-electronic ...   \n",
       "4     Does the product have a day timer or week time...   \n",
       "...                                                 ...   \n",
       "3013  What is the timeline for developing necessary ...   \n",
       "3014  Can long-term transmission rights be issued by...   \n",
       "3015  What are the different forms in which long-ter...   \n",
       "3016  What is the timeline for developing a proposal...   \n",
       "3017  Can regulatory authorities maintain physical l...   \n",
       "\n",
       "                                                 answer  \n",
       "0                                                  Yes.  \n",
       "1                                                   No.  \n",
       "2                                                  Yes.  \n",
       "3                                                   No.  \n",
       "4                                                  Yes.  \n",
       "...                                                 ...  \n",
       "3013  No later than six months after the request by ...  \n",
       "3014  Yes, upon a joint request of the TSOs on a bid...  \n",
       "3015  Long-term cross-zonal capacity shall be alloca...  \n",
       "3016  No later than six months after the coordinated...  \n",
       "3017  Yes, regulatory authorities of Member States i...  \n",
       "\n",
       "[3018 rows x 4 columns]"
      ]
     },
     "execution_count": 4,
     "metadata": {},
     "output_type": "execute_result"
    }
   ],
   "source": [
    "oracle_data = pd.read_csv(os.path.join(get_data_dir(\"elqm-raw/oracle\"), \"random_100_20240102.csv\"))\n",
    "oracle_data"
   ]
  },
  {
   "cell_type": "code",
   "execution_count": 5,
   "metadata": {},
   "outputs": [],
   "source": [
    "eval = Evaluation()"
   ]
  },
  {
   "cell_type": "code",
   "execution_count": 6,
   "metadata": {},
   "outputs": [
    {
     "name": "stderr",
     "output_type": "stream",
     "text": [
      "Evaluating:   0%|          | 0/100 [00:00<?, ?it/s]Some weights of RobertaModel were not initialized from the model checkpoint at roberta-large and are newly initialized: ['roberta.pooler.dense.bias', 'roberta.pooler.dense.weight']\n",
      "You should probably TRAIN this model on a down-stream task to be able to use it for predictions and inference.\n",
      "Evaluating: 100%|██████████| 100/100 [03:19<00:00,  1.99s/it]\n"
     ]
    }
   ],
   "source": [
    "results = eval.evaluate(elqm, oracle_data[:100])"
   ]
  },
  {
   "cell_type": "code",
   "execution_count": 7,
   "metadata": {},
   "outputs": [],
   "source": [
    "# Flatten the dicts\n",
    "results['answer_bleu_bleu'] = [r['bleu'] for r in results['bleu']]\n",
    "results['answer_bleu_precision'] = [np.mean(r['precisions']) for r in results['bleu']]\n",
    "results['answer_bleu_brevity_penalty'] = [r['brevity_penalty'] for r in results['bleu']]\n",
    "results['answer_length_ratio'] = [r['length_ratio'] for r in results['bleu']]\n",
    "results['answer_translation_length'] = [r['translation_length'] for r in results['bleu']]\n",
    "results['answer_reference_length'] = [r['reference_length'] for r in results['bleu']]\n",
    "del results['bleu']\n",
    "\n",
    "results['answer_rouge_rouge1'] = [r['rouge1'] for r in results['rouge']]\n",
    "results['answer_rouge_rouge2'] = [r['rouge2'] for r in results['rouge']]\n",
    "results['answer_rouge_rougeL'] = [r['rougeL'] for r in results['rouge']]\n",
    "results['answer_rougeLsum'] = [r['rougeLsum'] for r in results['rouge']]\n",
    "del results['rouge']\n",
    "\n",
    "results['answer_bertscore_precision'] = [r['precision'][0] for r in results['bertscore']]\n",
    "results['answer_bertscore_recall'] = [r['recall'][0] for r in results['bertscore']]\n",
    "results['answer_bertscore_f1'] = [r['f1'][0] for r in results['bertscore']]\n",
    "del results['bertscore']"
   ]
  },
  {
   "cell_type": "code",
   "execution_count": 8,
   "metadata": {},
   "outputs": [
    {
     "data": {
      "text/plain": [
       "retriever_recall                 0.720000\n",
       "retriever_precision              0.144000\n",
       "retriever_f1                     0.240000\n",
       "answer_bleu_bleu                 0.053291\n",
       "answer_bleu_precision            0.063143\n",
       "answer_bleu_brevity_penalty      1.000000\n",
       "answer_length_ratio             19.196266\n",
       "answer_translation_length      161.950000\n",
       "answer_reference_length         21.260000\n",
       "answer_rouge_rouge1              0.164645\n",
       "answer_rouge_rouge2              0.108550\n",
       "answer_rouge_rougeL              0.143270\n",
       "answer_rougeLsum                 0.142197\n",
       "answer_bertscore_precision       0.819107\n",
       "answer_bertscore_recall          0.885989\n",
       "answer_bertscore_f1              0.850884\n",
       "dtype: float64"
      ]
     },
     "execution_count": 8,
     "metadata": {},
     "output_type": "execute_result"
    }
   ],
   "source": [
    "pd.DataFrame(results).mean()"
   ]
  }
 ],
 "metadata": {
  "kernelspec": {
   "display_name": "elqm",
   "language": "python",
   "name": "python3"
  },
  "language_info": {
   "codemirror_mode": {
    "name": "ipython",
    "version": 3
   },
   "file_extension": ".py",
   "mimetype": "text/x-python",
   "name": "python",
   "nbconvert_exporter": "python",
   "pygments_lexer": "ipython3",
   "version": "3.11.7"
  }
 },
 "nbformat": 4,
 "nbformat_minor": 2
}
