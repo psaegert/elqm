{
 "cells": [
  {
   "cell_type": "code",
   "execution_count": 1,
   "metadata": {},
   "outputs": [],
   "source": [
    "from langchain_community.document_loaders.directory import DirectoryLoader\n",
    "from langchain_community.document_loaders.json_loader import JSONLoader\n",
    "from langchain.text_splitter import RecursiveCharacterTextSplitter\n",
    "from langchain_community.embeddings import GPT4AllEmbeddings\n",
    "from langchain_community.vectorstores.faiss import FAISS\n",
    "from langchain_community.vectorstores.elasticsearch import ElasticsearchStore\n",
    "from langchain_core.runnables import RunnableMap\n",
    "\n",
    "from elasticsearch import Elasticsearch\n",
    "\n",
    "from tqdm import tqdm\n",
    "# import os\n",
    "# import json\n",
    "# from bs4 import BeautifulSoup\n",
    "# from elqm.utils import get_data_dir"
   ]
  },
  {
   "cell_type": "code",
   "execution_count": 2,
   "metadata": {},
   "outputs": [],
   "source": [
    "# data_dir = get_data_dir(\"elqm-raw/eur_lex_data\")\n",
    "# print(data_dir)"
   ]
  },
  {
   "cell_type": "code",
   "execution_count": 3,
   "metadata": {},
   "outputs": [],
   "source": [
    "# preprocesses_dir = get_data_dir(\"elqm-preprocessed/eur_lex_data\")\n",
    "# print(preprocesses_dir)"
   ]
  },
  {
   "cell_type": "code",
   "execution_count": 4,
   "metadata": {},
   "outputs": [],
   "source": [
    "# for filename in os.listdir(data_dir):\n",
    "#     if filename.endswith(\".json\"):\n",
    "#         with open(os.path.join(data_dir, filename), 'r') as f:\n",
    "#             data = json.load(f)\n",
    "        \n",
    "#         bs = BeautifulSoup(data['html'], 'html.parser')\n",
    "\n",
    "#         # Get the text\n",
    "#         text = bs.get_text()\n",
    "\n",
    "#         data['text'] = text\n",
    "#         del data['html']\n",
    "\n",
    "#         with open(os.path.join(preprocesses_dir, filename), 'w') as f:\n",
    "#             json.dump(data, f)"
   ]
  },
  {
   "cell_type": "code",
   "execution_count": 5,
   "metadata": {},
   "outputs": [],
   "source": [
    "# loader = DirectoryLoader(preprocesses_dir,\n",
    "#     glob='**/*.json',\n",
    "#     show_progress=True,\n",
    "#     loader_cls=JSONLoader,\n",
    "#     loader_kwargs={'jq_schema': '.text'}\n",
    "# )\n",
    "\n",
    "# data = loader.load()"
   ]
  },
  {
   "cell_type": "code",
   "execution_count": 6,
   "metadata": {},
   "outputs": [],
   "source": [
    "# splitter = RecursiveCharacterTextSplitter(chunk_size=1000, chunk_overlap=200)\n",
    "\n",
    "# chunks = splitter.split_documents(data)\n",
    "\n",
    "# len(chunks)"
   ]
  },
  {
   "cell_type": "code",
   "execution_count": 7,
   "metadata": {},
   "outputs": [
    {
     "name": "stdout",
     "output_type": "stream",
     "text": [
      "bert_load_from_file: gguf version     = 2\n",
      "bert_load_from_file: gguf alignment   = 32\n",
      "bert_load_from_file: gguf data offset = 695552\n",
      "bert_load_from_file: model name           = BERT\n",
      "bert_load_from_file: model architecture   = bert\n",
      "bert_load_from_file: model file type      = 1\n",
      "bert_load_from_file: bert tokenizer vocab = 30522\n"
     ]
    }
   ],
   "source": [
    "embeddings = GPT4AllEmbeddings()\n",
    "\n",
    "# vectorstore = FAISS.from_documents(documents=chunks, embedding=embeddings)\n",
    "# vectorstore = ElasticsearchStore.from_documents(\n",
    "#     documents=chunks,\n",
    "#     embedding=embeddings,\n",
    "#     index_name=\"eurlex-langchain-troubleshoot\",\n",
    "#     es_connection=Elasticsearch(\"http://localhost:9200\")\n",
    "# ) \n",
    "vectorstore = ElasticsearchStore(\n",
    "    index_name=\"eurlex-langchain-troubleshoot\",\n",
    "    es_connection=Elasticsearch(\"http://localhost:9200\"),\n",
    "    embedding=embeddings)"
   ]
  },
  {
   "cell_type": "code",
   "execution_count": 8,
   "metadata": {},
   "outputs": [],
   "source": [
    "question = \"Can the product's heat output be regulated by an energy supplier? \""
   ]
  },
  {
   "cell_type": "code",
   "execution_count": 9,
   "metadata": {},
   "outputs": [],
   "source": [
    "retriever_chain = vectorstore.as_retriever()"
   ]
  },
  {
   "cell_type": "code",
   "execution_count": 10,
   "metadata": {},
   "outputs": [
    {
     "data": {
      "text/plain": [
       "4"
      ]
     },
     "execution_count": 10,
     "metadata": {},
     "output_type": "execute_result"
    }
   ],
   "source": [
    "retrieved_docs = retriever_chain.invoke(question)\n",
    "len(retrieved_docs)"
   ]
  },
  {
   "cell_type": "code",
   "execution_count": 11,
   "metadata": {},
   "outputs": [],
   "source": [
    "retriever_chain_formatted = retriever_chain"
   ]
  },
  {
   "cell_type": "code",
   "execution_count": 12,
   "metadata": {},
   "outputs": [
    {
     "name": "stderr",
     "output_type": "stream",
     "text": [
      "100%|██████████| 100/100 [00:00<00:00, 215.98it/s]\n"
     ]
    }
   ],
   "source": [
    "# This works\n",
    "for i in tqdm(range(100)):\n",
    "    retriever_chain_formatted.invoke(input=question)"
   ]
  },
  {
   "cell_type": "code",
   "execution_count": 13,
   "metadata": {},
   "outputs": [],
   "source": [
    "all_chain = RunnableMap(runnables={\n",
    "    \"retriever\": retriever_chain,\n",
    "    \"retriever_formatted\": retriever_chain_formatted,\n",
    "})"
   ]
  },
  {
   "cell_type": "code",
   "execution_count": 14,
   "metadata": {},
   "outputs": [],
   "source": [
    "import time"
   ]
  },
  {
   "cell_type": "code",
   "execution_count": 15,
   "metadata": {},
   "outputs": [
    {
     "name": "stderr",
     "output_type": "stream",
     "text": [
      "100%|██████████| 100/100 [00:00<00:00, 102.27it/s]\n"
     ]
    }
   ],
   "source": [
    "# This does not work\n",
    "for i in tqdm(range(100)):\n",
    "    results_retriever_chain = retriever_chain.invoke(input=question)\n",
    "    results_retriever_chain_formatted = retriever_chain_formatted.invoke(input=question)"
   ]
  },
  {
   "cell_type": "code",
   "execution_count": null,
   "metadata": {},
   "outputs": [
    {
     "name": "stderr",
     "output_type": "stream",
     "text": [
      "  4%|▍         | 4/100 [00:02<00:48,  1.98it/s]"
     ]
    },
    {
     "ename": "",
     "evalue": "",
     "output_type": "error",
     "traceback": [
      "\u001b[1;31mThe Kernel crashed while executing code in the the current cell or a previous cell. Please review the code in the cell(s) to identify a possible cause of the failure. Click <a href='https://aka.ms/vscodeJupyterKernelCrash'>here</a> for more info. View Jupyter <a href='command:jupyter.viewOutput'>log</a> for further details."
     ]
    }
   ],
   "source": [
    "# # This does not work\n",
    "# for i in tqdm(range(100)):\n",
    "#     results = all_chain.invoke(input=question)\n",
    "#     time.sleep(0.5)"
   ]
  },
  {
   "cell_type": "code",
   "execution_count": null,
   "metadata": {},
   "outputs": [],
   "source": []
  }
 ],
 "metadata": {
  "kernelspec": {
   "display_name": "elqm",
   "language": "python",
   "name": "python3"
  },
  "language_info": {
   "codemirror_mode": {
    "name": "ipython",
    "version": 3
   },
   "file_extension": ".py",
   "mimetype": "text/x-python",
   "name": "python",
   "nbconvert_exporter": "python",
   "pygments_lexer": "ipython3",
   "version": "3.11.7"
  }
 },
 "nbformat": 4,
 "nbformat_minor": 2
}
