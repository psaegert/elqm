{
 "cells": [
  {
   "cell_type": "code",
   "execution_count": 16,
   "metadata": {},
   "outputs": [],
   "source": [
    "from transformers import (\n",
    "    TokenClassificationPipeline,\n",
    "    AutoModelForTokenClassification,\n",
    "    AutoTokenizer,\n",
    ")\n",
    "from transformers.pipelines import AggregationStrategy\n",
    "import numpy as np\n",
    "import json\n",
    "\n",
    "# Define keyphrase extraction pipeline\n",
    "class KeyphraseExtractionPipeline(TokenClassificationPipeline):\n",
    "    def __init__(self, model, *args, **kwargs):\n",
    "        super().__init__(\n",
    "            model=AutoModelForTokenClassification.from_pretrained(model),\n",
    "            tokenizer=AutoTokenizer.from_pretrained(model),\n",
    "            *args,\n",
    "            **kwargs\n",
    "        )\n",
    "\n",
    "    def postprocess(self, all_outputs):\n",
    "        results = super().postprocess(\n",
    "            all_outputs=all_outputs,\n",
    "            aggregation_strategy=AggregationStrategy.SIMPLE,\n",
    "        )\n",
    "        return np.unique([result.get(\"word\").strip() for result in results])\n"
   ]
  },
  {
   "cell_type": "code",
   "execution_count": 17,
   "metadata": {},
   "outputs": [],
   "source": [
    "# Load pipeline\n",
    "model_name = \"ml6team/keyphrase-extraction-kbir-inspec\"\n",
    "extractor = KeyphraseExtractionPipeline(model=model_name)"
   ]
  },
  {
   "cell_type": "code",
   "execution_count": 18,
   "metadata": {},
   "outputs": [],
   "source": [
    "example_questions = json.load(open(\"example_questions.json\", \"r\"))"
   ]
  },
  {
   "cell_type": "code",
   "execution_count": 19,
   "metadata": {},
   "outputs": [],
   "source": [
    "keywords = []\n",
    "\n",
    "for question in example_questions:\n",
    "    keywords.append(extractor(question))"
   ]
  },
  {
   "cell_type": "code",
   "execution_count": 20,
   "metadata": {},
   "outputs": [
    {
     "name": "stdout",
     "output_type": "stream",
     "text": [
      "How loud are air conditioners allowed to be in urban areas in Germany?\n",
      "Germany\n",
      "air conditioners\n",
      "urban areas\n",
      "\n",
      "Who can verify the financial operations of the Nuclear Safety Account?\n",
      "Nuclear Safety Account\n",
      "financial operations\n",
      "\n",
      "Let's say a member state makes a change to an emergency plan regarding the gas supply. What does it need to do? Does it need to notify anyone?\n",
      "emergency plan\n",
      "gas supply\n",
      "member\n",
      "\n",
      "How does the Renewable Energy Directive (2009/28/EC) define 'renewable energy sources' and what are the compliance requirements for EU Member States in terms of renewable energy targets for 2030?\n",
      "EU Member States\n",
      "Renewable Energy Directive\n",
      "compliance\n",
      "renewable energy sources\n",
      "renewable energy targets\n",
      "\n",
      "In the context of the Guidelines on State aid for environmental protection and energy 2014-2020 (2014/C 200/01), what constitutes illegal state aid in the energy market, and what are the exceptions for green energy subsidies?\n",
      "State aid\n",
      "energy market\n",
      "environmental protection\n",
      "green energy subsidies\n",
      "illegal state aid\n",
      "\n",
      "How does the EU Emission Trading System (ETS) regulate carbon dioxide emissions from the energy sector, and what are the penalties for non-compliance under Regulation (EU) 2018/842?\n",
      "EU Emission Trading System\n",
      "carbon dioxide emissions\n",
      "energy sector\n",
      "\n",
      "Under Regulation (EU) 2019/943, what are the legal requirements for cross-border electricity trading and capacity allocation in the EU internal energy market?\n",
      "EU internal energy market\n",
      "capacity allocation\n",
      "legal requirements\n",
      "\n",
      "According to the Directive 2010/31/EU on the energy performance of buildings, what are the minimum energy performance standards for new buildings and major renovations in EU Member States?\n",
      "EU Member States\n",
      "energy performance standards\n",
      "minimum\n",
      "\n",
      "How does the Council Directive 2013/59/Euratom set safety standards for the protection of health against dangers arising from ionizing radiation, specifically in the context of nuclear energy production?\n",
      "ionizing radiation\n",
      "nuclear energy production\n",
      "safety standards\n",
      "\n",
      "What legal framework does the European Commission propose for the development of offshore renewable energy projects within the EU maritime spatial planning, as per the recent policy communications?\n",
      "EU maritime spatial planning\n",
      "European Commission\n",
      "legal framework\n",
      "offshore renewable energy projects\n",
      "\n",
      "In the EU’s Hydrogen Strategy, what are the guidelines and regulatory measures proposed for the development and integration of hydrogen energy into the European energy market?\n",
      "European energy market\n",
      "hydrogen energy\n",
      "regulatory measures\n",
      "\n",
      "How does the Energy Taxation Directive (2003/96/EC) influence the taxation of energy products and electricity, and what are the proposed amendments to align with the European Green Deal?\n",
      "Energy Taxation Directive\n",
      "European Green Deal\n",
      "taxation\n",
      "\n",
      "What are the legal definitions and regulatory conditions for energy storage systems, including battery storage, in the EU, as per the latest energy storage guidelines or directives?\n",
      "EU\n",
      "battery storage\n",
      "energy\n",
      "energy storage systems\n",
      "legal definitions\n",
      "regulatory conditions\n",
      "\n",
      "What is the capital of Lesotho?\n",
      "Lesotho\n",
      "\n"
     ]
    }
   ],
   "source": [
    "for question, keywords in zip(example_questions, keywords):\n",
    "    print(question)\n",
    "    # Sort by score\n",
    "    for kw in keywords:\n",
    "        print(kw)\n",
    "    print()"
   ]
  }
 ],
 "metadata": {
  "kernelspec": {
   "display_name": "elqm",
   "language": "python",
   "name": "python3"
  },
  "language_info": {
   "codemirror_mode": {
    "name": "ipython",
    "version": 3
   },
   "file_extension": ".py",
   "mimetype": "text/x-python",
   "name": "python",
   "nbconvert_exporter": "python",
   "pygments_lexer": "ipython3",
   "version": "3.11.5"
  }
 },
 "nbformat": 4,
 "nbformat_minor": 2
}
