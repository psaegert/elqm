{
 "cells": [
  {
   "cell_type": "code",
   "execution_count": 191,
   "metadata": {},
   "outputs": [],
   "source": [
    "from keybert import KeyBERT\n",
    "import spacy\n",
    "import json"
   ]
  },
  {
   "cell_type": "code",
   "execution_count": 192,
   "metadata": {},
   "outputs": [],
   "source": [
    "kw_model = KeyBERT()"
   ]
  },
  {
   "cell_type": "code",
   "execution_count": 193,
   "metadata": {},
   "outputs": [],
   "source": [
    "example_questions = json.load(open(\"example_questions.json\", \"r\"))"
   ]
  },
  {
   "cell_type": "code",
   "execution_count": 194,
   "metadata": {},
   "outputs": [],
   "source": [
    "keywords = []\n",
    "\n",
    "for question in example_questions:\n",
    "    keywords.append(kw_model.extract_keywords(question, keyphrase_ngram_range=(1, 2), stop_words=None, top_n=5))"
   ]
  },
  {
   "cell_type": "code",
   "execution_count": 195,
   "metadata": {},
   "outputs": [
    {
     "name": "stdout",
     "output_type": "stream",
     "text": [
      "How loud are air conditioners allowed to be in urban areas in Germany?\n",
      "air conditioners                    0.553\n",
      "in germany                          0.447\n",
      "how loud                            0.435\n",
      "loud are                            0.395\n",
      "urban areas                         0.361\n",
      "\n",
      "Who can verify the financial operations of the Nuclear Safety Account?\n",
      "nuclear safety                      0.615\n",
      "safety account                      0.537\n",
      "financial operations                0.504\n",
      "the nuclear                         0.487\n",
      "nuclear                             0.482\n",
      "\n",
      "Let's say a member state makes a change to an emergency plan regarding the gas supply. What does it need to do? Does it need to notify anyone?\n",
      "emergency plan                      0.563\n",
      "gas supply                          0.387\n",
      "an emergency                        0.382\n",
      "notify anyone                       0.369\n",
      "emergency                           0.349\n",
      "\n",
      "How does the Renewable Energy Directive (2009/28/EC) define 'renewable energy sources' and what are the compliance requirements for EU Member States in terms of renewable energy targets for 2030?\n",
      "renewable energy                    0.502\n",
      "energy directive                    0.482\n",
      "renewable                           0.443\n",
      "the renewable                       0.431\n",
      "energy sources                      0.431\n",
      "\n",
      "In the context of the Guidelines on State aid for environmental protection and energy 2014-2020 (2014/C 200/01), what constitutes illegal state aid in the energy market, and what are the exceptions for green energy subsidies?\n",
      "energy subsidies                    0.595\n",
      "subsidies                           0.474\n",
      "state aid                           0.472\n",
      "energy market                       0.422\n",
      "green energy                        0.374\n",
      "\n",
      "How does the EU Emission Trading System (ETS) regulate carbon dioxide emissions from the energy sector, and what are the penalties for non-compliance under Regulation (EU) 2018/842?\n",
      "ets regulate                        0.608\n",
      "regulation eu                       0.601\n",
      "eu emission                         0.600\n",
      "emission trading                    0.552\n",
      "emissions                           0.531\n",
      "\n",
      "Under Regulation (EU) 2019/943, what are the legal requirements for cross-border electricity trading and capacity allocation in the EU internal energy market?\n",
      "regulation eu                       0.557\n",
      "electricity trading                 0.519\n",
      "energy market                       0.490\n",
      "eu internal                         0.488\n",
      "border electricity                  0.443\n",
      "\n",
      "According to the Directive 2010/31/EU on the energy performance of buildings, what are the minimum energy performance standards for new buildings and major renovations in EU Member States?\n",
      "energy performance                  0.500\n",
      "performance standards               0.473\n",
      "new buildings                       0.440\n",
      "major renovations                   0.400\n",
      "minimum energy                      0.381\n",
      "\n",
      "How does the Council Directive 2013/59/Euratom set safety standards for the protection of health against dangers arising from ionizing radiation, specifically in the context of nuclear energy production?\n",
      "safety standards                    0.537\n",
      "radiation specifically              0.508\n",
      "ionizing radiation                  0.507\n",
      "radiation                           0.481\n",
      "against dangers                     0.446\n",
      "\n",
      "What legal framework does the European Commission propose for the development of offshore renewable energy projects within the EU maritime spatial planning, as per the recent policy communications?\n",
      "offshore renewable                  0.572\n",
      "eu maritime                         0.559\n",
      "european commission                 0.499\n",
      "offshore                            0.454\n",
      "the eu                              0.445\n",
      "\n",
      "In the EU’s Hydrogen Strategy, what are the guidelines and regulatory measures proposed for the development and integration of hydrogen energy into the European energy market?\n",
      "eu hydrogen                         0.711\n",
      "hydrogen strategy                   0.632\n",
      "hydrogen energy                     0.551\n",
      "european energy                     0.539\n",
      "hydrogen                            0.520\n",
      "\n",
      "How does the Energy Taxation Directive (2003/96/EC) influence the taxation of energy products and electricity, and what are the proposed amendments to align with the European Green Deal?\n",
      "energy taxation                     0.703\n",
      "taxation directive                  0.592\n",
      "taxation                            0.483\n",
      "the taxation                        0.471\n",
      "taxation of                         0.457\n",
      "\n",
      "What are the legal definitions and regulatory conditions for energy storage systems, including battery storage, in the EU, as per the latest energy storage guidelines or directives?\n",
      "energy storage                      0.610\n",
      "storage guidelines                  0.553\n",
      "battery storage                     0.520\n",
      "legal definitions                   0.409\n",
      "storage systems                     0.399\n",
      "\n",
      "What is the capital of Lesotho?\n",
      "lesotho                             0.850\n",
      "of lesotho                          0.837\n",
      "the capital                         0.555\n",
      "capital of                          0.496\n",
      "capital                             0.494\n",
      "\n"
     ]
    }
   ],
   "source": [
    "for question, keywords in zip(example_questions, keywords):\n",
    "    print(question)\n",
    "    # Sort by score\n",
    "    keywords.sort(key=lambda x: x[1], reverse=True)\n",
    "    for kw in keywords:\n",
    "        print(f'{kw[0]:<35} {kw[1]:.3f}')\n",
    "    print()"
   ]
  }
 ],
 "metadata": {
  "kernelspec": {
   "display_name": "elqm",
   "language": "python",
   "name": "python3"
  },
  "language_info": {
   "codemirror_mode": {
    "name": "ipython",
    "version": 3
   },
   "file_extension": ".py",
   "mimetype": "text/x-python",
   "name": "python",
   "nbconvert_exporter": "python",
   "pygments_lexer": "ipython3",
   "version": "3.11.5"
  }
 },
 "nbformat": 4,
 "nbformat_minor": 2
}
