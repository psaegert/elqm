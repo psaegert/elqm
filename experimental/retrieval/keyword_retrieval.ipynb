{
 "cells": [
  {
   "cell_type": "code",
   "execution_count": 19,
   "metadata": {},
   "outputs": [],
   "source": [
    "import spacy\n",
    "import json"
   ]
  },
  {
   "cell_type": "code",
   "execution_count": 20,
   "metadata": {},
   "outputs": [],
   "source": [
    "# Load the English tokenizer, tagger, parser, NER and word vectors\n",
    "nlp = spacy.load(\"en_core_web_trf\")"
   ]
  },
  {
   "cell_type": "code",
   "execution_count": 21,
   "metadata": {},
   "outputs": [],
   "source": [
    "example_questions = json.load(open(\"example_questions.json\", \"r\"))"
   ]
  },
  {
   "cell_type": "code",
   "execution_count": 22,
   "metadata": {},
   "outputs": [
    {
     "name": "stdout",
     "output_type": "stream",
     "text": [
      "Question: How loud are air conditioners allowed to be in urban areas in Germany?\n",
      "Keywords: ['loud', 'air', 'conditioners', 'allowed', 'urban', 'areas', 'Germany']\n",
      "\n",
      "Question: Who can verify the financial operations of the Nuclear Safety Account?\n",
      "Keywords: ['verify', 'financial', 'operations', 'Nuclear', 'Safety', 'Account']\n",
      "\n",
      "Question: Let's say a member state makes a change to an emergency plan regarding the gas supply. What does it need to do? Does it need to notify anyone?\n",
      "Keywords: ['Let', 'member', 'state', 'makes', 'change', 'emergency', 'plan', 'gas', 'supply', 'need', 'need', 'notify']\n",
      "\n"
     ]
    }
   ],
   "source": [
    "# create an empty list to store the keywords for each question\n",
    "all_keywords = []\n",
    "\n",
    "# loop through each question in the example_questions list\n",
    "for question in example_questions:\n",
    "    # process the sentence\n",
    "    doc = nlp(question)\n",
    "    \n",
    "    # extract keywords by filtering parts of speech\n",
    "    keywords = [token.text for token in doc if (token.pos_ in ('NOUN', 'PROPN', 'ADJ', 'VERB') and not token.is_stop)]\n",
    "    \n",
    "    # append the keywords to the all_keywords list\n",
    "    all_keywords.append(keywords)\n",
    "\n",
    "# print the results side by side\n",
    "for i in range(len(example_questions)):\n",
    "    print(f\"Question: {example_questions[i]}\")\n",
    "    print(f\"Keywords: {all_keywords[i]}\")\n",
    "    print()"
   ]
  },
  {
   "cell_type": "code",
   "execution_count": 30,
   "metadata": {},
   "outputs": [],
   "source": [
    "\n",
    "def get_query_from_question(question: str) -> list:\n",
    "    doc = nlp(question)\n",
    "\n",
    "    # Improved POS tags\n",
    "    pos_tags = ('NOUN', 'PROPN', 'VERB', 'ADJ')\n",
    "    relevant_tokens = [token.text for token in doc if token.pos_ in pos_tags and token.text.lower() not in nlp.Defaults.stop_words]\n",
    "\n",
    "    # Enhanced Dependency Parsing for phrase extraction\n",
    "    phrases = []\n",
    "    for token in doc:\n",
    "        if token.pos_ in ('NOUN', 'PROPN') and token.dep_ in ('nsubj', 'dobj', 'pobj'):\n",
    "            subtree_span = doc[token.left_edge.i : token.right_edge.i + 1]\n",
    "            phrase = subtree_span.text\n",
    "            if len(phrase.split()) > 1:  # Ensuring phrase length is more than one word\n",
    "                phrases.append(phrase)\n",
    "\n",
    "    # Named Entities\n",
    "    entities = [ent.text for ent in doc.ents]\n",
    "\n",
    "    # Combine and filter\n",
    "    all_keywords = set(relevant_tokens + phrases + entities)\n",
    "    query_keywords = [kw for kw in all_keywords if kw.lower() not in nlp.Defaults.stop_words]\n",
    "\n",
    "    return list(set(query_keywords))"
   ]
  },
  {
   "cell_type": "code",
   "execution_count": 31,
   "metadata": {},
   "outputs": [
    {
     "data": {
      "text/plain": [
       "['an emergency plan',\n",
       " 'state',\n",
       " 'supply',\n",
       " 'need',\n",
       " 'emergency',\n",
       " 'gas',\n",
       " 'notify',\n",
       " 'member',\n",
       " 'Let',\n",
       " 'a member state',\n",
       " 'change',\n",
       " 'a change to an emergency plan regarding the gas supply',\n",
       " 'the gas supply',\n",
       " 'plan',\n",
       " 'makes']"
      ]
     },
     "execution_count": 31,
     "metadata": {},
     "output_type": "execute_result"
    }
   ],
   "source": [
    "get_query_from_question(example_questions[2])"
   ]
  }
 ],
 "metadata": {
  "kernelspec": {
   "display_name": "elqm",
   "language": "python",
   "name": "python3"
  },
  "language_info": {
   "codemirror_mode": {
    "name": "ipython",
    "version": 3
   },
   "file_extension": ".py",
   "mimetype": "text/x-python",
   "name": "python",
   "nbconvert_exporter": "python",
   "pygments_lexer": "ipython3",
   "version": "3.11.5"
  }
 },
 "nbformat": 4,
 "nbformat_minor": 2
}
