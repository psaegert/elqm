{
 "cells": [
  {
   "cell_type": "code",
   "execution_count": 130,
   "metadata": {},
   "outputs": [],
   "source": [
    "import yake\n",
    "import json"
   ]
  },
  {
   "cell_type": "code",
   "execution_count": 131,
   "metadata": {},
   "outputs": [],
   "source": [
    "example_questions = json.load(open(\"example_questions.json\", \"r\"))"
   ]
  },
  {
   "cell_type": "code",
   "execution_count": 132,
   "metadata": {},
   "outputs": [],
   "source": [
    "kw_extractor = yake.KeywordExtractor(n=2, top=5)"
   ]
  },
  {
   "cell_type": "code",
   "execution_count": 133,
   "metadata": {},
   "outputs": [],
   "source": [
    "keywords = []\n",
    "\n",
    "for question in example_questions:\n",
    "    keywords.append(kw_extractor.extract_keywords(question))"
   ]
  },
  {
   "cell_type": "code",
   "execution_count": 134,
   "metadata": {},
   "outputs": [
    {
     "data": {
      "text/plain": [
       "tuple"
      ]
     },
     "execution_count": 134,
     "metadata": {},
     "output_type": "execute_result"
    }
   ],
   "source": [
    "type(keywords[0][1])"
   ]
  },
  {
   "cell_type": "code",
   "execution_count": 135,
   "metadata": {},
   "outputs": [
    {
     "name": "stdout",
     "output_type": "stream",
     "text": [
      "How loud are air conditioners allowed to be in urban areas in Germany?\n",
      "loud                                0.158\n",
      "Germany                             0.057\n",
      "air conditioners                    0.026\n",
      "conditioners allowed                0.026\n",
      "urban areas                         0.026\n",
      "\n",
      "Who can verify the financial operations of the Nuclear Safety Account?\n",
      "Nuclear                             0.086\n",
      "Account                             0.057\n",
      "financial operations                0.026\n",
      "Nuclear Safety                      0.007\n",
      "Safety Account                      0.005\n",
      "\n",
      "Let's say a member state makes a change to an emergency plan regarding the gas supply. What does it need to do? Does it need to notify anyone?\n",
      "supply                              0.111\n",
      "member state                        0.028\n",
      "state makes                         0.028\n",
      "emergency plan                      0.028\n",
      "gas supply                          0.019\n",
      "\n",
      "How does the Renewable Energy Directive (2009/28/EC) define 'renewable energy sources' and what are the compliance requirements for EU Member States in terms of renewable energy targets for 2030?\n",
      "energy sources'                     0.019\n",
      "energy targets                      0.019\n",
      "Energy Directive                    0.007\n",
      "Member States                       0.006\n",
      "Renewable Energy                    0.005\n",
      "\n",
      "In the context of the Guidelines on State aid for environmental protection and energy 2014-2020 (2014/C 200/01), what constitutes illegal state aid in the energy market, and what are the exceptions for green energy subsidies?\n",
      "energy 2014-2020                    0.016\n",
      "environmental protection            0.015\n",
      "constitutes illegal                 0.015\n",
      "illegal state                       0.010\n",
      "State aid                           0.005\n",
      "\n",
      "How does the EU Emission Trading System (ETS) regulate carbon dioxide emissions from the energy sector, and what are the penalties for non-compliance under Regulation (EU) 2018/842?\n",
      "dioxide emissions                   0.015\n",
      "regulate carbon                     0.011\n",
      "energy sector                       0.011\n",
      "Emission Trading                    0.008\n",
      "Trading System                      0.004\n",
      "\n",
      "Under Regulation (EU) 2019/943, what are the legal requirements for cross-border electricity trading and capacity allocation in the EU internal energy market?\n",
      "legal requirements                  0.026\n",
      "cross-border electricity            0.026\n",
      "electricity trading                 0.026\n",
      "capacity allocation                 0.026\n",
      "energy market                       0.015\n",
      "\n",
      "According to the Directive 2010/31/EU on the energy performance of buildings, what are the minimum energy performance standards for new buildings and major renovations in EU Member States?\n",
      "minimum energy                      0.021\n",
      "performance standards               0.021\n",
      "major renovations                   0.020\n",
      "energy performance                  0.011\n",
      "Member States                       0.004\n",
      "\n",
      "How does the Council Directive 2013/59/Euratom set safety standards for the protection of health against dangers arising from ionizing radiation, specifically in the context of nuclear energy production?\n",
      "set safety                          0.014\n",
      "ionizing radiation                  0.009\n",
      "energy production                   0.009\n",
      "Euratom set                         0.006\n",
      "Council Directive                   0.003\n",
      "\n",
      "What legal framework does the European Commission propose for the development of offshore renewable energy projects within the EU maritime spatial planning, as per the recent policy communications?\n",
      "legal framework                     0.009\n",
      "spatial planning                    0.007\n",
      "policy communications               0.007\n",
      "Commission propose                  0.005\n",
      "European Commission                 0.003\n",
      "\n",
      "In the EU’s Hydrogen Strategy, what are the guidelines and regulatory measures proposed for the development and integration of hydrogen energy into the European energy market?\n",
      "regulatory measures                 0.013\n",
      "measures proposed                   0.013\n",
      "energy market                       0.012\n",
      "European energy                     0.009\n",
      "Hydrogen Strategy                   0.005\n",
      "\n",
      "How does the Energy Taxation Directive (2003/96/EC) influence the taxation of energy products and electricity, and what are the proposed amendments to align with the European Green Deal?\n",
      "energy products                     0.011\n",
      "Energy Taxation                     0.010\n",
      "Taxation Directive                  0.005\n",
      "European Green                      0.004\n",
      "Green Deal                          0.003\n",
      "\n",
      "What are the legal definitions and regulatory conditions for energy storage systems, including battery storage, in the EU, as per the latest energy storage guidelines or directives?\n",
      "legal definitions                   0.021\n",
      "regulatory conditions               0.021\n",
      "storage systems                     0.020\n",
      "energy storage                      0.016\n",
      "including battery                   0.014\n",
      "\n",
      "What is the capital of Lesotho?\n",
      "capital                             0.297\n",
      "Lesotho                             0.086\n",
      "\n"
     ]
    }
   ],
   "source": [
    "for question, keywords in zip(example_questions, keywords):\n",
    "    print(question)\n",
    "    # Sort by score\n",
    "    keywords.sort(key=lambda x: x[1], reverse=True)\n",
    "    for kw in keywords:\n",
    "        print(f'{kw[0]:<35} {kw[1]:.3f}')\n",
    "    print()"
   ]
  }
 ],
 "metadata": {
  "kernelspec": {
   "display_name": "elqm",
   "language": "python",
   "name": "python3"
  },
  "language_info": {
   "codemirror_mode": {
    "name": "ipython",
    "version": 3
   },
   "file_extension": ".py",
   "mimetype": "text/x-python",
   "name": "python",
   "nbconvert_exporter": "python",
   "pygments_lexer": "ipython3",
   "version": "3.11.5"
  }
 },
 "nbformat": 4,
 "nbformat_minor": 2
}
