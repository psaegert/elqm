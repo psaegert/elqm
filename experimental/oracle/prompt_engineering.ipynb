{
 "cells": [
  {
   "cell_type": "code",
   "execution_count": 95,
   "metadata": {},
   "outputs": [],
   "source": [
    "from langchain.llms import Ollama\n",
    "import re"
   ]
  },
  {
   "cell_type": "code",
   "execution_count": 96,
   "metadata": {},
   "outputs": [],
   "source": [
    "qustion_types = {\n",
    "    \"confirmation\": \"Focus only on confirmation questions, i.e. questions that can be answered with a yes or no.\",\n",
    "    \"factoid\": \"Focus only on factoid questions, that usually begin with a who, what, where, when, why, or how.\",\n",
    "    \"list\": \"Focus only on list questions, i.e. questions that are answered with a list of items.\",\n",
    "    \"causal\": \"Focus only on causal questions, i.e. questions that begin with why or how.\",\n",
    "    \"hypothetical\": \"Focus only on hypothetical questions, i.e. questions that ask what if.\",\n",
    "    \"complex\": \"Focus only on complex questions, i.e. questions that require multi-step reasoning and comparisons.\",\n",
    "    \"default\": \"\"\n",
    "}"
   ]
  },
  {
   "cell_type": "code",
   "execution_count": 97,
   "metadata": {},
   "outputs": [],
   "source": [
    "def generate_question_answer_pairs(context, prompt=None, question_type=None, n=1, verbose=False):\n",
    "    if prompt is None:\n",
    "        \n",
    "        question_type_prompt = qustion_types.get(question_type, qustion_types[\"default\"])\n",
    "\n",
    "        prompt = f'You are Mistral-Jeopardy, an intelligent AI agent that guesses questions that would answered by a particular exerpt of text. \\\n",
    "            You are given the following exerpt of text:\\n\\n```\\n{context}```\\n\\nGenerate {n} questions that would be answered by the exerpt of text. {question_type_prompt} \\\n",
    "            Format the pairs as follows: `{{QUESTION i}}: <question i> {{ANSWER i}}: <answer i>`. Do not deviate from this format, since it will be used to extract the questions with a regex.\\n\\n'\n",
    "\n",
    "    # for token in ollama.stream(prompt):\n",
    "    #     print(token, end=\"\")\n",
    "        \n",
    "    # Clear the message history\n",
    "    ollama = Ollama(\n",
    "        base_url=\"http://localhost:11434\",\n",
    "        model=\"llama2\",\n",
    "        verbose=True,\n",
    "        stop=[\"<|im_end|>\"]\n",
    "    )\n",
    "\n",
    "    # Generate the question-answer pairs\n",
    "    qa_pairs = ollama(prompt)\n",
    "\n",
    "    # Filter out the question-answer pairs\n",
    "    qa_pairs = re.findall(r'{QUESTION \\d+}: .+ {ANSWER \\d+}: .+', qa_pairs)\n",
    "\n",
    "    questions = []\n",
    "    answers = []\n",
    "\n",
    "    for qa_pair in qa_pairs:\n",
    "        question, answer = qa_pair.split(\"{ANSWER\")[0].split(\"}: \")[1], qa_pair.split(\"{ANSWER\")[1].split(\"}: \")[1]\n",
    "        questions.append(question)\n",
    "        answers.append(answer)\n",
    "\n",
    "    if len(questions) == 0 or len(answers) == 0:\n",
    "        raise Exception(f\"No question-answer pairs were generated: {qa_pairs}\")\n",
    "\n",
    "    return questions, answers"
   ]
  },
  {
   "cell_type": "code",
   "execution_count": 101,
   "metadata": {},
   "outputs": [
    {
     "data": {
      "text/plain": [
       "2841"
      ]
     },
     "execution_count": 101,
     "metadata": {},
     "output_type": "execute_result"
    }
   ],
   "source": [
    "example_document = \"\"\"\n",
    "\n",
    "EUR-Lex - 32001Y0123(02) - EN\n",
    "Avis juridique important\n",
    "|\n",
    "32001Y0123(02)\n",
    "Commission opinion of 20 December 2000 concerning the plan for the disposal of radioactive waste from the commissioning of the liquid metal disposal plant (LMDP) and the waste receipt, assay, characterisation and supercompaction facility (WRACS) located on the Dounreay nuclear site in Scotland (United Kingdom), in accordance with Article 37 of the Euratom Treaty  \n",
    "Official Journal C 020 , 23/01/2001 P. 0004 - 0004 \n",
    "Commission opinionof 20 December 2000concerning the plan for the disposal of radioactive waste from the commissioning of the liquid metal disposal plant (LMDP) and the waste receipt, assay, characterisation and supercompaction facility (WRACS) located on the Dounreay nuclear site in Scotland (United Kingdom), in accordance with Article 37 of the Euratom Treaty(2001/C 20/03)(Only the English text is authentic)On 8 June 2000 the European Commission received from the United Kingdom Government, in accordance with Article 37 of the Euratom Treaty, general data relating to the plan for the disposal of radioactive waste resulting from the commissioning of the liquid metal disposal plant (LMDP) and the waste receipt, assay, characterisation and supercompaction facility (WRACS).On the basis of these data and clarifications subsequently provided by the United Kingdom Government, and following consultation with the group of experts, the Commission has drawn up the following opinion:(a) The distance between the plant and the nearest point of another Member State, in this case Denmark (Faeroe Islands), is approximately 370 km;(b) Under normal operating conditions, the discharges of liquid and gaseous effluents will not cause an exposure of the population in other Member States that is significant from the point of view of health;(c) Solid low and intermediate level radioactive waste arising from the operations of the LMDP and WRACS will be stored on-site. Off-site movement of waste is not currently envisaged;(d) In the event of unplanned discharges of radioactive waste, which may follow an accident on the scale considered in the General Data, the doses likely to be received by the population in other Member States would not be significant from the point of view of health.In conclusion, the Commission is of the opinion that the implementation of the plan for the disposal of radioactive waste, resulting from the commissioning of the liquid metal disposal plant (LMDP) and the waste receipt, assay, characterisation and supercompaction facility (WRACS), both in normal operation and in the event of an accident of the type and magnitude considered in the General Data, is not liable to result in the radioactive contamination, significant from the point of view of health, of the water, soil or airspace of another Member State. \n",
    "\"\"\"\n",
    "len(example_document)"
   ]
  },
  {
   "cell_type": "code",
   "execution_count": 99,
   "metadata": {},
   "outputs": [
    {
     "name": "stdout",
     "output_type": "stream",
     "text": [
      "Question 1: What is the distance between the plant and the nearest point of another Member State? \n",
      "Answer 1: Approximately 370 km.\n",
      "\n",
      "Question 2: Under normal operating conditions, will the discharges of liquid and gaseous effluents cause an exposure of the population in other Member States that is significant from the point of view of health? \n",
      "Answer 2: No, the doses likely to be received by the population in other Member States would not be significant from the point of view of health.\n",
      "\n",
      "Question 3: In the event of unplanned discharges of radioactive waste, what are the likely doses that would be received by the population in other Member States? \n",
      "Answer 3: The doses likely to be received by the population in other Member States would not be significant from the point of view of health.\n",
      "\n",
      "Question 4: What is the storage location for solid low and intermediate level radioactive waste arising from the operations of the LMDP and WRACS? \n",
      "Answer 4: Solid low and intermediate level radioactive waste will be stored on-site. Off-site movement of waste is not currently envisaged.\n",
      "\n",
      "Question 5: In the event of an accident, what are the likely doses that would be received by the population in other Member States? \n",
      "Answer 5: The doses likely to be received by the population in other Member States would not be significant from the point of view of health.\n",
      "\n"
     ]
    }
   ],
   "source": [
    "qa_pairs = generate_question_answer_pairs(example_document, n=5)\n",
    "\n",
    "for i, (question, answer) in enumerate(zip(*qa_pairs)):\n",
    "    print(f\"Question {i+1}: {question}\\nAnswer {i+1}: {answer}\\n\")"
   ]
  },
  {
   "cell_type": "code",
   "execution_count": 100,
   "metadata": {},
   "outputs": [
    {
     "name": "stdout",
     "output_type": "stream",
     "text": [
      "Question type: confirmation\n",
      "\n",
      "Question 1: Will the discharges of liquid and gaseous effluents from the plant cause an exposure of the population in other Member States that is significant from the point of view of health? \n",
      "Answer 1: No.\n",
      "\n",
      "Question 2: Is solid low and intermediate level radioactive waste arising from the operations of the LMDP and WRACS stored on-site? \n",
      "Answer 2: Yes.\n",
      "\n",
      "Question 3: In the event of unplanned discharges of radioactive waste, would the doses likely to be received by the population in other Member States be significant from the point of view of health? \n",
      "Answer 3: No.\n",
      "\n",
      "Question 4: Is the implementation of the plan for the disposal of radioactive waste resulting from the commissioning of the liquid metal disposal plant (LMDP) and the waste receipt, assay, characterisation and supercompaction facility (WRACS), both in normal operation and in the event of an accident of the type and magnitude considered in the General Data, liable to result in the radioactive contamination, significant from the point of view of health, of the water, soil or airspace of another Member State? \n",
      "Answer 4: No.\n",
      "\n",
      "Question 5: Will the distance between the plant and the nearest point of another Member State, in this case Denmark (Faeroe Islands), be approximately 370 km? \n",
      "Answer 5: Yes.\n",
      "\n",
      "Question type: factoid\n",
      "\n",
      "Question 1: What is the distance between the plant and the nearest point of another Member State? \n",
      "Answer 1: Approximately 370 km.\n",
      "\n",
      "Question 2: Under normal operating conditions, what will not cause an exposure of the population in other Member States that is significant from the point of view of health? \n",
      "Answer 2: Discharges of liquid and gaseous effluents.\n",
      "\n",
      "Question 3: What type of waste will be stored on-site? \n",
      "Answer 3: Solid low and intermediate level radioactive waste arising from the operations of the LMDP and WRACS.\n",
      "\n",
      "Question 4: In the event of unplanned discharges of radioactive waste, what are the doses likely to be received by the population in other Member States? \n",
      "Answer 4: Not significant from the point of view of health.\n",
      "\n",
      "Question 5: Why is the implementation of the plan for the disposal of radioactive waste not liable to result in the radioactive contamination of the water, soil or airspace of another Member State? \n",
      "Answer 5: Because the discharges of liquid and gaseous effluents will not cause an exposure of the population in other Member States that is significant from the point of view of health.\n",
      "\n",
      "Question type: list\n",
      "\n",
      "Question type: causal\n",
      "\n",
      "Question 1: Why is the distance between the plant and the nearest point of another Member State approximately 370 km? \n",
      "Answer 1: According to the excerpt, the distance between the plant and the nearest point of another Member State, in this case Denmark (Faeroe Islands), is approximately 370 km.\n",
      "\n",
      "Question 2: How will the discharges of liquid and gaseous effluents not cause an exposure of the population in other Member States that is significant from the point of view of health? \n",
      "Answer 2: Under normal operating conditions, the discharges of liquid and gaseous effluents will not cause an exposure of the population in other Member States that is significant from the point of view of health.\n",
      "\n",
      "Question 3: Why will solid low and intermediate level radioactive waste arising from the operations of the LMDP and WRACS be stored on-site? \n",
      "Answer 3: Solid low and intermediate level radioactive waste arising from the operations of the LMDP and WRACS will be stored on-site, rather than being moved off-site.\n",
      "\n",
      "Question 4: How likely are the doses likely to be received by the population in other Member States to be significant from the point of view of health in the event of unplanned discharges of radioactive waste? \n",
      "Answer 4: In the event of unplanned discharges of radioactive waste, which may follow an accident on the scale considered in the General Data, the doses likely to be received by the population in other Member States would not be significant from the point of view of health.\n",
      "\n",
      "Question 5: Why is it that the implementation of the plan for the disposal of radioactive waste, resulting from the commissioning of the liquid metal disposal plant (LMDP) and the waste receipt, assay, characterisation and supercompaction facility (WRACS), both in normal operation and in the event of an accident of the type and magnitude considered in the General Data, is not liable to result in the radioactive contamination, significant from the point of view of health, of the water, soil or airspace of another Member State? \n",
      "Answer 5: According to the excerpt, the implementation of the plan for the disposal of radioactive waste, resulting from the commissioning of the liquid metal disposal plant (LMDP) and the waste receipt, assay, characterisation and supercompaction facility (WRACS), both in normal operation and in the event of an accident of the type and magnitude considered in the General Data, is not liable to result in the radioactive contamination, significant from the point of view of health, of the water, soil or airspace of another Member State.\n",
      "\n",
      "Question type: hypothetical\n",
      "\n",
      "Question 1: What if the distance between the plant and the nearest point of another Member State were to change? \n",
      "Answer 1: According to the excerpt, if the distance between the plant and the nearest point of another Member State were to change, it would not cause an exposure of the population in other Member States that is significant from the point of view of health.\n",
      "\n",
      "Question 2: What if the discharges of liquid and gaseous effluents were to occur more frequently than normal operating conditions? \n",
      "Answer 2: Under normal operating conditions, the discharges of liquid and gaseous effluents will not cause an exposure of the population in other Member States that is significant from the point of view of health. However, if the discharges were to occur more frequently than normal operating conditions, the doses likely to be received by the population in other Member States would increase.\n",
      "\n",
      "Question 3: What if solid low and intermediate level radioactive waste arising from the operations of the LMDP and WRACS were to be moved off-site? \n",
      "Answer 3: Solid low and intermediate level radioactive waste arising from the operations of the LMDP and WRACS will be stored on-site. Off-site movement of waste is not currently envisaged.\n",
      "\n",
      "Question 4: What if an accident were to occur on the scale considered in the General Data? \n",
      "Answer 4: In the event of an accident on the scale considered in the General Data, the doses likely to be received by the population in other Member States would increase significantly from the point of view of health.\n",
      "\n",
      "Question 5: What if the plant were to be located near a major water source? \n",
      "Answer 5: The location of the plant near a major water source could potentially lead to radioactive contamination of the water, soil or airspace of another Member State.\n",
      "\n",
      "Question type: complex\n",
      "\n",
      "Question 1: What is the distance between the plant and the nearest point of another Member State? \n",
      "Answer 1: The distance between the plant and the nearest point of another Member State, in this case Denmark (Faeroe Islands), is approximately 370 km.\n",
      "\n",
      "Question 2: Under normal operating conditions, what will be the discharges of liquid and gaseous effluents? \n",
      "Answer 2: Under normal operating conditions, the discharges of liquid and gaseous effluents will not cause an exposure of the population in other Member States that is significant from the point of view of health.\n",
      "\n",
      "Question 3: How will solid low and intermediate level radioactive waste arising from the operations of the LMDP and WRACS be stored? \n",
      "Answer 3: Solid low and intermediate level radioactive waste arising from the operations of the LMDP and WRACS will be stored on-site. Off-site movement of waste is not currently envisaged.\n",
      "\n",
      "Question 4: What are the likely doses that would be received by the population in other Member States in the event of unplanned discharges of radioactive waste? \n",
      "Answer 4: In the event of unplanned discharges of radioactive waste, which may follow an accident on the scale considered in the General Data, the doses likely to be received by the population in other Member States would not be significant from the point of view of health.\n",
      "\n",
      "Question 5: Is the implementation of the plan for the disposal of radioactive waste liable to result in the radioactive contamination of the water, soil or airspace of another Member State? \n",
      "Answer 5: In conclusion, the Commission is of the opinion that the implementation of the plan for the disposal of radioactive waste, resulting from the commissioning of the liquid metal disposal plant (LMDP) and the waste receipt, assay, characterisation and supercompaction facility (WRACS), both in normal operation and in the event of an accident of the type and magnitude considered in the General Data, is not liable to result in the radioactive contamination, significant from the point of view of health, of the water, soil or airspace of another Member State.\n",
      "\n",
      "Question type: default\n",
      "\n",
      "Question 1: What is the distance between the plant and the nearest point of another Member State? \n",
      "Answer 1: Approximately 370 km.\n",
      "\n",
      "Question 2: Under normal operating conditions, what will happen to solid low and intermediate level radioactive waste arising from the operations of the LMDP and WRACS? \n",
      "Answer 2: It will be stored on-site.\n",
      "\n",
      "Question 3: In the event of unplanned discharges of radioactive waste, what is likely to happen to the doses received by the population in other Member States? \n",
      "Answer 3: They would not be significant from the point of view of health.\n",
      "\n",
      "Question 4: What is the Commission's opinion on the implementation of the plan for the disposal of radioactive waste, in normal operation and in the event of an accident of a certain type and magnitude? \n",
      "Answer 4: The Commission is of the opinion that it is not liable to result in the radioactive contamination, significant from the point of view of health, of the water, soil or airspace of another Member State.\n",
      "\n",
      "Question 5: What is the basis for the Commission's opinion on the implementation of the plan? \n",
      "Answer 5: It is based on the general data received from the United Kingdom Government and subsequent clarifications, as well as consultation with a group of experts.\n",
      "\n"
     ]
    }
   ],
   "source": [
    "for question_type in qustion_types:\n",
    "    qa_pairs = generate_question_answer_pairs(example_document, question_type=question_type, n=5)\n",
    "\n",
    "    print(f\"Question type: {question_type}\\n\")\n",
    "    for i, (question, answer) in enumerate(zip(*qa_pairs)):\n",
    "        print(f\"Question {i+1}: {question}\\nAnswer {i+1}: {answer}\\n\")"
   ]
  }
 ],
 "metadata": {
  "kernelspec": {
   "display_name": "elqm",
   "language": "python",
   "name": "python3"
  },
  "language_info": {
   "codemirror_mode": {
    "name": "ipython",
    "version": 3
   },
   "file_extension": ".py",
   "mimetype": "text/x-python",
   "name": "python",
   "nbconvert_exporter": "python",
   "pygments_lexer": "ipython3",
   "version": "3.11.5"
  }
 },
 "nbformat": 4,
 "nbformat_minor": 2
}
