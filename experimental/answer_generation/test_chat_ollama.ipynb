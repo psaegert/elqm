{
 "cells": [
  {
   "cell_type": "code",
   "execution_count": 1,
   "metadata": {},
   "outputs": [],
   "source": [
    "from elqm.answer.ollama_answer import OllamaAnswerer"
   ]
  },
  {
   "cell_type": "code",
   "execution_count": 2,
   "metadata": {},
   "outputs": [],
   "source": [
    "ollama = OllamaAnswerer()"
   ]
  },
  {
   "cell_type": "code",
   "execution_count": 3,
   "metadata": {},
   "outputs": [
    {
     "data": {
      "text/plain": [
       "\" What is the capital city of France? Is it correct to think that it's Berlin?\\n\""
      ]
     },
     "execution_count": 3,
     "metadata": {},
     "output_type": "execute_result"
    }
   ],
   "source": [
    "ollama.understand(\"What is the capital of France? I mean, it should be Berlin, right?\")"
   ]
  },
  {
   "cell_type": "code",
   "execution_count": 3,
   "metadata": {},
   "outputs": [
    {
     "data": {
      "text/plain": [
       "\" The sky appears blue due to the scattering of sunlight by the atmosphere. This phenomenon, called Rayleigh scattering, causes shorter wavelength colors like blue and violet to be scattered more efficiently than longer wavelength colors such as red and orange. Although water in the ocean can also scatter light and contribute to the blueness of its color, it has a negligible impact on the overall sky's appearance. Therefore, the primary reason for the sky being blue is Rayleigh scattering in the atmosphere, not the ocean.\\n\""
      ]
     },
     "execution_count": 3,
     "metadata": {},
     "output_type": "execute_result"
    }
   ],
   "source": [
    "ollama.answer(\"Why is the sky blue? Isn't it because of the ocean?\")"
   ]
  },
  {
   "cell_type": "code",
   "execution_count": 4,
   "metadata": {},
   "outputs": [
    {
     "data": {
      "text/plain": [
       "ChatMessageHistory(messages=[SystemMessage(content='You are a Retrieval Augmented Generation (RAG) system. You are given a question and a list of sources. Your task is to generate an answer to the question based on the sources. Keep your answers concise and recite as little as possible from the sources.'), HumanMessage(content=\"Question: Why is the sky blue? Isn't it because of the ocean?\\n\\nSources:\\n\"), AIMessage(content=\" The sky appears blue due to the scattering of sunlight by the atmosphere. This phenomenon, called Rayleigh scattering, causes shorter wavelength colors like blue and violet to be scattered more efficiently than longer wavelength colors such as red and orange. Although water in the ocean can also scatter light and contribute to the blueness of its color, it has a negligible impact on the overall sky's appearance. Therefore, the primary reason for the sky being blue is Rayleigh scattering in the atmosphere, not the ocean.\\n\")])"
      ]
     },
     "execution_count": 4,
     "metadata": {},
     "output_type": "execute_result"
    }
   ],
   "source": [
    "ollama.messages"
   ]
  },
  {
   "cell_type": "code",
   "execution_count": 5,
   "metadata": {},
   "outputs": [
    {
     "data": {
      "text/plain": [
       "' Your name cannot be determined from the given sources.'"
      ]
     },
     "execution_count": 5,
     "metadata": {},
     "output_type": "execute_result"
    }
   ],
   "source": [
    "ollama.answer(\"What is my name?\")"
   ]
  },
  {
   "cell_type": "code",
   "execution_count": 6,
   "metadata": {},
   "outputs": [
    {
     "data": {
      "text/plain": [
       "\" The sky appears blue due to the scattering of sunlight by the atmosphere, which is called Rayleigh scattering. While water in the ocean can also scatter light and contribute to the blueness of its color, it has a negligible impact on the overall sky's appearance. Therefore, the primary reason for the sky being blue is Rayleigh scattering in the atmosphere, not the ocean.\\n\\nAs for your name, it cannot be determined from the given sources.\\n\\n\""
      ]
     },
     "execution_count": 6,
     "metadata": {},
     "output_type": "execute_result"
    }
   ],
   "source": [
    "ollama.answer(\"When did I tell you my name?\")"
   ]
  }
 ],
 "metadata": {
  "kernelspec": {
   "display_name": "elqm",
   "language": "python",
   "name": "python3"
  },
  "language_info": {
   "codemirror_mode": {
    "name": "ipython",
    "version": 3
   },
   "file_extension": ".py",
   "mimetype": "text/x-python",
   "name": "python",
   "nbconvert_exporter": "python",
   "pygments_lexer": "ipython3",
   "version": "3.11.5"
  }
 },
 "nbformat": 4,
 "nbformat_minor": 2
}
