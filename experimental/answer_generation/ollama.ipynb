{
 "cells": [
  {
   "cell_type": "code",
   "execution_count": 1,
   "metadata": {},
   "outputs": [],
   "source": [
    "from langchain.llms import Ollama\n",
    "import json\n",
    "import re\n",
    "from bs4 import BeautifulSoup\n",
    "from elqm.data import get_raw_data"
   ]
  },
  {
   "cell_type": "code",
   "execution_count": 2,
   "metadata": {},
   "outputs": [],
   "source": [
    "# Create an instance of the Ollama class\n",
    "ollama = Ollama(\n",
    "    base_url=\"http://localhost:11434\",\n",
    "    model=\"dolphin2.2-mistral\",\n",
    "    verbose=True,\n",
    "    stop=[\"<|im_end|>\"]\n",
    ")\n"
   ]
  },
  {
   "cell_type": "markdown",
   "metadata": {},
   "source": [
    "## Test the Ollama class"
   ]
  },
  {
   "cell_type": "code",
   "execution_count": 3,
   "metadata": {},
   "outputs": [
    {
     "name": "stdout",
     "output_type": "stream",
     "text": [
      " You are amazing and I'm so glad to be here to support you. Remember that you are capable of great things, and don't hesitate to ask for help when needed. Stay positive and keep shining!"
     ]
    }
   ],
   "source": [
    "# Stream tokens from the model\n",
    "for token in ollama.stream(\"Say something nice!\"):\n",
    "    print(token, end=\"\")"
   ]
  },
  {
   "cell_type": "markdown",
   "metadata": {},
   "source": [
    "## Ask question with single context"
   ]
  },
  {
   "cell_type": "code",
   "execution_count": 4,
   "metadata": {},
   "outputs": [
    {
     "data": {
      "text/plain": [
       "508"
      ]
     },
     "execution_count": 4,
     "metadata": {},
     "output_type": "execute_result"
    }
   ],
   "source": [
    "data = get_raw_data()\n",
    "len(data)"
   ]
  },
  {
   "cell_type": "code",
   "execution_count": 5,
   "metadata": {},
   "outputs": [],
   "source": [
    "html = list(data.values())[0]['html']\n",
    "\n",
    "# Remove the HTML tags and only keep the text\n",
    "soup = BeautifulSoup(html, \"html.parser\")\n",
    "text = soup.get_text()\n",
    "\n",
    "# Reduce multiple linebreaks to a single linebreak\n",
    "text = re.sub(r\"\\n+\", \"\\n\", text)"
   ]
  },
  {
   "cell_type": "code",
   "execution_count": 6,
   "metadata": {},
   "outputs": [
    {
     "name": "stdout",
     "output_type": "stream",
     "text": [
      "\n",
      "EUR-Lex - 32001Y0123(02) - EN\n",
      "Avis juridique important\n",
      "|\n",
      "32001Y0123(02)\n",
      "Commission opinion of 20 December 2000 concerning the plan for the disposal of radioactive waste from the commissioning of the liquid metal disposal plant (LMDP) and the waste receipt, assay, characterisation and supercompaction facility (WRACS) located on the Dounreay nuclear site in Scotland (United Kingdom), in accordance with Article 37 of the Euratom Treaty  \n",
      "Official Journal C 020 , 23/01/2001 P. 0004 - 0004 \n",
      "Commission opinionof 20 December 2000concerning the plan for the disposal of radioactive waste from the commissioning of the liquid metal disposal plant (LMDP) and the waste receipt, assay, characterisation and supercompaction facility (WRACS) located on the Dounreay nuclear site in Scotland (United Kingdom), in accordance with Article 37 of the Euratom Treaty(2001/C 20/03)(Only the English text is authentic)On 8 June 2000 the European Commission received from the United Kingdom Government, in accordance with Article 37 of the Euratom Treaty, general data relating to the plan for the disposal of radioactive waste resulting from the commissioning of the liquid metal disposal plant (LMDP) and the waste receipt, assay, characterisation and supercompaction facility (WRACS).On the basis of these data and clarifications subsequently provided by the United Kingdom Government, and following consultation with the group of experts, the Commission has drawn up the following opinion:(a) The distance between the plant and the nearest point of another Member State, in this case Denmark (Faeroe Islands), is approximately 370 km;(b) Under normal operating conditions, the discharges of liquid and gaseous effluents will not cause an exposure of the population in other Member States that is significant from the point of view of health;(c) Solid low and intermediate level radioactive waste arising from the operations of the LMDP and WRACS will be stored on-site. Off-site movement of waste is not currently envisaged;(d) In the event of unplanned discharges of radioactive waste, which may follow an accident on the scale considered in the General Data, the doses likely to be received by the population in other Member States would not be significant from the point of view of health.In conclusion, the Commission is of the opinion that the implementation of the plan for the disposal of radioactive waste, resulting from the commissioning of the liquid metal disposal plant (LMDP) and the waste receipt, assay, characterisation and supercompaction facility (WRACS), both in normal operation and in the event of an accident of the type and magnitude considered in the General Data, is not liable to result in the radioactive contamination, significant from the point of view of health, of the water, soil or airspace of another Member State. \n",
      "\n"
     ]
    }
   ],
   "source": [
    "print(text)"
   ]
  },
  {
   "cell_type": "code",
   "execution_count": 7,
   "metadata": {},
   "outputs": [],
   "source": [
    "question = \"What does the commission think aboutthe disposal plans of radioactive waste?\"\n",
    "\n",
    "context = text"
   ]
  },
  {
   "cell_type": "code",
   "execution_count": 8,
   "metadata": {},
   "outputs": [],
   "source": [
    "prompt = f\"Question: {question}\\nContext: {context}\\nAnswer:\""
   ]
  },
  {
   "cell_type": "code",
   "execution_count": 9,
   "metadata": {},
   "outputs": [
    {
     "name": "stdout",
     "output_type": "stream",
     "text": [
      " The European Commission, in accordance with Article 37 of the Euratom Treaty, assessed the plan for the disposal of radioactive waste from the commissioning of the liquid metal disposal plant (LMDP) and the waste receipt, assay, characterisation and supercompaction facility (WRACS) located on the Dounreay nuclear site in Scotland (United Kingdom).\n",
      "\n",
      "The Commission concluded that:\n",
      "1. The distance between the plant and the nearest point of another Member State, Denmark (Faeroe Islands), is approximately 370 km.\n",
      "2. Under normal operating conditions, the discharges of liquid and gaseous effluents will not cause an exposure of the population in other Member States that is significant from the point of view of health.\n",
      "3. Solid low and intermediate level radioactive waste arising from the operations of the LMDP and WRACS will be stored on-site, with off-site movement of waste not currently envisaged.\n",
      "4. In the event of unplanned discharges of radioactive waste, which may follow an accident on the scale considered in the General Data, the doses likely to be received by the population in other Member States would not be significant from the point of view of health.\n",
      "\n",
      "In conclusion, the Commission is of the opinion that the implementation of the plan for the disposal of radioactive waste, resulting from the commissioning of the liquid metal disposal plant (LMDP) and the waste receipt, assay, characterisation and supercompaction facility (WRACS), both in normal operation and in the event of an accident of the type and magnitude considered in the General Data, is not liable to result in the radioactive contamination, significant from the point of view of health, of the water, soil or airspace of another Member State."
     ]
    }
   ],
   "source": [
    "# Stream tokens from the model\n",
    "for token in ollama.stream(prompt):\n",
    "    print(token, end=\"\")"
   ]
  },
  {
   "cell_type": "markdown",
   "metadata": {},
   "source": [
    "## Ask question with retrieved documents"
   ]
  },
  {
   "cell_type": "code",
   "execution_count": 10,
   "metadata": {},
   "outputs": [
    {
     "name": "stderr",
     "output_type": "stream",
     "text": [
      "/home/psaegert/miniconda3/envs/elqm/lib/python3.11/site-packages/tqdm/auto.py:21: TqdmWarning: IProgress not found. Please update jupyter and ipywidgets. See https://ipywidgets.readthedocs.io/en/stable/user_install.html\n",
      "  from .autonotebook import tqdm as notebook_tqdm\n"
     ]
    }
   ],
   "source": [
    "import numpy as np\n",
    "import json\n",
    "\n",
    "from yake import KeywordExtractor\n",
    "from transformers.pipelines import AggregationStrategy\n",
    "from transformers import (\n",
    "    TokenClassificationPipeline,\n",
    "    AutoModelForTokenClassification,\n",
    "    AutoTokenizer,\n",
    ")\n",
    "\n",
    "from bs4 import BeautifulSoup\n",
    "\n",
    "from elqm.retrieval import retrieve\n",
    "from elqm.backend.utils import get_es_connection"
   ]
  },
  {
   "cell_type": "code",
   "execution_count": 11,
   "metadata": {},
   "outputs": [],
   "source": [
    "# Define keyphrase extraction pipeline\n",
    "class KeyphraseExtractionPipeline(TokenClassificationPipeline):\n",
    "    def __init__(self, model, *args, **kwargs):\n",
    "        super().__init__(\n",
    "            model=AutoModelForTokenClassification.from_pretrained(model),\n",
    "            tokenizer=AutoTokenizer.from_pretrained(model),\n",
    "            *args,\n",
    "            **kwargs\n",
    "        )\n",
    "\n",
    "    def postprocess(self, all_outputs):\n",
    "        results = super().postprocess(\n",
    "            all_outputs=all_outputs,\n",
    "            aggregation_strategy=AggregationStrategy.SIMPLE,\n",
    "        )\n",
    "        return np.unique([result.get(\"word\").strip() for result in results])\n"
   ]
  },
  {
   "cell_type": "code",
   "execution_count": 12,
   "metadata": {},
   "outputs": [],
   "source": [
    "# Load pipeline\n",
    "model_name = \"ml6team/keyphrase-extraction-kbir-inspec\"\n",
    "extractor = KeyphraseExtractionPipeline(model=model_name)"
   ]
  },
  {
   "cell_type": "code",
   "execution_count": 13,
   "metadata": {},
   "outputs": [],
   "source": [
    "es = get_es_connection()"
   ]
  },
  {
   "cell_type": "code",
   "execution_count": 14,
   "metadata": {},
   "outputs": [],
   "source": [
    "question = \"What does the commission think aboutthe disposal plans of radioactive waste?\" "
   ]
  },
  {
   "cell_type": "code",
   "execution_count": 15,
   "metadata": {},
   "outputs": [
    {
     "name": "stdout",
     "output_type": "stream",
     "text": [
      "16.260082\n",
      "15.650679\n",
      "15.620362\n",
      "15.422218\n",
      "15.364843\n",
      "15.275118\n",
      "15.10446\n",
      "14.259675\n",
      "13.244931\n",
      "13.128133\n"
     ]
    }
   ],
   "source": [
    "hits = retrieve(question, extractor, KeywordExtractor(n=2, top=5), es)\n",
    "# Print the scores\n",
    "for hit in hits:\n",
    "    print(hit[\"_score\"])"
   ]
  },
  {
   "cell_type": "code",
   "execution_count": 16,
   "metadata": {},
   "outputs": [],
   "source": [
    "processed_texts = []\n",
    "for hit in hits:\n",
    "    bs = BeautifulSoup(hit[\"_source\"][\"text\"], \"html.parser\")\n",
    "    text = bs.get_text()\n",
    "    text = re.sub(r\"\\n+\", \"\\n\", text)\n",
    "    processed_texts.append(text)"
   ]
  },
  {
   "cell_type": "code",
   "execution_count": 17,
   "metadata": {},
   "outputs": [],
   "source": [
    "# Combine the texts into a single string\n",
    "context = \"\\n\\n\".join(processed_texts)"
   ]
  },
  {
   "cell_type": "code",
   "execution_count": 18,
   "metadata": {},
   "outputs": [],
   "source": [
    "prompt = f\"Context: {context}\\nQuestion: {question}\\nAnswer:\""
   ]
  },
  {
   "cell_type": "code",
   "execution_count": 19,
   "metadata": {},
   "outputs": [
    {
     "name": "stdout",
     "output_type": "stream",
     "text": [
      " The European Commission's opinion on the disposal plan for radioactive waste arising from the dismantling of the Trawsfynydd Power Station in the United Kingdom, in accordance with Article 37 of the Euratom Treaty, states that:\n",
      "\n",
      "1. Under normal operating conditions, the discharges of liquid and gaseous effluents will not cause significant exposure to the population in other Member States from a health perspective.\n",
      "2. Solid low and intermediate level radioactive waste will be stored on-site, with off-site movement of waste not currently envisaged.\n",
      "3. In case of unplanned discharges following an accident, the doses likely to be received by the population in other Member States would not be significant from a health perspective.\n",
      "\n",
      "Consequently, the Commission is of the opinion that the implementation of the plan for the disposal of radioactive waste is not liable to result in radioactive contamination, significant from the point of view of health, of the water, soil or airspace of another Member State.:"
     ]
    }
   ],
   "source": [
    "# Stream tokens from the model\n",
    "for token in ollama.stream(prompt):\n",
    "    print(token, end=\"\")"
   ]
  }
 ],
 "metadata": {
  "kernelspec": {
   "display_name": "elqm",
   "language": "python",
   "name": "python3"
  },
  "language_info": {
   "codemirror_mode": {
    "name": "ipython",
    "version": 3
   },
   "file_extension": ".py",
   "mimetype": "text/x-python",
   "name": "python",
   "nbconvert_exporter": "python",
   "pygments_lexer": "ipython3",
   "version": "3.11.5"
  }
 },
 "nbformat": 4,
 "nbformat_minor": 2
}
