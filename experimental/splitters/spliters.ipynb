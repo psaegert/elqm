{
 "cells": [
  {
   "cell_type": "code",
   "execution_count": 1,
   "metadata": {},
   "outputs": [],
   "source": [
    "text1=\"The shimmering moonlight danced across the tranquil lake, casting a spell of serenity upon the night. A gentle breeze whispered through the trees, carrying with it the scent of pine and dew-kissed grass. In the distance, the faint sound of crickets filled the air, their rhythmic chirping adding to the symphony of the night. As I stood there, bathed in the soft glow of the moon, I couldn't help but feel a sense of peace wash over me, as if all the worries of the world had melted away in the beauty of this moment.\""
   ]
  },
  {
   "cell_type": "code",
   "execution_count": 2,
   "metadata": {},
   "outputs": [],
   "source": [
    "text2 = \"The sun dipped low on the horizon, \\nPainting the sky in hues of pink and gold, \\nAs shadows lengthened across the land. \\nI walked along the deserted beach, \\nFeeling the cool sand between my toes \\nAnd listening to the rhythmic crash of waves. \\nSeagulls soared overhead, \\nTheir cries bending with the gentle breeze \\nThat rustled through the palm trees. \\nIn the distance, a lone sailboat \\nGlided gracefully across the shimmering water, \\nIts white sails billowing in the wind. \\nAs the colors of the sky deepened \\nAnd the stars began to twinkle overhead, \\nI found myself lost in contemplation \\nOf the vastness and beauty of the universe. \\nAnd in that moment, \\nI felt a profound sense of peace \\nSettle over me like a comforting blanket, \\nAnd I knew that I was exactly where I was meant to be. \\n\""
   ]
  },
  {
   "cell_type": "code",
   "execution_count": 3,
   "metadata": {},
   "outputs": [],
   "source": [
    "text3 = \"\"\"\n",
    "<!DOCTYPE html>\n",
    "<html>\n",
    "<body>\n",
    "    <div>\n",
    "        <h1>Foo</h1>\n",
    "        <p>Some intro text about Foo.</p>\n",
    "        <div>\n",
    "            <h2>Bar main section</h2>\n",
    "            <p>Some intro text about Bar.</p>\n",
    "            <h3>Bar subsection 1</h3>\n",
    "            <p>Some text about the first subtopic of Bar.</p>\n",
    "            <h3>Bar subsection 2</h3>\n",
    "            <p>Some text about the second subtopic of Bar.</p>\n",
    "        </div>\n",
    "        <div>\n",
    "            <h2>Baz</h2>\n",
    "            <p>Some text about Baz</p>\n",
    "        </div>\n",
    "        <br>\n",
    "        <p>Some concluding text about Foo</p>\n",
    "    </div>\n",
    "</body>\n",
    "</html>\n",
    "\"\"\""
   ]
  },
  {
   "cell_type": "markdown",
   "metadata": {},
   "source": [
    "## Test Character text splitter"
   ]
  },
  {
   "cell_type": "code",
   "execution_count": 4,
   "metadata": {},
   "outputs": [],
   "source": [
    "from langchain.text_splitter import CharacterTextSplitter"
   ]
  },
  {
   "cell_type": "code",
   "execution_count": 5,
   "metadata": {},
   "outputs": [],
   "source": [
    "text_splitter1 = CharacterTextSplitter(\n",
    "    separator=\"\",\n",
    "    chunk_size=10,\n",
    "    chunk_overlap=3,\n",
    "    length_function=len,\n",
    "    is_separator_regex=False,\n",
    ")"
   ]
  },
  {
   "cell_type": "code",
   "execution_count": 6,
   "metadata": {},
   "outputs": [
    {
     "name": "stdout",
     "output_type": "stream",
     "text": [
      "<class 'langchain_core.documents.base.Document'>\n",
      "10\n",
      "page_content='The shimme'\n",
      "\n",
      "10\n",
      "page_content='mmering mo'\n"
     ]
    }
   ],
   "source": [
    "texts = text_splitter1.create_documents([text1])\n",
    "print(type(texts[0]))\n",
    "print(len(texts[0].page_content))\n",
    "print(texts[0])\n",
    "print()\n",
    "print(len(texts[1].page_content))\n",
    "print(texts[1])"
   ]
  },
  {
   "cell_type": "markdown",
   "metadata": {},
   "source": [
    "if you give it a seperator it will split at the seperator. With \"\" it will follow the number as a guidline"
   ]
  },
  {
   "cell_type": "markdown",
   "metadata": {},
   "source": [
    "## Test recursive text splitter"
   ]
  },
  {
   "cell_type": "code",
   "execution_count": 7,
   "metadata": {},
   "outputs": [],
   "source": [
    "from langchain.text_splitter import RecursiveCharacterTextSplitter"
   ]
  },
  {
   "cell_type": "code",
   "execution_count": 8,
   "metadata": {},
   "outputs": [],
   "source": [
    "text_splitter2 = RecursiveCharacterTextSplitter(\n",
    "    separators=[\" \"],\n",
    "    chunk_size=50,\n",
    "    chunk_overlap=5,\n",
    "    length_function=len,\n",
    "    is_separator_regex=False,\n",
    ")"
   ]
  },
  {
   "cell_type": "code",
   "execution_count": 9,
   "metadata": {},
   "outputs": [
    {
     "name": "stdout",
     "output_type": "stream",
     "text": [
      "<class 'langchain_core.documents.base.Document'>\n",
      "\n",
      "Chunk number: 0\n",
      "Chunk length: 48\n",
      "page_content='The sun dipped low on the horizon, \\nPainting the'\n",
      "\n",
      "Chunk number: 1\n",
      "Chunk length: 45\n",
      "page_content='the sky in hues of pink and gold, \\nAs shadows'\n",
      "\n",
      "Chunk number: 2\n",
      "Chunk length: 47\n",
      "page_content='lengthened across the land. \\nI walked along the'\n",
      "\n",
      "Chunk number: 3\n",
      "Chunk length: 42\n",
      "page_content='the deserted beach, \\nFeeling the cool sand'\n",
      "\n",
      "Chunk number: 4\n",
      "Chunk length: 42\n",
      "page_content='sand between my toes \\nAnd listening to the'\n"
     ]
    }
   ],
   "source": [
    "texts = text_splitter2.create_documents([text2])\n",
    "print(type(texts[0]))\n",
    "\n",
    "for i in range(5):\n",
    "    print()\n",
    "    print(\"Chunk number:\", i)\n",
    "    print(\"Chunk length:\", len(texts[i].page_content))\n",
    "    print(texts[i])"
   ]
  },
  {
   "cell_type": "markdown",
   "metadata": {},
   "source": [
    "## Test split by token"
   ]
  },
  {
   "cell_type": "code",
   "execution_count": 10,
   "metadata": {},
   "outputs": [],
   "source": [
    "from langchain.text_splitter import TokenTextSplitter"
   ]
  },
  {
   "cell_type": "code",
   "execution_count": 11,
   "metadata": {},
   "outputs": [],
   "source": [
    "text_splitter3 = TokenTextSplitter(\n",
    "    chunk_size=7,\n",
    "    chunk_overlap=1\n",
    ")"
   ]
  },
  {
   "cell_type": "code",
   "execution_count": 12,
   "metadata": {},
   "outputs": [
    {
     "name": "stdout",
     "output_type": "stream",
     "text": [
      "<class 'langchain_core.documents.base.Document'>\n",
      "\n",
      "Chunk number: 0\n",
      "Chunk length: 33\n",
      "page_content='The sun dipped low on the horizon'\n",
      "\n",
      "Chunk number: 1\n",
      "Chunk length: 23\n",
      "page_content=' horizon, \\nPainting the'\n",
      "\n",
      "Chunk number: 2\n",
      "Chunk length: 24\n",
      "page_content=' the sky in hues of pink'\n",
      "\n",
      "Chunk number: 3\n",
      "Chunk length: 19\n",
      "page_content=' pink and gold, \\nAs'\n",
      "\n",
      "Chunk number: 4\n",
      "Chunk length: 32\n",
      "page_content='As shadows lengthened across the'\n"
     ]
    }
   ],
   "source": [
    "texts = text_splitter3.create_documents([text2])\n",
    "print(type(texts[0]))\n",
    "\n",
    "for i in range(5):\n",
    "    print()\n",
    "    print(\"Chunk number:\", i)\n",
    "    print(\"Chunk length:\", len(texts[i].page_content))\n",
    "    print(texts[i])"
   ]
  },
  {
   "cell_type": "markdown",
   "metadata": {},
   "source": [
    "## Test HTML Splitter"
   ]
  },
  {
   "cell_type": "code",
   "execution_count": 13,
   "metadata": {},
   "outputs": [],
   "source": [
    "from langchain.text_splitter import HTMLHeaderTextSplitter"
   ]
  },
  {
   "cell_type": "code",
   "execution_count": 14,
   "metadata": {},
   "outputs": [],
   "source": [
    "headers_to_split_on = [\n",
    "    (\"h1\", \"Header 1\"),\n",
    "    (\"h2\", \"Header 2\"),\n",
    "    (\"h3\", \"Header 3\"),\n",
    "]\n",
    "\n",
    "text_splitter4 = HTMLHeaderTextSplitter(headers_to_split_on=headers_to_split_on)"
   ]
  },
  {
   "cell_type": "code",
   "execution_count": 15,
   "metadata": {},
   "outputs": [
    {
     "name": "stdout",
     "output_type": "stream",
     "text": [
      "<class 'langchain_core.documents.base.Document'>\n",
      "\n",
      "Chunk number: 0\n",
      "Chunk length: 3\n",
      "page_content='Foo'\n",
      "\n",
      "Chunk number: 1\n",
      "Chunk length: 79\n",
      "page_content='Some intro text about Foo.  \\nBar main section Bar subsection 1 Bar subsection 2' metadata={'Header 1': 'Foo'}\n",
      "\n",
      "Chunk number: 2\n",
      "Chunk length: 26\n",
      "page_content='Some intro text about Bar.' metadata={'Header 1': 'Foo', 'Header 2': 'Bar main section'}\n",
      "\n",
      "Chunk number: 3\n",
      "Chunk length: 42\n",
      "page_content='Some text about the first subtopic of Bar.' metadata={'Header 1': 'Foo', 'Header 2': 'Bar main section', 'Header 3': 'Bar subsection 1'}\n",
      "\n",
      "Chunk number: 4\n",
      "Chunk length: 43\n",
      "page_content='Some text about the second subtopic of Bar.' metadata={'Header 1': 'Foo', 'Header 2': 'Bar main section', 'Header 3': 'Bar subsection 2'}\n",
      "\n",
      "Chunk number: 5\n",
      "Chunk length: 3\n",
      "page_content='Baz' metadata={'Header 1': 'Foo'}\n",
      "\n",
      "Chunk number: 6\n",
      "Chunk length: 19\n",
      "page_content='Some text about Baz' metadata={'Header 1': 'Foo', 'Header 2': 'Baz'}\n",
      "\n",
      "Chunk number: 7\n",
      "Chunk length: 30\n",
      "page_content='Some concluding text about Foo' metadata={'Header 1': 'Foo'}\n"
     ]
    }
   ],
   "source": [
    "texts = text_splitter4.split_text(text3)\n",
    "print(type(texts[0]))\n",
    "\n",
    "for i in range(8):\n",
    "    print()\n",
    "    print(\"Chunk number:\", i)\n",
    "    print(\"Chunk length:\", len(texts[i].page_content))\n",
    "    print(texts[i])"
   ]
  },
  {
   "cell_type": "markdown",
   "metadata": {},
   "source": [
    "## Test semantic chunking"
   ]
  },
  {
   "cell_type": "code",
   "execution_count": 44,
   "metadata": {},
   "outputs": [],
   "source": [
    "from elqm.splitters import SemanticChunker\n",
    "from elqm.factories import EmbeddingFactory"
   ]
  },
  {
   "cell_type": "code",
   "execution_count": 51,
   "metadata": {},
   "outputs": [],
   "source": [
    "# text_splitter5 = SemanticChunker(EmbeddingFactory.get_embedding(\"BAAI/bge-large-en-v1.5\", embedding_kwargs={\"device\": \"cuda:0\", \"cuda_enabled\": True}))\n",
    "text_splitter5 = SemanticChunker(\n",
    "    embeddings=EmbeddingFactory.get_embedding(\"BAAI/bge-large-en-v1.5\", embedding_kwargs={'device': 'cuda:0', 'cuda_enabled': True}),\n",
    "    percentile=40\n",
    ")"
   ]
  },
  {
   "cell_type": "code",
   "execution_count": 52,
   "metadata": {},
   "outputs": [],
   "source": [
    "text = \"This is a test document.\""
   ]
  },
  {
   "cell_type": "code",
   "execution_count": 53,
   "metadata": {},
   "outputs": [
    {
     "name": "stdout",
     "output_type": "stream",
     "text": [
      "<class 'str'>\n",
      "\n",
      "Chunk number: 0\n",
      "Chunk length: 24\n",
      "This is a test document.\n"
     ]
    }
   ],
   "source": [
    "texts = text_splitter5.split_text(text)\n",
    "print(type(texts[0]))\n",
    "\n",
    "for i in range(min(5, len(texts))):\n",
    "    print()\n",
    "    print(\"Chunk number:\", i)\n",
    "    print(\"Chunk length:\", len(texts[i]))\n",
    "    print(texts[i])"
   ]
  },
  {
   "cell_type": "code",
   "execution_count": 54,
   "metadata": {},
   "outputs": [],
   "source": [
    "text = \"This is a test document with more sentences. Here, we will test the semantic chunker on the documents. Did you know that the northern tunnel of the great pyramid of Giza is probably meant for ventillation of the king? Why is the pyramid sentence combined with the semantic chunker I'm wondering... Anyway, let's cook something nice for dinner.\"\n",
    "text = \"\"\"\n",
    "THE EUROPEAN PARLIAMENT AND THE COUNCIL OF THE EUROPEAN UNION,\n",
    "\n",
    "Having regard to the Treaty on the Functioning of the European Union, and in particular Article 194(2) thereof,\n",
    "\n",
    "Having regard to the proposal from the European Commission,\n",
    "\n",
    "After transmission of the draft legislative act to the national Parliaments,\n",
    "\n",
    "Having regard to the opinion of the European Economic and Social Committee (1),\n",
    "\n",
    "Having regard to the opinion of the Committee of the Regions (2),\n",
    "\n",
    "Acting in accordance with the ordinary legislative procedure (3),\n",
    "\n",
    "Whereas:\n",
    "\n",
    "(1)\n",
    "\t\n",
    "\n",
    "Directive 2012/27/EU of the European Parliament and of the Council (4) has been substantially amended several times (5). Since further amendments are to be made, that Directive should be recast in the interests of clarity.\n",
    "\n",
    "(2)\n",
    "\t\n",
    "\n",
    "In its communication of 17 September 2020 on ‘Stepping up Europe’s 2030 climate ambition – Investing in a climate-neutral future for the benefit of our people’ (the ‘Climate Target Plan’), the Commission proposed to raise the Union’s climate ambition by increasing the greenhouse gas (GHG) emissions target to at least 55 % below 1990 levels by 2030. That is a substantial increase compared to the existing 40 % reduction target. The proposal delivered on the commitment made in the communication of the Commission of 11 December 2019 on ‘The European Green Deal’ (the ‘European Green Deal’) to put forward a comprehensive plan to increase the Union’s target for 2030 towards 55 % in a responsible way. It is also in accordance with the objectives of the Paris Agreement adopted on 12 December 2015 under the United Nations Framework Convention on Climate Change (the ‘Paris Agreement’) to keep the global temperature increase to well below 2 °C and pursue efforts to keep it to 1,5 °C.\n",
    "\n",
    "(3)\n",
    "\t\n",
    "\n",
    "The conclusions of the European Council of 10-11 December 2020 endorsed the Union’s binding domestic reduction target for net GHG emissions of at least 55 % by 2030 compared to 1990. The European Council concluded that the climate ambition needed to be raised in a manner that would spur sustainable economic growth, create jobs, deliver health and environmental benefits for Union citizens, and contribute to the long-term global competitiveness of the Union’s economy by promoting innovation in green technologies.\n",
    "\n",
    "(4)\n",
    "\t\n",
    "\n",
    "To implement those objectives, the Commission, in its communication of 19 October 2020 on ‘Commission Work Programme 2021 – A Union of vitality in a world of fragility’, announced a legislative package to reduce GHG emissions by at least 55 % by 2030 (the ‘Fit for 55 package’), and to achieve a climate-neutral European Union by 2050. That package covers a range of policy areas including energy efficiency, renewable energy, land use, land change and forestry, energy taxation, effort sharing and emissions trading.\n",
    "\n",
    "(5)\n",
    "\t\n",
    "\n",
    "The purpose of the Fit for 55 package is to safeguard and create jobs in the Union and to enable the Union to become a world leader in the development and uptake of clean technologies in the global energy transition, including energy efficiency solutions.\n",
    "\n",
    "(6)\n",
    "\t\n",
    "\n",
    "Projections indicate that, with the full implementation of current policies, GHG emission reductions by 2030 would be around 45 % compared to 1990 levels, when excluding land use emissions and absorptions, and around 47 %, when including them. The Climate Target Plan therefore provides for a set of required actions across all sectors of the economy and revisions of the key legislative instruments to reach that increased climate ambition.\n",
    "\n",
    "(7)\n",
    "\t\n",
    "\n",
    "In its communication of 28 November 2018 on ‘A Clean Planet for all – A European strategic long-term vision for a prosperous, modern, competitive and climate neutral economy’, the Commission stated that energy efficiency is a key area of action, without which the full decarbonisation of the Union’s economy cannot be achieved. The need to capture the cost-effective energy saving opportunities has led to the Union’s current energy efficiency policy. In December 2018, a new 2030 Union headline energy efficiency target of at least 32,5 %, compared to projected energy use in 2030, was included as part of the Clean Energy for All Europeans package, which aimed at putting energy efficiency first, achieving global leadership in renewable energies and providing a fair deal for consumers.\n",
    "\n",
    "(8)\n",
    "\t\n",
    "\n",
    "The impact assessment accompanying the Climate Target Plan demonstrated that, to achieve the increased climate ambition, energy efficiency improvements will need to be significantly raised from the current level of 32,5 %.\n",
    "\n",
    "(9)\n",
    "\t\n",
    "\n",
    "An increase in the Union’s 2030 energy efficiency target can reduce energy prices and be crucial in reducing GHG emissions, accompanied by an increase and uptake of electrification, hydrogen, e-fuels and other relevant technologies necessary for the green transition, including in the transport sector. Even with the rapid growth of renewable electricity generation, energy efficiency can reduce the need of new power generation capacity and the costs relating to storage, transmission and distribution. Increased energy efficiency is also particularly important for the security of the energy supply of the Union, by lowering the Union’s dependence on the import of fuels from third countries. Energy efficiency is one of the cleanest and most cost-efficient measures by which to address that dependence.\n",
    "\n",
    "(10)\n",
    "\t\n",
    "\n",
    "The sum of national contributions communicated by Member States in their national energy and climate plans falls short of the Union’s target of 32,5 %. The contributions would collectively lead to a reduction of 29,7 % for primary energy consumption and 29,4 % for final energy consumption compared to the projections from the Commission’s 2007 EU Reference Scenario for 2030. That would translate in a collective gap of 2,8 percentage points for primary energy consumption and 3,1 percentage points for final energy consumption for the EU-27.\n",
    "\n",
    "(11)\n",
    "\t\n",
    "\n",
    "A number of Member States presented ambitious national energy and climate plans, which were assessed by the Commission as ‘sufficient’, and which contained measures that allow those Member States to contribute to reaching the collective targets for energy efficiency with a ratio larger than the Union average. In addition, a number of Member States have documented ‘early efforts’ in achieving energy savings, namely energy savings above the Union average trajectories in the last years. Both cases are significant efforts that should be recognised and should be included in the Union’s future modelling projections and that can serve as good examples of how all Member States can work on their energy efficiency potential to deliver significant benefits to their economies and societies.\n",
    "\n",
    "(12)\n",
    "\t\n",
    "\n",
    "In some cases, the assumptions used by the Commission in its 2020 EU Reference Scenario and the assumptions used by some Member States for their reference scenarios underpinning their national energy and climate plans are different. This may lead to divergences as regards the calculation of primary energy consumption but both approaches are valid with regard to primary energy consumption.\"\"\""
   ]
  },
  {
   "cell_type": "code",
   "execution_count": 55,
   "metadata": {},
   "outputs": [
    {
     "name": "stdout",
     "output_type": "stream",
     "text": [
      "<class 'str'>\n"
     ]
    }
   ],
   "source": [
    "texts = text_splitter5.split_text(text)\n",
    "print(type(texts[0]))"
   ]
  },
  {
   "cell_type": "code",
   "execution_count": 56,
   "metadata": {},
   "outputs": [
    {
     "name": "stdout",
     "output_type": "stream",
     "text": [
      "---- Chunk 0 of length 669 ----\n",
      "\n",
      "THE EUROPEAN PARLIAMENT AND THE COUNCIL OF THE EUROPEAN UNION,\n",
      "\n",
      "Having regard to the Treaty on the Functioning of the European Union, and in particular Article 194(2) thereof,\n",
      "\n",
      "Having regard to the proposal from the European Commission,\n",
      "\n",
      "After transmission of the draft legislative act to the national Parliaments,\n",
      "\n",
      "Having regard to the opinion of the European Economic and Social Committee (1),\n",
      "\n",
      "Having regard to the opinion of the Committee of the Regions (2),\n",
      "\n",
      "Acting in accordance with the ordinary legislative procedure (3),\n",
      "\n",
      "Whereas:\n",
      "\n",
      "(1)\n",
      "\t\n",
      "\n",
      "Directive 2012/27/EU of the European Parliament and of the Council (4) has been substantially amended several times (5).\n",
      "\n",
      "---- Chunk 1 of length 101 ----\n",
      "Since further amendments are to be made, that Directive should be recast in the interests of clarity.\n",
      "\n",
      "---- Chunk 2 of length 436 ----\n",
      "(2)\n",
      "\t\n",
      "\n",
      "In its communication of 17 September 2020 on ‘Stepping up Europe’s 2030 climate ambition – Investing in a climate-neutral future for the benefit of our people’ (the ‘Climate Target Plan’), the Commission proposed to raise the Union’s climate ambition by increasing the greenhouse gas (GHG) emissions target to at least 55 % below 1990 levels by 2030. That is a substantial increase compared to the existing 40 % reduction target.\n",
      "\n",
      "---- Chunk 3 of length 556 ----\n",
      "The proposal delivered on the commitment made in the communication of the Commission of 11 December 2019 on ‘The European Green Deal’ (the ‘European Green Deal’) to put forward a comprehensive plan to increase the Union’s target for 2030 towards 55 % in a responsible way. It is also in accordance with the objectives of the Paris Agreement adopted on 12 December 2015 under the United Nations Framework Convention on Climate Change (the ‘Paris Agreement’) to keep the global temperature increase to well below 2 °C and pursue efforts to keep it to 1,5 °C.\n",
      "\n",
      "---- Chunk 4 of length 189 ----\n",
      "(3)\n",
      "\t\n",
      "\n",
      "The conclusions of the European Council of 10-11 December 2020 endorsed the Union’s binding domestic reduction target for net GHG emissions of at least 55 % by 2030 compared to 1990.\n",
      "\n",
      "---- Chunk 5 of length 858 ----\n",
      "The European Council concluded that the climate ambition needed to be raised in a manner that would spur sustainable economic growth, create jobs, deliver health and environmental benefits for Union citizens, and contribute to the long-term global competitiveness of the Union’s economy by promoting innovation in green technologies. (4)\n",
      "\t\n",
      "\n",
      "To implement those objectives, the Commission, in its communication of 19 October 2020 on ‘Commission Work Programme 2021 – A Union of vitality in a world of fragility’, announced a legislative package to reduce GHG emissions by at least 55 % by 2030 (the ‘Fit for 55 package’), and to achieve a climate-neutral European Union by 2050. That package covers a range of policy areas including energy efficiency, renewable energy, land use, land change and forestry, energy taxation, effort sharing and emissions trading.\n",
      "\n",
      "---- Chunk 6 of length 513 ----\n",
      "(5)\n",
      "\t\n",
      "\n",
      "The purpose of the Fit for 55 package is to safeguard and create jobs in the Union and to enable the Union to become a world leader in the development and uptake of clean technologies in the global energy transition, including energy efficiency solutions. (6)\n",
      "\t\n",
      "\n",
      "Projections indicate that, with the full implementation of current policies, GHG emission reductions by 2030 would be around 45 % compared to 1990 levels, when excluding land use emissions and absorptions, and around 47 %, when including them.\n",
      "\n",
      "---- Chunk 7 of length 197 ----\n",
      "The Climate Target Plan therefore provides for a set of required actions across all sectors of the economy and revisions of the key legislative instruments to reach that increased climate ambition.\n",
      "\n",
      "---- Chunk 8 of length 334 ----\n",
      "(7)\n",
      "\t\n",
      "\n",
      "In its communication of 28 November 2018 on ‘A Clean Planet for all – A European strategic long-term vision for a prosperous, modern, competitive and climate neutral economy’, the Commission stated that energy efficiency is a key area of action, without which the full decarbonisation of the Union’s economy cannot be achieved.\n",
      "\n",
      "---- Chunk 9 of length 123 ----\n",
      "The need to capture the cost-effective energy saving opportunities has led to the Union’s current energy efficiency policy.\n",
      "\n",
      "---- Chunk 10 of length 567 ----\n",
      "In December 2018, a new 2030 Union headline energy efficiency target of at least 32,5 %, compared to projected energy use in 2030, was included as part of the Clean Energy for All Europeans package, which aimed at putting energy efficiency first, achieving global leadership in renewable energies and providing a fair deal for consumers. (8)\n",
      "\t\n",
      "\n",
      "The impact assessment accompanying the Climate Target Plan demonstrated that, to achieve the increased climate ambition, energy efficiency improvements will need to be significantly raised from the current level of 32,5 %.\n",
      "\n",
      "---- Chunk 11 of length 309 ----\n",
      "(9)\n",
      "\t\n",
      "\n",
      "An increase in the Union’s 2030 energy efficiency target can reduce energy prices and be crucial in reducing GHG emissions, accompanied by an increase and uptake of electrification, hydrogen, e-fuels and other relevant technologies necessary for the green transition, including in the transport sector.\n",
      "\n",
      "---- Chunk 12 of length 200 ----\n",
      "Even with the rapid growth of renewable electricity generation, energy efficiency can reduce the need of new power generation capacity and the costs relating to storage, transmission and distribution.\n",
      "\n",
      "---- Chunk 13 of length 190 ----\n",
      "Increased energy efficiency is also particularly important for the security of the energy supply of the Union, by lowering the Union’s dependence on the import of fuels from third countries.\n",
      "\n",
      "---- Chunk 14 of length 110 ----\n",
      "Energy efficiency is one of the cleanest and most cost-efficient measures by which to address that dependence.\n",
      "\n",
      "---- Chunk 15 of length 159 ----\n",
      "(10)\n",
      "\t\n",
      "\n",
      "The sum of national contributions communicated by Member States in their national energy and climate plans falls short of the Union’s target of 32,5 %.\n",
      "\n",
      "---- Chunk 16 of length 710 ----\n",
      "The contributions would collectively lead to a reduction of 29,7 % for primary energy consumption and 29,4 % for final energy consumption compared to the projections from the Commission’s 2007 EU Reference Scenario for 2030. That would translate in a collective gap of 2,8 percentage points for primary energy consumption and 3,1 percentage points for final energy consumption for the EU-27. (11)\n",
      "\t\n",
      "\n",
      "A number of Member States presented ambitious national energy and climate plans, which were assessed by the Commission as ‘sufficient’, and which contained measures that allow those Member States to contribute to reaching the collective targets for energy efficiency with a ratio larger than the Union average.\n",
      "\n",
      "---- Chunk 17 of length 878 ----\n",
      "In addition, a number of Member States have documented ‘early efforts’ in achieving energy savings, namely energy savings above the Union average trajectories in the last years. Both cases are significant efforts that should be recognised and should be included in the Union’s future modelling projections and that can serve as good examples of how all Member States can work on their energy efficiency potential to deliver significant benefits to their economies and societies. (12)\n",
      "\t\n",
      "\n",
      "In some cases, the assumptions used by the Commission in its 2020 EU Reference Scenario and the assumptions used by some Member States for their reference scenarios underpinning their national energy and climate plans are different. This may lead to divergences as regards the calculation of primary energy consumption but both approaches are valid with regard to primary energy consumption.\n",
      "\n"
     ]
    }
   ],
   "source": [
    "\n",
    "\n",
    "for i in range(len(texts)):\n",
    "    print(f'---- Chunk {i} of length {len(texts[i])} ----')\n",
    "    print(texts[i])\n",
    "    print()"
   ]
  },
  {
   "cell_type": "code",
   "execution_count": null,
   "metadata": {},
   "outputs": [],
   "source": []
  }
 ],
 "metadata": {
  "kernelspec": {
   "display_name": "elqmVenv",
   "language": "python",
   "name": "python3"
  },
  "language_info": {
   "codemirror_mode": {
    "name": "ipython",
    "version": 3
   },
   "file_extension": ".py",
   "mimetype": "text/x-python",
   "name": "python",
   "nbconvert_exporter": "python",
   "pygments_lexer": "ipython3",
   "version": "3.11.7"
  }
 },
 "nbformat": 4,
 "nbformat_minor": 2
}
