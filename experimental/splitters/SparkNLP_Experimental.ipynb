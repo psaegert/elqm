{
  "cells": [
    {
      "cell_type": "code",
      "execution_count": 1,
      "metadata": {
        "colab": {
          "base_uri": "https://localhost:8080/"
        },
        "id": "jwBub_s8Kuny",
        "outputId": "43e1cd98-a0cc-48c5-a49c-b65b7bdde531"
      },
      "outputs": [
        {
          "name": "stdout",
          "output_type": "stream",
          "text": [
            "Requirement already satisfied: spark-nlp==5.2.3 in /home/computerman/Desktop/NLPT/elqm-INLPT-WS2023/elqmVenv/lib/python3.10/site-packages (5.2.3)\n",
            "Requirement already satisfied: pyspark==3.3.1 in /home/computerman/Desktop/NLPT/elqm-INLPT-WS2023/elqmVenv/lib/python3.10/site-packages (3.3.1)\n",
            "Requirement already satisfied: py4j==0.10.9.5 in /home/computerman/Desktop/NLPT/elqm-INLPT-WS2023/elqmVenv/lib/python3.10/site-packages (from pyspark==3.3.1) (0.10.9.5)\n"
          ]
        }
      ],
      "source": [
        "# Install PySpark and Spark NLP\n",
        "!pip install spark-nlp==5.2.3 pyspark==3.3.1"
      ]
    },
    {
      "cell_type": "code",
      "execution_count": 2,
      "metadata": {
        "colab": {
          "base_uri": "https://localhost:8080/"
        },
        "id": "Wfqv-tWHMj3y",
        "outputId": "511c901c-e5d5-4438-92c3-cb6dae64ae09"
      },
      "outputs": [
        {
          "name": "stdout",
          "output_type": "stream",
          "text": [
            "Python 3.10.12\n"
          ]
        }
      ],
      "source": [
        "!python --version"
      ]
    },
    {
      "cell_type": "code",
      "execution_count": 3,
      "metadata": {
        "id": "4M2XKW8JKw9O"
      },
      "outputs": [],
      "source": [
        "from pyspark.ml import Pipeline\n",
        "import sparknlp\n",
        "from sparknlp.base import *\n",
        "from sparknlp.annotator import *\n",
        "from sparknlp.annotator import DocumentCharacterTextSplitter\n"
      ]
    },
    {
      "cell_type": "code",
      "execution_count": 5,
      "metadata": {
        "colab": {
          "base_uri": "https://localhost:8080/"
        },
        "id": "od48EMMiKw_w",
        "outputId": "cc215b2d-617d-4c38-d903-bb450600ee69"
      },
      "outputs": [
        {
          "name": "stdout",
          "output_type": "stream",
          "text": [
            "Warning::Spark Session already created, some configs may not take.\n",
            "+-------------------------------------------------------------------------------------------------------------------------------------------------------+\n",
            "|text                                                                                                                                                   |\n",
            "+-------------------------------------------------------------------------------------------------------------------------------------------------------+\n",
            "|This is a sample text that will be chunked Another piece of text to demonstrate chunking My friend was an enthusiastic musician, being himself not only|\n",
            "+-------------------------------------------------------------------------------------------------------------------------------------------------------+\n",
            "\n"
          ]
        }
      ],
      "source": [
        "# Initialize SparkSession\n",
        "spark = sparknlp.start()\n",
        "\n",
        "# Sample text data\n",
        "text_data = \"This is a sample text that will be chunked Another piece of text to demonstrate chunking My friend was an enthusiastic musician, being himself not only\"\n",
        "\n",
        "# Create DataFrame with a single column \"text\" and a single row\n",
        "textDF = spark.createDataFrame([(text_data,)], [\"text\"])\n",
        "\n",
        "# Display the DataFrame\n",
        "textDF.show(truncate=False)"
      ]
    },
    {
      "cell_type": "code",
      "execution_count": 14,
      "metadata": {
        "colab": {
          "base_uri": "https://localhost:8080/"
        },
        "id": "muvLYX3LKxFC",
        "outputId": "897536de-745c-486a-e1f8-0f4067de1c7a"
      },
      "outputs": [
        {
          "name": "stdout",
          "output_type": "stream",
          "text": [
            "+--------------------------------------------------------------------------------+---------------+-------------+------+\n",
            "|                                                                          result|splits[0].begin|splits[0].end|length|\n",
            "+--------------------------------------------------------------------------------+---------------+-------------+------+\n",
            "|[<!DOCTYPE HTML PUBLIC \"-//W3C//DTD HTML 4.01 Transitional//EN\"><html lang=\"E...|              0|           91|    91|\n",
            "|[name=\"format-detection\" content=\"telephone=no\"/>\\n<meta name=\"DC.language\" c...|             92|          185|    93|\n",
            "|[name=\"DC.title\" content=\"EUR-Lex - 32003A0204(07) - EN\">\\n<meta name=\"DC.sub...|            186|          285|    99|\n",
            "|[at work and elsewhere, Nuclear common market, Health and safety, Germany, nu...|            283|          379|    96|\n",
            "|[station, radioactive effluent, nuclear safety, radioactive pollution, \">\\n<m...|            371|          449|    78|\n",
            "|[\">\\n<meta name=\"DC.description\" content=\"Commission opinion of 29 January 20...|            441|          538|    97|\n",
            "|[the plan for the disposal of radioactive waste resulting from modifications ...|            530|          624|    94|\n",
            "|[of the Gundremmingen II Nuclear Power Station KRB II in the Federal Republic...|            618|          709|    91|\n",
            "+--------------------------------------------------------------------------------+---------------+-------------+------+\n",
            "only showing top 8 rows\n",
            "\n"
          ]
        }
      ],
      "source": [
        "documentAssembler = DocumentAssembler().setInputCol(\"text\")\n",
        "\n",
        "textSplitter = DocumentCharacterTextSplitter() \\\n",
        "    .setInputCols([\"document\"]) \\\n",
        "    .setOutputCol(\"splits\") \\\n",
        "    .setSplitPatterns([\" \"]) \\\n",
        "    .setChunkSize(100) \\\n",
        "    .setChunkOverlap(10) \\\n",
        "    .setPatternsAreRegex(False) \\\n",
        "    .setExplodeSplits(True)\n",
        "\n",
        "pipeline = Pipeline().setStages([documentAssembler, textSplitter])\n",
        "result = pipeline.fit(textDF).transform(textDF)\n",
        "result.selectExpr(\n",
        "      \"splits.result\",\n",
        "      \"splits[0].begin\",\n",
        "      \"splits[0].end\",\n",
        "      \"splits[0].end - splits[0].begin as length\") \\\n",
        "    .show(8, truncate = 80)"
      ]
    },
    {
      "cell_type": "code",
      "execution_count": 7,
      "metadata": {
        "colab": {
          "base_uri": "https://localhost:8080/"
        },
        "id": "ZzA21tK0KxJk",
        "outputId": "50626bde-802f-46a9-8148-d3e872a3cdf7"
      },
      "outputs": [
        {
          "name": "stdout",
          "output_type": "stream",
          "text": [
            "['This is a', 'is a sample', 'sample text', 'text that will', 'will be', 'be chunked', 'Another piece', 'piece of text', 'text to', 'to demonstrate', 'chunking My', 'My friend was', 'was an', 'enthusiastic', 'musician,', 'being himself', 'not only']\n"
          ]
        }
      ],
      "source": [
        "# Assuming 'result' is the column you want to convert to a list of strings\n",
        "result_list = result.select(\"splits.result\").rdd.flatMap(lambda x: x[0]).collect()\n",
        "\n",
        "# Print the resulting list\n",
        "print(result_list)"
      ]
    },
    {
      "cell_type": "markdown",
      "metadata": {},
      "source": [
        "## Test on HTML data"
      ]
    },
    {
      "cell_type": "code",
      "execution_count": 12,
      "metadata": {},
      "outputs": [],
      "source": [
        "text_data = \"<!DOCTYPE HTML PUBLIC \\\"-//W3C//DTD HTML 4.01 Transitional//EN\\\"><html lang=\\\"EN\\\">\\n<head><meta name=\\\"format-detection\\\" content=\\\"telephone=no\\\"/>\\n<meta name=\\\"DC.language\\\" content=\\\"EN\\\">\\n<meta name=\\\"DC.title\\\" content=\\\"EUR-Lex - 32003A0204(07) - EN\\\">\\n<meta name=\\\"DC.subject\\\" content=\\\"Safety at work and elsewhere, Nuclear common market, Health and safety, Germany, nuclear power station, radioactive effluent, nuclear safety, radioactive pollution, \\\">\\n<meta name=\\\"DC.description\\\" content=\\\"Commission opinion of 29 January 2003 concerning the plan for the disposal of radioactive waste resulting from modifications at the site of the Gundremmingen II Nuclear Power Station KRB II in the Federal Republic of Germany, in accordance with Article 37 of the Euratom Treaty  \\\">\\n<meta name=\\\"DC.type\\\" http-equiv=\\\"Content-Type\\\" content=\\\"text/html; charset=UNICODE-1-1-UTF-8\\\">\\n<meta name=\\\"DC.source\\\" content=\\\"Official Journal C 026 , 04/02/2003 P. 0013 - 0013; \\\">\\n<meta name=\\\"DC.publisher\\\" content=\\\"OPOCE\\\">\\n<meta name=\\\"DC.identifier\\\" scheme=\\\"URI\\\" content=\\\"http://europa.eu.int/eur-lex/lex/LexUriServ/LexUriServ.do?uri=CELEX:32003A0204(07):EN:HTML\\\">\\n<script type=\\\"text/javascript\\\" src=\\\"/eurlex-frontoffice/ruxitagentjs_ICA2NVfgjqrux_10259230221142207.js\\\" data-dtconfig=\\\"app=47d4c64c3b67ec69|agentId=99c01a79b0e1f1ac|featureHash=ICA2NVfgjqrux|vcv=2|rdnt=1|uxrgce=1|bp=3|cuc=m097nmfl|mel=100000|mb=null|dpvc=1|iub=null|ssv=4|lastModification=1698244402819|tp=500,50,0,1|agentUri=/eurlex-frontoffice/ruxitagentjs_ICA2NVfgjqrux_10259230221142207.js|reportUrl=/eurlex-frontoffice/rb_39a3e95b-5423-482c-879b-99ef235dffeb|rid=RID_-1519899484|rpid=-2099257570|domain=europa.eu\\\"></script><style type=\\\"text/css\\\" media=\\\"all\\\">  @import url(./../../../../css/generic.css); </style>\\n<link rel=\\\"stylesheet\\\" type=\\\"text/css\\\" media=\\\"print\\\" href=\\\"./../../../../css/generic-print.css\\\">\\n<title>EUR-Lex - 32003A0204(07) - EN</title>\\n<link rel=\\\"canonical\\\" href=\\\"https://eur-lex.europa.eu/legal-content/EN/TXT/HTML/?uri=CELEX%3A32003A0204%2807%29\\\"/>\\n</head>\\n<body>\\n<div id=\\\"banner\\\">\\n<a name=\\\"top\\\"></a>\\n<div class=\\\"bglang\\\">\\n<p class=\\\"bglang\\\">\\n<a class=\\\"langue\\\" href=\\\"../../../editorial/legal_notice.htm\\\" accesskey=\\\"8\\\"><b>Avis juridique important</b></a>\\n<br>\\n</p>\\n</div>\\n<div class=\\\"bgtool\\\">\\n<em class=\\\"none\\\">|</em>\\n</div>\\n</div>\\n<a name=\\\"top\\\"></a>\\n<h1>32003A0204(07)</h1>\\n<p>\\n<strong>Commission opinion of 29 January 2003 concerning the plan for the disposal of radioactive waste resulting from modifications at the site of the Gundremmingen II Nuclear Power Station KRB II in the Federal Republic of Germany, in accordance with Article 37 of the Euratom Treaty  </strong>\\n<br>\\n<em>\\n<br>Official Journal C 026 , 04/02/2003 P. 0013 - 0013<br> </em>\\n</p>\\n<br>\\n<div id=\\\"TexteOnly\\\">\\n<p>\\n<TXT_TE>\\n<p>Commission opinion</p><p>of 29 January 2003</p><p>concerning the plan for the disposal of radioactive waste resulting from modifications at the site of the Gundremmingen II Nuclear Power Station KRB II in the Federal Republic of Germany, in accordance with Article 37 of the Euratom Treaty</p><p>(2003/C 26/09)</p><p></p><p>(Only the German text is authentic)</p><p>On 6 August 2002 the European Commission received from the Government of the Federal Republic of Germany, in accordance with Article 37 of the Euratom Treaty, general data relating to the plan for the disposal of radioactive waste resulting from modifications at the site of the Gundremmingen II Nuclear Power Station KRB II.</p><p>On the basis of these data, the Commission has considered that the plan concerned modifications to an existing plan on which an opinion had already been given. The Commission has further taken into consideration that the intermediate storage facility for irradiated fuel resulting from those modifications is designed to operate up to 40 years and could remain in operation after decommissioning and dismantling of the existing plant. Following consultation with the group of experts, the Commission has drawn up the following opinion:</p><p>(a) the planned modifications require no changes to the existing authorised limits for gaseous and liquid discharges;</p><p>(b) the planned modifications have no consequences in relation to the solid radioactive waste arising from the operation of the existing plant;</p><p>(c) the planned modifications have no consequences in relation to the unplanned discharges of radioactive substances, which may follow an accident of the type and magnitude considered in the general data of the existing plan.</p><p>In conclusion, the Commission is of the opinion that the implementation of the plan for the disposal of radioactive waste in whatever form resulting from modifications at the site of the Gundremmingen II Nuclear Power Station KRB II, located in the Federal Republic of Germany, both in normal operation and in the event of an accident of the type and magnitude considered in the general data, is not liable to result in radioactive contamination, significant from the point of view of health, of the water, soil or airspace of another Member State.</p><p></p><p> </p>\\n</TXT_TE>\\n</p>\\n</div>\\n</body>\\n</html>\\n\""
      ]
    },
    {
      "cell_type": "code",
      "execution_count": 15,
      "metadata": {},
      "outputs": [
        {
          "name": "stdout",
          "output_type": "stream",
          "text": [
            "+-------------------------------------------------------------------------------------------------------------------------------------------------------------------------------------------------------------------------------------------------------------------------------------------------------------------------------------------------------------------------------------------------------------------------------------------------------------------------------------------------------------------------------------------------------------------------------------------------------------------------------------------------------------------------------------------------------------------------------------------------------------------------------------------------------------------------------------------------------------------------------------------------------------------------------------------------------------------------------------------------------------------------------------------------------------------------------------------------------------------------------------------------------------------------------------------------------------------------------------------------------------------------------------------------------------------------------------------------------------------------------------------------------------------------------------------------------------------------------------------------------------------------------------------------------------------------------------------------------------------------------------------------------------------------------------------------------------------------------------------------------------------------------------------------------------------------------------------------------------------------------------------------------------------------------------------------------------------------------------------------------------------------------------------------------------------------------------------------------------------------------------------------------------------------------------------------------------------------------------------------------------------------------------------------------------------------------------------------------------------------------------------------------------------------------------------------------------------------------------------------------------------------------------------------------------------------------------------------------------------------------------------------------------------------------------------------------------------------------------------------------------------------------------------------------------------------------------------------------------------------------------------------------------------------------------------------------------------------------------------------------------------------------------------------------------------------------------------------------------------------------------------------------------------------------------------------------------------------------------------------------------------------------------------------------------------------------------------------------------------------------------------------------------------------------------------------------------------------------------------------------------------------------------------------------------------------------------------------------------------------------------------------------------------------------------------------------------------------------------------------------------------------------------------------------------------------------------------------------------------------------------------------------------------------------------------------------------------------------------------------------------------------------------------------------------------------------------------------------------------------------------------------------------------------------------------------------------------------------------------------------------------------------------------------------------------------------------------------------------------------------------------------------------------------------------------------------------------------------------------------------------------------------------------------------------------------------------------------------------------------------------------------------------------------------------------------------------------------------------------------------------------------------------------------------------------------------------------------------------------------------------------------------------------------------------------------------------------------------------------------------------------------------------------------------------------------------------------------------------------------------------------------------------------------------------------------------------------------------------------------------------------------------------------------------------------------------------------------------------+\n",
            "|text                                                                                                                                                                                                                                                                                                                                                                                                                                                                                                                                                                                                                                                                                                                                                                                                                                                                                                                                                                                                                                                                                                                                                                                                                                                                                                                                                                                                                                                                                                                                                                                                                                                                                                                                                                                                                                                                                                                                                                                                                                                                                                                                                                                                                                                                                                                                                                                                                                                                                                                                                                                                                                                                                                                                                                                                                                                                                                                                                                                                                                                                                                                                                                                                                                                                                                                                                                                                                                                                                                                                                                                                                                                                                                                                                                                                                                                                                                                                                                                                                                                                                                                                                                                                                                                                                                                                                                                                                                                                                                                                                                                                                                                                                                                                                                                                                                                                                                                                                                                                                                                                                                                                                                                                                                                                                                                                                         |\n",
            "+-------------------------------------------------------------------------------------------------------------------------------------------------------------------------------------------------------------------------------------------------------------------------------------------------------------------------------------------------------------------------------------------------------------------------------------------------------------------------------------------------------------------------------------------------------------------------------------------------------------------------------------------------------------------------------------------------------------------------------------------------------------------------------------------------------------------------------------------------------------------------------------------------------------------------------------------------------------------------------------------------------------------------------------------------------------------------------------------------------------------------------------------------------------------------------------------------------------------------------------------------------------------------------------------------------------------------------------------------------------------------------------------------------------------------------------------------------------------------------------------------------------------------------------------------------------------------------------------------------------------------------------------------------------------------------------------------------------------------------------------------------------------------------------------------------------------------------------------------------------------------------------------------------------------------------------------------------------------------------------------------------------------------------------------------------------------------------------------------------------------------------------------------------------------------------------------------------------------------------------------------------------------------------------------------------------------------------------------------------------------------------------------------------------------------------------------------------------------------------------------------------------------------------------------------------------------------------------------------------------------------------------------------------------------------------------------------------------------------------------------------------------------------------------------------------------------------------------------------------------------------------------------------------------------------------------------------------------------------------------------------------------------------------------------------------------------------------------------------------------------------------------------------------------------------------------------------------------------------------------------------------------------------------------------------------------------------------------------------------------------------------------------------------------------------------------------------------------------------------------------------------------------------------------------------------------------------------------------------------------------------------------------------------------------------------------------------------------------------------------------------------------------------------------------------------------------------------------------------------------------------------------------------------------------------------------------------------------------------------------------------------------------------------------------------------------------------------------------------------------------------------------------------------------------------------------------------------------------------------------------------------------------------------------------------------------------------------------------------------------------------------------------------------------------------------------------------------------------------------------------------------------------------------------------------------------------------------------------------------------------------------------------------------------------------------------------------------------------------------------------------------------------------------------------------------------------------------------------------------------------------------------------------------------------------------------------------------------------------------------------------------------------------------------------------------------------------------------------------------------------------------------------------------------------------------------------------------------------------------------------------------------------------------------------------------------------------------------------------------------+\n",
            "|<!DOCTYPE HTML PUBLIC \"-//W3C//DTD HTML 4.01 Transitional//EN\"><html lang=\"EN\">\\n<head><meta name=\"format-detection\" content=\"telephone=no\"/>\\n<meta name=\"DC.language\" content=\"EN\">\\n<meta name=\"DC.title\" content=\"EUR-Lex - 32003A0204(07) - EN\">\\n<meta name=\"DC.subject\" content=\"Safety at work and elsewhere, Nuclear common market, Health and safety, Germany, nuclear power station, radioactive effluent, nuclear safety, radioactive pollution, \">\\n<meta name=\"DC.description\" content=\"Commission opinion of 29 January 2003 concerning the plan for the disposal of radioactive waste resulting from modifications at the site of the Gundremmingen II Nuclear Power Station KRB II in the Federal Republic of Germany, in accordance with Article 37 of the Euratom Treaty  \">\\n<meta name=\"DC.type\" http-equiv=\"Content-Type\" content=\"text/html; charset=UNICODE-1-1-UTF-8\">\\n<meta name=\"DC.source\" content=\"Official Journal C 026 , 04/02/2003 P. 0013 - 0013; \">\\n<meta name=\"DC.publisher\" content=\"OPOCE\">\\n<meta name=\"DC.identifier\" scheme=\"URI\" content=\"http://europa.eu.int/eur-lex/lex/LexUriServ/LexUriServ.do?uri=CELEX:32003A0204(07):EN:HTML\">\\n<script type=\"text/javascript\" src=\"/eurlex-frontoffice/ruxitagentjs_ICA2NVfgjqrux_10259230221142207.js\" data-dtconfig=\"app=47d4c64c3b67ec69|agentId=99c01a79b0e1f1ac|featureHash=ICA2NVfgjqrux|vcv=2|rdnt=1|uxrgce=1|bp=3|cuc=m097nmfl|mel=100000|mb=null|dpvc=1|iub=null|ssv=4|lastModification=1698244402819|tp=500,50,0,1|agentUri=/eurlex-frontoffice/ruxitagentjs_ICA2NVfgjqrux_10259230221142207.js|reportUrl=/eurlex-frontoffice/rb_39a3e95b-5423-482c-879b-99ef235dffeb|rid=RID_-1519899484|rpid=-2099257570|domain=europa.eu\"></script><style type=\"text/css\" media=\"all\">  @import url(./../../../../css/generic.css); </style>\\n<link rel=\"stylesheet\" type=\"text/css\" media=\"print\" href=\"./../../../../css/generic-print.css\">\\n<title>EUR-Lex - 32003A0204(07) - EN</title>\\n<link rel=\"canonical\" href=\"https://eur-lex.europa.eu/legal-content/EN/TXT/HTML/?uri=CELEX%3A32003A0204%2807%29\"/>\\n</head>\\n<body>\\n<div id=\"banner\">\\n<a name=\"top\"></a>\\n<div class=\"bglang\">\\n<p class=\"bglang\">\\n<a class=\"langue\" href=\"../../../editorial/legal_notice.htm\" accesskey=\"8\"><b>Avis juridique important</b></a>\\n<br>\\n</p>\\n</div>\\n<div class=\"bgtool\">\\n<em class=\"none\">|</em>\\n</div>\\n</div>\\n<a name=\"top\"></a>\\n<h1>32003A0204(07)</h1>\\n<p>\\n<strong>Commission opinion of 29 January 2003 concerning the plan for the disposal of radioactive waste resulting from modifications at the site of the Gundremmingen II Nuclear Power Station KRB II in the Federal Republic of Germany, in accordance with Article 37 of the Euratom Treaty  </strong>\\n<br>\\n<em>\\n<br>Official Journal C 026 , 04/02/2003 P. 0013 - 0013<br> </em>\\n</p>\\n<br>\\n<div id=\"TexteOnly\">\\n<p>\\n<TXT_TE>\\n<p>Commission opinion</p><p>of 29 January 2003</p><p>concerning the plan for the disposal of radioactive waste resulting from modifications at the site of the Gundremmingen II Nuclear Power Station KRB II in the Federal Republic of Germany, in accordance with Article 37 of the Euratom Treaty</p><p>(2003/C 26/09)</p><p></p><p>(Only the German text is authentic)</p><p>On 6 August 2002 the European Commission received from the Government of the Federal Republic of Germany, in accordance with Article 37 of the Euratom Treaty, general data relating to the plan for the disposal of radioactive waste resulting from modifications at the site of the Gundremmingen II Nuclear Power Station KRB II.</p><p>On the basis of these data, the Commission has considered that the plan concerned modifications to an existing plan on which an opinion had already been given. The Commission has further taken into consideration that the intermediate storage facility for irradiated fuel resulting from those modifications is designed to operate up to 40 years and could remain in operation after decommissioning and dismantling of the existing plant. Following consultation with the group of experts, the Commission has drawn up the following opinion:</p><p>(a) the planned modifications require no changes to the existing authorised limits for gaseous and liquid discharges;</p><p>(b) the planned modifications have no consequences in relation to the solid radioactive waste arising from the operation of the existing plant;</p><p>(c) the planned modifications have no consequences in relation to the unplanned discharges of radioactive substances, which may follow an accident of the type and magnitude considered in the general data of the existing plan.</p><p>In conclusion, the Commission is of the opinion that the implementation of the plan for the disposal of radioactive waste in whatever form resulting from modifications at the site of the Gundremmingen II Nuclear Power Station KRB II, located in the Federal Republic of Germany, both in normal operation and in the event of an accident of the type and magnitude considered in the general data, is not liable to result in radioactive contamination, significant from the point of view of health, of the water, soil or airspace of another Member State.</p><p></p><p> </p>\\n</TXT_TE>\\n</p>\\n</div>\\n</body>\\n</html>\\n|\n",
            "+-------------------------------------------------------------------------------------------------------------------------------------------------------------------------------------------------------------------------------------------------------------------------------------------------------------------------------------------------------------------------------------------------------------------------------------------------------------------------------------------------------------------------------------------------------------------------------------------------------------------------------------------------------------------------------------------------------------------------------------------------------------------------------------------------------------------------------------------------------------------------------------------------------------------------------------------------------------------------------------------------------------------------------------------------------------------------------------------------------------------------------------------------------------------------------------------------------------------------------------------------------------------------------------------------------------------------------------------------------------------------------------------------------------------------------------------------------------------------------------------------------------------------------------------------------------------------------------------------------------------------------------------------------------------------------------------------------------------------------------------------------------------------------------------------------------------------------------------------------------------------------------------------------------------------------------------------------------------------------------------------------------------------------------------------------------------------------------------------------------------------------------------------------------------------------------------------------------------------------------------------------------------------------------------------------------------------------------------------------------------------------------------------------------------------------------------------------------------------------------------------------------------------------------------------------------------------------------------------------------------------------------------------------------------------------------------------------------------------------------------------------------------------------------------------------------------------------------------------------------------------------------------------------------------------------------------------------------------------------------------------------------------------------------------------------------------------------------------------------------------------------------------------------------------------------------------------------------------------------------------------------------------------------------------------------------------------------------------------------------------------------------------------------------------------------------------------------------------------------------------------------------------------------------------------------------------------------------------------------------------------------------------------------------------------------------------------------------------------------------------------------------------------------------------------------------------------------------------------------------------------------------------------------------------------------------------------------------------------------------------------------------------------------------------------------------------------------------------------------------------------------------------------------------------------------------------------------------------------------------------------------------------------------------------------------------------------------------------------------------------------------------------------------------------------------------------------------------------------------------------------------------------------------------------------------------------------------------------------------------------------------------------------------------------------------------------------------------------------------------------------------------------------------------------------------------------------------------------------------------------------------------------------------------------------------------------------------------------------------------------------------------------------------------------------------------------------------------------------------------------------------------------------------------------------------------------------------------------------------------------------------------------------------------------------------------------------------------------------------------+\n",
            "\n",
            "+--------------------------------------------------------------------------------+---------------+-------------+------+\n",
            "|                                                                          result|splits[0].begin|splits[0].end|length|\n",
            "+--------------------------------------------------------------------------------+---------------+-------------+------+\n",
            "|[<!DOCTYPE HTML PUBLIC \"-//W3C//DTD HTML 4.01 Transitional//EN\"><html lang=\"E...|              0|           91|    91|\n",
            "|[name=\"format-detection\" content=\"telephone=no\"/>\\n<meta name=\"DC.language\" c...|             92|          185|    93|\n",
            "|[name=\"DC.title\" content=\"EUR-Lex - 32003A0204(07) - EN\">\\n<meta name=\"DC.sub...|            186|          285|    99|\n",
            "|[at work and elsewhere, Nuclear common market, Health and safety, Germany, nu...|            283|          379|    96|\n",
            "|[station, radioactive effluent, nuclear safety, radioactive pollution, \">\\n<m...|            371|          449|    78|\n",
            "|[\">\\n<meta name=\"DC.description\" content=\"Commission opinion of 29 January 20...|            441|          538|    97|\n",
            "|[the plan for the disposal of radioactive waste resulting from modifications ...|            530|          624|    94|\n",
            "|[of the Gundremmingen II Nuclear Power Station KRB II in the Federal Republic...|            618|          709|    91|\n",
            "+--------------------------------------------------------------------------------+---------------+-------------+------+\n",
            "only showing top 8 rows\n",
            "\n",
            "['<!DOCTYPE HTML PUBLIC \"-//W3C//DTD HTML 4.01 Transitional//EN\"><html lang=\"EN\">\\n<head><meta', 'name=\"format-detection\" content=\"telephone=no\"/>\\n<meta name=\"DC.language\" content=\"EN\">\\n<meta', 'name=\"DC.title\" content=\"EUR-Lex - 32003A0204(07) - EN\">\\n<meta name=\"DC.subject\" content=\"Safety at', 'at work and elsewhere, Nuclear common market, Health and safety, Germany, nuclear power station,', 'station, radioactive effluent, nuclear safety, radioactive pollution, \">\\n<meta', '\">\\n<meta name=\"DC.description\" content=\"Commission opinion of 29 January 2003 concerning the plan', 'the plan for the disposal of radioactive waste resulting from modifications at the site of the', 'of the Gundremmingen II Nuclear Power Station KRB II in the Federal Republic of Germany, in', 'in accordance with Article 37 of the Euratom Treaty  \">\\n<meta name=\"DC.type\"', 'http-equiv=\"Content-Type\" content=\"text/html; charset=UNICODE-1-1-UTF-8\">\\n<meta name=\"DC.source\"', 'content=\"Official Journal C 026 , 04/02/2003 P. 0013 - 0013; \">\\n<meta name=\"DC.publisher\"', 'content=\"OPOCE\">\\n<meta name=\"DC.identifier\" scheme=\"URI\"', ' content=\"http://europa.eu.int/eur-lex/lex/LexUriServ/LexUriServ.do?uri=CELEX:32003A0204(07):EN:HTML\">\\n<script', 'type=\"text/javascript\" src=\"/eurlex-frontoffice/ruxitagentjs_ICA2NVfgjqrux_10259230221142207.js\"', ' data-dtconfig=\"app=47d4c64c3b67ec69|agentId=99c01a79b0e1f1ac|featureHash=ICA2NVfgjqrux|vcv=2|rdnt=1|uxrgce=1|bp=3|cuc=m097nmfl|mel=100000|mb=null|dpvc=1|iub=null|ssv=4|lastModification=1698244402819|tp=500,50,0,1|agentUri=/eurlex-frontoffice/ruxitagentjs_ICA2NVfgjqrux_10259230221142207.js|reportUrl=/eurlex-frontoffice/rb_39a3e95b-5423-482c-879b-99ef235dffeb|rid=RID_-1519899484|rpid=-2099257570|domain=europa.eu\"></script><style', 'type=\"text/css\" media=\"all\">  @import url(./../../../../css/generic.css); </style>\\n<link', 'rel=\"stylesheet\" type=\"text/css\" media=\"print\"', 'href=\"./../../../../css/generic-print.css\">\\n<title>EUR-Lex - 32003A0204(07) - EN</title>\\n<link', 'rel=\"canonical\"', ' href=\"https://eur-lex.europa.eu/legal-content/EN/TXT/HTML/?uri=CELEX%3A32003A0204%2807%29\"/>\\n</head>\\n<body>\\n<div', 'id=\"banner\">\\n<a name=\"top\"></a>\\n<div class=\"bglang\">\\n<p class=\"bglang\">\\n<a class=\"langue\"', 'href=\"../../../editorial/legal_notice.htm\" accesskey=\"8\"><b>Avis juridique', 'juridique important</b></a>\\n<br>\\n</p>\\n</div>\\n<div class=\"bgtool\">\\n<em', 'class=\"none\">|</em>\\n</div>\\n</div>\\n<a name=\"top\"></a>\\n<h1>32003A0204(07)</h1>\\n<p>\\n<strong>Commission', 'opinion of 29 January 2003 concerning the plan for the disposal of radioactive waste resulting from', 'from modifications at the site of the Gundremmingen II Nuclear Power Station KRB II in the Federal', 'Federal Republic of Germany, in accordance with Article 37 of the Euratom Treaty', 'Treaty  </strong>\\n<br>\\n<em>\\n<br>Official Journal C 026 , 04/02/2003 P. 0013 - 0013<br>', '0013<br> </em>\\n</p>\\n<br>\\n<div id=\"TexteOnly\">\\n<p>\\n<TXT_TE>\\n<p>Commission opinion</p><p>of 29', '29 January 2003</p><p>concerning the plan for the disposal of radioactive waste resulting from', 'from modifications at the site of the Gundremmingen II Nuclear Power Station KRB II in the Federal', 'Federal Republic of Germany, in accordance with Article 37 of the Euratom Treaty</p><p>(2003/C', '26/09)</p><p></p><p>(Only the German text is authentic)</p><p>On 6 August 2002 the European', 'European Commission received from the Government of the Federal Republic of Germany, in accordance', 'with Article 37 of the Euratom Treaty, general data relating to the plan for the disposal of', 'of radioactive waste resulting from modifications at the site of the Gundremmingen II Nuclear Power', 'Power Station KRB II.</p><p>On the basis of these data, the Commission has considered that the plan', 'the plan concerned modifications to an existing plan on which an opinion had already been given.', 'given. The Commission has further taken into consideration that the intermediate storage facility', 'facility for irradiated fuel resulting from those modifications is designed to operate up to 40', 'up to 40 years and could remain in operation after decommissioning and dismantling of the existing', 'existing plant. Following consultation with the group of experts, the Commission has drawn up the', 'up the following opinion:</p><p>(a) the planned modifications require no changes to the existing', 'existing authorised limits for gaseous and liquid discharges;</p><p>(b) the planned modifications', 'have no consequences in relation to the solid radioactive waste arising from the operation of the', 'of the existing plant;</p><p>(c) the planned modifications have no consequences in relation to the', 'to the unplanned discharges of radioactive substances, which may follow an accident of the type and', 'type and magnitude considered in the general data of the existing plan.</p><p>In conclusion, the', 'the Commission is of the opinion that the implementation of the plan for the disposal of', 'of radioactive waste in whatever form resulting from modifications at the site of the Gundremmingen', 'II Nuclear Power Station KRB II, located in the Federal Republic of Germany, both in normal', 'in normal operation and in the event of an accident of the type and magnitude considered in the', 'in the general data, is not liable to result in radioactive contamination, significant from the', 'from the point of view of health, of the water, soil or airspace of another Member', 'Member State.</p><p></p><p> </p>\\n</TXT_TE>\\n</p>\\n</div>\\n</body>\\n</html>']\n"
          ]
        }
      ],
      "source": [
        "# Create DataFrame with a single column \"text\" and a single row\n",
        "textDF = spark.createDataFrame([(text_data,)], [\"text\"])\n",
        "\n",
        "# Display the DataFrame\n",
        "textDF.show(truncate=False)\n",
        "\n",
        "pipeline = Pipeline().setStages([documentAssembler, textSplitter])\n",
        "result = pipeline.fit(textDF).transform(textDF)\n",
        "result.selectExpr(\n",
        "      \"splits.result\",\n",
        "      \"splits[0].begin\",\n",
        "      \"splits[0].end\",\n",
        "      \"splits[0].end - splits[0].begin as length\") \\\n",
        "    .show(8, truncate = 80)\n",
        "\n",
        "# Assuming 'result' is the column you want to convert to a list of strings\n",
        "result_list = result.select(\"splits.result\").rdd.flatMap(lambda x: x[0]).collect()\n",
        "\n",
        "# Print the resulting list\n",
        "print(result_list)"
      ]
    }
  ],
  "metadata": {
    "colab": {
      "provenance": []
    },
    "kernelspec": {
      "display_name": "Python 3",
      "name": "python3"
    },
    "language_info": {
      "codemirror_mode": {
        "name": "ipython",
        "version": 3
      },
      "file_extension": ".py",
      "mimetype": "text/x-python",
      "name": "python",
      "nbconvert_exporter": "python",
      "pygments_lexer": "ipython3",
      "version": "3.10.12"
    }
  },
  "nbformat": 4,
  "nbformat_minor": 0
}
