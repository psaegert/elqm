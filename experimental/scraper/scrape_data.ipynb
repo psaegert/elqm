{
 "cells": [
  {
   "cell_type": "code",
   "execution_count": 44,
   "metadata": {},
   "outputs": [],
   "source": [
    "import requests\n",
    "from bs4 import BeautifulSoup\n",
    "from tqdm import tqdm\n",
    "import pandas as pd\n",
    "import time"
   ]
  },
  {
   "cell_type": "code",
   "execution_count": 45,
   "metadata": {},
   "outputs": [],
   "source": [
    "LINKS_FILE = 'eur_lex_links.csv'"
   ]
  },
  {
   "cell_type": "code",
   "execution_count": 46,
   "metadata": {},
   "outputs": [
    {
     "data": {
      "text/html": [
       "<div>\n",
       "<style scoped>\n",
       "    .dataframe tbody tr th:only-of-type {\n",
       "        vertical-align: middle;\n",
       "    }\n",
       "\n",
       "    .dataframe tbody tr th {\n",
       "        vertical-align: top;\n",
       "    }\n",
       "\n",
       "    .dataframe thead th {\n",
       "        text-align: right;\n",
       "    }\n",
       "</style>\n",
       "<table border=\"1\" class=\"dataframe\">\n",
       "  <thead>\n",
       "    <tr style=\"text-align: right;\">\n",
       "      <th></th>\n",
       "      <th>link</th>\n",
       "      <th>info_page_url</th>\n",
       "      <th>html_page_url</th>\n",
       "      <th>CELEX_id</th>\n",
       "    </tr>\n",
       "  </thead>\n",
       "  <tbody>\n",
       "    <tr>\n",
       "      <th>count</th>\n",
       "      <td>508</td>\n",
       "      <td>508</td>\n",
       "      <td>508</td>\n",
       "      <td>508</td>\n",
       "    </tr>\n",
       "    <tr>\n",
       "      <th>unique</th>\n",
       "      <td>508</td>\n",
       "      <td>508</td>\n",
       "      <td>508</td>\n",
       "      <td>508</td>\n",
       "    </tr>\n",
       "    <tr>\n",
       "      <th>top</th>\n",
       "      <td>https://eur-lex.europa.eu/legal-content/AUTO/?...</td>\n",
       "      <td>https://eur-lex.europa.eu/legal-content/EN/ALL...</td>\n",
       "      <td>https://eur-lex.europa.eu/legal-content/EN/TXT...</td>\n",
       "      <td>21959A1006(02)</td>\n",
       "    </tr>\n",
       "    <tr>\n",
       "      <th>freq</th>\n",
       "      <td>1</td>\n",
       "      <td>1</td>\n",
       "      <td>1</td>\n",
       "      <td>1</td>\n",
       "    </tr>\n",
       "  </tbody>\n",
       "</table>\n",
       "</div>"
      ],
      "text/plain": [
       "                                                     link  \\\n",
       "count                                                 508   \n",
       "unique                                                508   \n",
       "top     https://eur-lex.europa.eu/legal-content/AUTO/?...   \n",
       "freq                                                    1   \n",
       "\n",
       "                                            info_page_url  \\\n",
       "count                                                 508   \n",
       "unique                                                508   \n",
       "top     https://eur-lex.europa.eu/legal-content/EN/ALL...   \n",
       "freq                                                    1   \n",
       "\n",
       "                                            html_page_url        CELEX_id  \n",
       "count                                                 508             508  \n",
       "unique                                                508             508  \n",
       "top     https://eur-lex.europa.eu/legal-content/EN/TXT...  21959A1006(02)  \n",
       "freq                                                    1               1  "
      ]
     },
     "execution_count": 46,
     "metadata": {},
     "output_type": "execute_result"
    }
   ],
   "source": [
    "df = pd.read_csv(LINKS_FILE)\n",
    "df.describe()"
   ]
  },
  {
   "cell_type": "code",
   "execution_count": 47,
   "metadata": {},
   "outputs": [],
   "source": [
    "def get_document_content_html(html_page_url):\n",
    "    response = requests.get(html_page_url)\n",
    "\n",
    "    if response.status_code != 200:\n",
    "        print('Error: status code {}'.format(response.status_code))\n",
    "        return None\n",
    "    \n",
    "    return response.text"
   ]
  },
  {
   "cell_type": "code",
   "execution_count": 48,
   "metadata": {},
   "outputs": [],
   "source": [
    "def get_dates_metadata(html):\n",
    "    soup = BeautifulSoup(html, 'html.parser')\n",
    "    \n",
    "    # Find the div tag with id 'PPMisc_Contents'\n",
    "    dates_tag = soup.find('div', {'id': 'PPDates_Contents'})\n",
    "\n",
    "    # Find the dl tag with class 'NMetadata'\n",
    "    metadata_tag = dates_tag.find('dl', {'class': 'NMetadata'})\n",
    "\n",
    "    # Initialize an empty dictionary to store dates\n",
    "    dates_dict = {}\n",
    "    key_counts = {}\n",
    "\n",
    "    # Iterate over the dt and dd tags to scrape metadata\n",
    "    for dt, dd in zip(metadata_tag.find_all('dt'), metadata_tag.find_all('dd')):\n",
    "        key = dt.get_text(strip=True).replace(\":\", \"\")\n",
    "\n",
    "        # If the key is already present, append a number to it\n",
    "        if key in key_counts:\n",
    "            key_counts[key] += 1\n",
    "            key = f'{key} {key_counts[key]}'\n",
    "        else:\n",
    "            key_counts[key] = 0\n",
    "\n",
    "        value = dd.get_text(strip=True)\n",
    "        # Discard everything after the ; character if it is present\n",
    "        if ';' in value:\n",
    "            value = value.split(';')[0]\n",
    "        dates_dict[key] = value\n",
    "\n",
    "    return dates_dict"
   ]
  },
  {
   "cell_type": "code",
   "execution_count": 49,
   "metadata": {},
   "outputs": [],
   "source": [
    "def get_miscellaneous_information_metadata(html):\n",
    "    soup = BeautifulSoup(html, 'html.parser')\n",
    "\n",
    "    # Find the div tag with id 'PPMisc_Contents'\n",
    "    misc_tag = soup.find('div', {'id': 'PPMisc_Contents'})\n",
    "\n",
    "    # Find the dl tag with class 'NMetadata' within the div\n",
    "    metadata_tag = misc_tag.find('dl', {'class': 'NMetadata'})\n",
    "\n",
    "    # Initialize an empty dictionary to store metadata\n",
    "    metadata_dict = {}\n",
    "    key_counts = {}\n",
    "\n",
    "    # Iterate over the dt and dd tags to scrape metadata\n",
    "    for dt, dd in zip(metadata_tag.find_all('dt'), metadata_tag.find_all('dd')):\n",
    "        key = dt.get_text(strip=True).replace(\":\", \"\")\n",
    "\n",
    "        # If the key is already present, append a number to it\n",
    "        if key in key_counts:\n",
    "            key_counts[key] += 1\n",
    "            key = f'{key} {key_counts[key]}'\n",
    "        else:\n",
    "            key_counts[key] = 0\n",
    "\n",
    "        spans = dd.find_all('span', lang='en')\n",
    "        if spans:\n",
    "            value = ', '.join(span.get_text(strip=True) for span in spans)\n",
    "        else:\n",
    "            value = dd.get_text(strip=True)\n",
    "\n",
    "        metadata_dict[key] = value\n",
    "\n",
    "    return metadata_dict"
   ]
  },
  {
   "cell_type": "code",
   "execution_count": 50,
   "metadata": {},
   "outputs": [],
   "source": [
    "def get_classifications_metadata(html):\n",
    "    soup = BeautifulSoup(html, 'html.parser')\n",
    "\n",
    "    # Find the div tag with id 'PPClass_Contents'\n",
    "    class_tag = soup.find('div', {'id': 'PPClass_Contents'})\n",
    "\n",
    "    # Find the dl tag with class 'NMetadata' within the div\n",
    "    metadata_tag = class_tag.find('dl', {'class': 'NMetadata'})\n",
    "\n",
    "    # Initialize an empty dictionary to store classifications\n",
    "    classification_dict = {}\n",
    "    code_dict = {}\n",
    "    \n",
    "    # Iterate over the dt and dd tags to scrape metadata\n",
    "    for dt, dd in zip(metadata_tag.find_all('dt'), metadata_tag.find_all('dd')):\n",
    "        major_key = dt.get_text(strip=True).replace(\":\", \"\")\n",
    "        \n",
    "        # For minor keys under each major key\n",
    "        minor_keys = []\n",
    "        for li in dd.find_all('li'):\n",
    "            span = li.find('span', lang='en')\n",
    "            if span:\n",
    "                minor_keys.append(span.get_text(strip=True))\n",
    "                \n",
    "        # For extracting directory code and levels\n",
    "        if major_key == \"Directory code\":\n",
    "            code = dd.find('li').get_text().split('\\n')[0].strip()\n",
    "            code_dict[\"code\"] = code\n",
    "            \n",
    "            levels = dd.find_all('span', lang='en')\n",
    "            for idx, level in enumerate(levels):\n",
    "                code_dict[f\"level {idx + 1}\"] = level.get_text(strip=True)\n",
    "                \n",
    "            classification_dict[major_key] = code_dict\n",
    "        else:\n",
    "            classification_dict[major_key] = minor_keys\n",
    "\n",
    "    return classification_dict"
   ]
  },
  {
   "cell_type": "code",
   "execution_count": 51,
   "metadata": {},
   "outputs": [],
   "source": [
    "def get_metadata(info_page_url):\n",
    "    response = requests.get(info_page_url)\n",
    "\n",
    "    if response.status_code != 200:\n",
    "        print('Error: status code {}'.format(response.status_code))\n",
    "        return None\n",
    "    \n",
    "    metadata = {\n",
    "        'Dates': get_dates_metadata(response.text),\n",
    "        'Misc': get_miscellaneous_information_metadata(response.text),\n",
    "        'Classification': get_classifications_metadata(response.text)\n",
    "    }\n",
    "\n",
    "    return metadata"
   ]
  },
  {
   "cell_type": "code",
   "execution_count": 52,
   "metadata": {},
   "outputs": [],
   "source": [
    "def get_document(info_page_url, html_page_url):    \n",
    "    metadata = get_metadata(info_page_url)\n",
    "    metadata['html'] = get_document_content_html(html_page_url)\n",
    "    \n",
    "    return metadata"
   ]
  },
  {
   "cell_type": "code",
   "execution_count": 53,
   "metadata": {},
   "outputs": [
    {
     "name": "stderr",
     "output_type": "stream",
     "text": [
      "100%|██████████| 508/508 [18:21<00:00,  2.17s/it]\n"
     ]
    }
   ],
   "source": [
    "# Create a download directory and get the data for each document.\n",
    "# Store each document in a separate json file.\n",
    "import os\n",
    "import json\n",
    "\n",
    "DOWNLOAD_DIR = 'eur_lex_data'\n",
    "if not os.path.exists(DOWNLOAD_DIR):\n",
    "    os.mkdir(DOWNLOAD_DIR)\n",
    "\n",
    "for idx, row in tqdm(df.iterrows(), total=df.shape[0]):\n",
    "    document = get_document(row['info_page_url'], row['html_page_url'])\n",
    "    with open(os.path.join(DOWNLOAD_DIR, f'{row[\"CELEX_id\"]}.json'), 'w') as f:\n",
    "        json.dump(document, f)\n",
    "    time.sleep(0.5)"
   ]
  }
 ],
 "metadata": {
  "kernelspec": {
   "display_name": "elqm",
   "language": "python",
   "name": "python3"
  },
  "language_info": {
   "codemirror_mode": {
    "name": "ipython",
    "version": 3
   },
   "file_extension": ".py",
   "mimetype": "text/x-python",
   "name": "python",
   "nbconvert_exporter": "python",
   "pygments_lexer": "ipython3",
   "version": "3.11.5"
  }
 },
 "nbformat": 4,
 "nbformat_minor": 2
}
