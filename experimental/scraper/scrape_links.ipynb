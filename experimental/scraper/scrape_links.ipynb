{
 "cells": [
  {
   "cell_type": "code",
   "execution_count": 1,
   "metadata": {},
   "outputs": [],
   "source": [
    "import requests\n",
    "from bs4 import BeautifulSoup\n",
    "from tqdm import tqdm\n",
    "import pandas as pd\n",
    "import time"
   ]
  },
  {
   "cell_type": "code",
   "execution_count": 2,
   "metadata": {},
   "outputs": [],
   "source": [
    "BASE_URL = \"https://eur-lex.europa.eu\"\n",
    "ENERGY_QUERY_URL = \"https://eur-lex.europa.eu/search.html?name=browse-by%3Alegislation-in-force&type=named&qid=1698155004044&CC_1_CODED=12\"\n",
    "N_RETRIES = 3"
   ]
  },
  {
   "cell_type": "code",
   "execution_count": 3,
   "metadata": {},
   "outputs": [],
   "source": [
    "def extract_total_documents(eur_lex_query_url):\n",
    "    # FIXME: Unreliable, sometimes returns 402, although most of the time it is 522?\n",
    "    response = requests.get(eur_lex_query_url)\n",
    "    soup = BeautifulSoup(response.text, 'html.parser')\n",
    "    try:\n",
    "        total_pages_element = soup.find('strong', string=True, recursive=True)\n",
    "        total_pages = int(total_pages_element.find_next_sibling('strong').find_next_sibling('strong').string)\n",
    "        return total_pages\n",
    "    except AttributeError as e:\n",
    "        print(f\"Could not find total documents. Error: {e}\")\n",
    "        return None"
   ]
  },
  {
   "cell_type": "code",
   "execution_count": 4,
   "metadata": {},
   "outputs": [],
   "source": [
    "def extract_links_from_results(url):\n",
    "    response = requests.get(url)\n",
    "    soup = BeautifulSoup(response.text, 'html.parser')\n",
    "    \n",
    "    # Check if page number exceeds the maximum\n",
    "    warning = soup.find('div', {'class': 'alert alert-warning'})\n",
    "    if warning and 'maximum number of pages' in warning.text:\n",
    "        return None\n",
    "\n",
    "    # Find and save the links to DataFrame\n",
    "    new_links = [f\"{BASE_URL}/{[link['href']][0][2:]}\" for div in soup.find_all('div', {'class': 'SearchResult'}) for link in div.find_all('a', {'class': 'title'})]\n",
    "\n",
    "    if len(new_links) == 0:\n",
    "        return None\n",
    "    \n",
    "    return new_links"
   ]
  },
  {
   "cell_type": "markdown",
   "metadata": {},
   "source": [
    "## Determine the total number of documents for validation"
   ]
  },
  {
   "cell_type": "code",
   "execution_count": 5,
   "metadata": {},
   "outputs": [
    {
     "name": "stdout",
     "output_type": "stream",
     "text": [
      "Total number of documents matching \"Energy\" query: 522\n"
     ]
    }
   ],
   "source": [
    "n_documents = extract_total_documents(ENERGY_QUERY_URL)\n",
    "\n",
    "if n_documents <= 402:\n",
    "    # Something is wrong, try again\n",
    "    for i in range(N_RETRIES):\n",
    "        print(f\"Trying again, attempt {i+1}\")\n",
    "        n_documents = extract_total_documents(ENERGY_QUERY_URL)\n",
    "        if n_documents > 402:\n",
    "            break\n",
    "\n",
    "print(f'Total number of documents matching \"Energy\" query: {n_documents}')"
   ]
  },
  {
   "cell_type": "markdown",
   "metadata": {},
   "source": [
    "## Scrape the links"
   ]
  },
  {
   "cell_type": "code",
   "execution_count": 6,
   "metadata": {},
   "outputs": [
    {
     "name": "stderr",
     "output_type": "stream",
     "text": [
      "Scraping results for links: 100%|██████████| 522/522 [02:40<00:00,  3.25it/s, https://eur-lex.europa.eu/search.html?name=browse-by%3Alegislation-in-force&type=named&qid=1698155004044&CC_1_CODED=12&page=54, attempt 4]\n"
     ]
    }
   ],
   "source": [
    "links = []\n",
    "faulty_html = \"\"\n",
    "pbar = tqdm(total=n_documents, desc=\"Scraping results for links\")\n",
    "\n",
    "# Loop through the pages\n",
    "page_number = 1\n",
    "while True:\n",
    "    url = f\"{ENERGY_QUERY_URL}&page={page_number}\"\n",
    "    pbar.set_postfix_str(f\"{url}, attempt 1\")\n",
    "\n",
    "    new_links = extract_links_from_results(url)\n",
    "    retry = 0\n",
    "    while not new_links and retry <= N_RETRIES:\n",
    "        pbar.set_postfix_str(f\"{url}, attempt {retry+2}\")\n",
    "        new_links = extract_links_from_results(url)\n",
    "        retry += 1\n",
    "    \n",
    "    if not new_links:\n",
    "        break\n",
    "    \n",
    "    links.extend(new_links)\n",
    "    page_number += 1\n",
    "    pbar.update(len(new_links))\n",
    "    time.sleep(0.25)\n",
    "\n",
    "pbar.close()\n",
    "\n",
    "df = pd.DataFrame(links, columns=['link'])"
   ]
  },
  {
   "cell_type": "code",
   "execution_count": 8,
   "metadata": {},
   "outputs": [],
   "source": [
    "if len(df) != n_documents:\n",
    "    print(f\"WARNING: Number of documents ({n_documents}) does not match the number of links ({len(df)})\")"
   ]
  },
  {
   "cell_type": "markdown",
   "metadata": {},
   "source": [
    "## Get the url of the actual info page of the document and CELEX id"
   ]
  },
  {
   "cell_type": "code",
   "execution_count": null,
   "metadata": {},
   "outputs": [],
   "source": [
    "def get_document_info_page(url):\n",
    "    \"\"\"\n",
    "    Get the redirected url from a given url\n",
    "\n",
    "    Example:\n",
    "    https://eur-lex.europa.eu/legal-content/AUTO/?uri=CELEX:31983H0230&qid=1698155004044&rid=460 -> https://eur-lex.europa.eu/legal-content/EN/ALL/?uri=CELEX:31983H0230\n",
    "    \"\"\"\n",
    "\n",
    "    url = url.replace('AUTO', 'EN/ALL')\n",
    "    return url[:url.find('&')]"
   ]
  },
  {
   "cell_type": "code",
   "execution_count": null,
   "metadata": {},
   "outputs": [],
   "source": [
    "def get_document_html_page(url):\n",
    "    \"\"\"\n",
    "    Get the redirected url from a given url\n",
    "\n",
    "    Example:\n",
    "    https://eur-lex.europa.eu/legal-content/AUTO/?uri=CELEX:31983H0230&qid=1698155004044&rid=460 -> https://eur-lex.europa.eu/legal-content/EN/TXT/HTML/?uri=CELEX:31983H0230\n",
    "    \"\"\"\n",
    "\n",
    "    url = url.replace('AUTO', 'EN/TXT/HTML')\n",
    "    return url[:url.find('&')]"
   ]
  },
  {
   "cell_type": "code",
   "execution_count": null,
   "metadata": {},
   "outputs": [],
   "source": [
    "def get_document_CELEX_id(info_page_url):\n",
    "    \"\"\"\n",
    "    Extract 32023L1791 from https://eur-lex.europa.eu/legal-content/EN/ALL/?uri=CELEX:32023L1791\n",
    "    \"\"\"\n",
    "\n",
    "    return info_page_url.split(':')[-1]"
   ]
  },
  {
   "cell_type": "code",
   "execution_count": null,
   "metadata": {},
   "outputs": [],
   "source": [
    "df['info_page_url'] = df['link'].apply(get_document_info_page)\n",
    "df['html_page_url'] = df['link'].apply(get_document_html_page)\n",
    "df['CELEX_id'] = df['info_page_url'].apply(get_document_CELEX_id)"
   ]
  },
  {
   "cell_type": "code",
   "execution_count": null,
   "metadata": {},
   "outputs": [
    {
     "data": {
      "text/html": [
       "<div>\n",
       "<style scoped>\n",
       "    .dataframe tbody tr th:only-of-type {\n",
       "        vertical-align: middle;\n",
       "    }\n",
       "\n",
       "    .dataframe tbody tr th {\n",
       "        vertical-align: top;\n",
       "    }\n",
       "\n",
       "    .dataframe thead th {\n",
       "        text-align: right;\n",
       "    }\n",
       "</style>\n",
       "<table border=\"1\" class=\"dataframe\">\n",
       "  <thead>\n",
       "    <tr style=\"text-align: right;\">\n",
       "      <th></th>\n",
       "      <th>link</th>\n",
       "      <th>info_page_url</th>\n",
       "    </tr>\n",
       "  </thead>\n",
       "  <tbody>\n",
       "    <tr>\n",
       "      <th>count</th>\n",
       "      <td>508</td>\n",
       "      <td>508</td>\n",
       "    </tr>\n",
       "    <tr>\n",
       "      <th>unique</th>\n",
       "      <td>508</td>\n",
       "      <td>508</td>\n",
       "    </tr>\n",
       "    <tr>\n",
       "      <th>top</th>\n",
       "      <td>https://eur-lex.europa.eu/legal-content/AUTO/?...</td>\n",
       "      <td>https://eur-lex.europa.eu/legal-content/EN/ALL...</td>\n",
       "    </tr>\n",
       "    <tr>\n",
       "      <th>freq</th>\n",
       "      <td>1</td>\n",
       "      <td>1</td>\n",
       "    </tr>\n",
       "  </tbody>\n",
       "</table>\n",
       "</div>"
      ],
      "text/plain": [
       "                                                     link  \\\n",
       "count                                                 508   \n",
       "unique                                                508   \n",
       "top     https://eur-lex.europa.eu/legal-content/AUTO/?...   \n",
       "freq                                                    1   \n",
       "\n",
       "                                            info_page_url  \n",
       "count                                                 508  \n",
       "unique                                                508  \n",
       "top     https://eur-lex.europa.eu/legal-content/EN/ALL...  \n",
       "freq                                                    1  "
      ]
     },
     "metadata": {},
     "output_type": "display_data"
    }
   ],
   "source": [
    "# Drop duplicates (some documents are listed multiple times apparently)\n",
    "df = df.drop_duplicates(subset=['info_page_url'])\n",
    "df.describe()"
   ]
  },
  {
   "cell_type": "code",
   "execution_count": 7,
   "metadata": {},
   "outputs": [
    {
     "data": {
      "text/html": [
       "<div>\n",
       "<style scoped>\n",
       "    .dataframe tbody tr th:only-of-type {\n",
       "        vertical-align: middle;\n",
       "    }\n",
       "\n",
       "    .dataframe tbody tr th {\n",
       "        vertical-align: top;\n",
       "    }\n",
       "\n",
       "    .dataframe thead th {\n",
       "        text-align: right;\n",
       "    }\n",
       "</style>\n",
       "<table border=\"1\" class=\"dataframe\">\n",
       "  <thead>\n",
       "    <tr style=\"text-align: right;\">\n",
       "      <th></th>\n",
       "      <th>link</th>\n",
       "    </tr>\n",
       "  </thead>\n",
       "  <tbody>\n",
       "    <tr>\n",
       "      <th>0</th>\n",
       "      <td>https://eur-lex.europa.eu/legal-content/AUTO/?...</td>\n",
       "    </tr>\n",
       "    <tr>\n",
       "      <th>1</th>\n",
       "      <td>https://eur-lex.europa.eu/legal-content/AUTO/?...</td>\n",
       "    </tr>\n",
       "    <tr>\n",
       "      <th>2</th>\n",
       "      <td>https://eur-lex.europa.eu/legal-content/AUTO/?...</td>\n",
       "    </tr>\n",
       "    <tr>\n",
       "      <th>3</th>\n",
       "      <td>https://eur-lex.europa.eu/legal-content/AUTO/?...</td>\n",
       "    </tr>\n",
       "    <tr>\n",
       "      <th>4</th>\n",
       "      <td>https://eur-lex.europa.eu/legal-content/AUTO/?...</td>\n",
       "    </tr>\n",
       "    <tr>\n",
       "      <th>...</th>\n",
       "      <td>...</td>\n",
       "    </tr>\n",
       "    <tr>\n",
       "      <th>517</th>\n",
       "      <td>https://eur-lex.europa.eu/legal-content/AUTO/?...</td>\n",
       "    </tr>\n",
       "    <tr>\n",
       "      <th>518</th>\n",
       "      <td>https://eur-lex.europa.eu/legal-content/AUTO/?...</td>\n",
       "    </tr>\n",
       "    <tr>\n",
       "      <th>519</th>\n",
       "      <td>https://eur-lex.europa.eu/legal-content/AUTO/?...</td>\n",
       "    </tr>\n",
       "    <tr>\n",
       "      <th>520</th>\n",
       "      <td>https://eur-lex.europa.eu/legal-content/AUTO/?...</td>\n",
       "    </tr>\n",
       "    <tr>\n",
       "      <th>521</th>\n",
       "      <td>https://eur-lex.europa.eu/legal-content/AUTO/?...</td>\n",
       "    </tr>\n",
       "  </tbody>\n",
       "</table>\n",
       "<p>522 rows × 1 columns</p>\n",
       "</div>"
      ],
      "text/plain": [
       "                                                  link\n",
       "0    https://eur-lex.europa.eu/legal-content/AUTO/?...\n",
       "1    https://eur-lex.europa.eu/legal-content/AUTO/?...\n",
       "2    https://eur-lex.europa.eu/legal-content/AUTO/?...\n",
       "3    https://eur-lex.europa.eu/legal-content/AUTO/?...\n",
       "4    https://eur-lex.europa.eu/legal-content/AUTO/?...\n",
       "..                                                 ...\n",
       "517  https://eur-lex.europa.eu/legal-content/AUTO/?...\n",
       "518  https://eur-lex.europa.eu/legal-content/AUTO/?...\n",
       "519  https://eur-lex.europa.eu/legal-content/AUTO/?...\n",
       "520  https://eur-lex.europa.eu/legal-content/AUTO/?...\n",
       "521  https://eur-lex.europa.eu/legal-content/AUTO/?...\n",
       "\n",
       "[522 rows x 1 columns]"
      ]
     },
     "execution_count": 7,
     "metadata": {},
     "output_type": "execute_result"
    }
   ],
   "source": [
    "df.to_csv('eur_lex_links.csv', index=False)"
   ]
  }
 ],
 "metadata": {
  "kernelspec": {
   "display_name": "elqm",
   "language": "python",
   "name": "python3"
  },
  "language_info": {
   "codemirror_mode": {
    "name": "ipython",
    "version": 3
   },
   "file_extension": ".py",
   "mimetype": "text/x-python",
   "name": "python",
   "nbconvert_exporter": "python",
   "pygments_lexer": "ipython3",
   "version": "3.11.5"
  }
 },
 "nbformat": 4,
 "nbformat_minor": 2
}
