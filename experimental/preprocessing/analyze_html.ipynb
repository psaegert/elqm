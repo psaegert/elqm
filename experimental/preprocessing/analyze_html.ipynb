{
 "cells": [
  {
   "cell_type": "code",
   "execution_count": 2,
   "metadata": {},
   "outputs": [],
   "source": [
    "import os\n",
    "import re\n",
    "import random\n",
    "import spacy\n",
    "\n",
    "from tqdm import tqdm\n",
    "from bs4 import BeautifulSoup\n",
    "\n",
    "from elqm.data import get_raw_data"
   ]
  },
  {
   "cell_type": "code",
   "execution_count": 3,
   "metadata": {},
   "outputs": [
    {
     "name": "stdout",
     "output_type": "stream",
     "text": [
      "\u001b[38;5;2m✔ Download and installation successful\u001b[0m\n",
      "You can now load the package via spacy.load('en_core_web_sm')\n"
     ]
    }
   ],
   "source": [
    "spacy.prefer_gpu()\n",
    "spacy.cli.download(\"en_core_web_sm\")"
   ]
  },
  {
   "cell_type": "code",
   "execution_count": 4,
   "metadata": {},
   "outputs": [],
   "source": [
    "data = get_raw_data()"
   ]
  },
  {
   "cell_type": "code",
   "execution_count": 5,
   "metadata": {},
   "outputs": [
    {
     "name": "stdout",
     "output_type": "stream",
     "text": [
      "31997Y0711(01): {'Dates': {'Date of document': '27/06/1997', 'Date of effect': '27/06/1997', 'Date of end of validity': 'No end date'}, 'Misc': {'Author': 'Council of the European Union', 'Form': 'Resolution'}, 'Classification': {'EUROVOC descriptor': ['energy supply', 'environmental protection', 'EU publication', 'European standard', 'economic development', 'renewable energy'], 'Subject matter': ['Energy'], 'Directory code': {'code': '12.10.10.00', 'level 1': 'Energy', 'level 2': 'General principles and programmes', 'level 3': 'General'}}, 'html': '<!DOCTYPE HTML PUBLIC \"-//W3C//DTD HTML 4.01 Transitional//EN\"><html lang=\"EN\">\\n<head><meta name=\"format-detection\" content=\"telephone=no\"/>\\n<meta name=\"DC.language\" content=\"EN\">\\n<meta name=\"DC.title\" content=\"EUR-Lex - 31997Y0711(01) - EN\">\\n<meta name=\"DC.subject\" content=\"Energy, renewable energy, Community publication, environmental protection, economic development, energy supply, European standard, \">\\n<meta name=\"DC.description\" content=\"Council Resolution of 27 June 1997 on renewable sources of energy  \">\\n<meta name=\"DC.type\" http-equiv=\"Content-Type\" content=\"text/html; charset=UNICODE-1-1-UTF-8\">\\n<meta name=\"DC.source\" content=\"Official Journal C 210 , 11/07/1997 P. 0001 - 0002; \">\\n<meta name=\"DC.publisher\" content=\"OPOCE\">\\n<meta name=\"DC.identifier\" scheme=\"URI\" content=\"http://europa.eu.int/eur-lex/lex/LexUriServ/LexUriServ.do?uri=CELEX:31997Y0711(01):EN:HTML\">\\n<script type=\"text/javascript\" src=\"/ruxitagentjs_ICA2NVfgjqrux_10259230221142207.js\" data-dtconfig=\"app=47d4c64c3b67ec69|agentId=2c1be46c8222ee71|featureHash=ICA2NVfgjqrux|vcv=2|rdnt=1|uxrgce=1|bp=3|cuc=m097nmfl|mel=100000|mb=null|dpvc=1|iub=null|ssv=4|lastModification=1698244402819|tp=500,50,0,1|agentUri=/ruxitagentjs_ICA2NVfgjqrux_10259230221142207.js|reportUrl=/rb_39a3e95b-5423-482c-879b-99ef235dffeb|rid=RID_-104323714|rpid=371199619|domain=europa.eu\"></script><style type=\"text/css\" media=\"all\">  @import url(./../../../../css/generic.css); </style>\\n<link rel=\"stylesheet\" type=\"text/css\" media=\"print\" href=\"./../../../../css/generic-print.css\">\\n<title>EUR-Lex - 31997Y0711(01) - EN</title>\\n<link rel=\"canonical\" href=\"https://eur-lex.europa.eu/legal-content/EN/TXT/HTML/?uri=CELEX%3A31997Y0711%2801%29\"/>\\n</head>\\n<body>\\n<div id=\"banner\">\\n<a name=\"top\"></a>\\n<div class=\"bglang\">\\n<p class=\"bglang\">\\n<a class=\"langue\" href=\"../../../editorial/legal_notice.htm\" accesskey=\"8\"><b>Avis juridique important</b></a>\\n<br>\\n</p>\\n</div>\\n<div class=\"bgtool\">\\n<em class=\"none\">|</em>\\n</div>\\n</div>\\n<a name=\"top\"></a>\\n<h1>31997Y0711(01)</h1>\\n<p>\\n<strong>Council Resolution of 27 June 1997 on renewable sources of energy  </strong>\\n<br>\\n<em>\\n<br>Official Journal C 210 , 11/07/1997 P. 0001 - 0002<br> </em>\\n</p>\\n<br>\\n<div id=\"TexteOnly\">\\n<p>\\n<TXT_TE>\\n<p>COUNCIL RESOLUTION of 27 June 1997 on renewable sources of energy (97/C 210/01)</p><p></p><p>THE COUNCIL OF THE EUROPEAN UNION,</p><p>Having regard to the Council Resolution of 8 July 1996 on the White Paper &#039;An energy policy for the European Union` (1), which considers that the promotion of new and renewable sources of energy can make a valuable contribution to a safer and healthier environment and, together with the development of indigenous sources, reduce the Community&#039;s energy dependency on external sources and contribute to economic growth and employment,</p><p>Having regard to the Council conclusions of 3 December 1996 on &#039;Climate Change - the energy dimension`, which state that energy policy on a European level needs to make an active contribution to the work on climate change, and that the energy sector should engage in active and early participation in relevant policy development including initiatives on renewable energy,</p><p>Having regard to the White Paper on Growth, Competitiveness and Employment, which demonstrates that clean technologies are a key to future economic prosperity and that it is important to use economic measures and incentives and/or fiscal instruments, if appropriate, to take into account externalities, in particular environmental ones, and thus improve the competitive situation of renewables vis-à-vis other energy sources,</p><p>Having regard to the fourth framework programme (2) of the European Community activities in the field of research and technological development and demonstration and the Joule (3), Thermie (4) and Altener (5) programmes,</p><p>Having regard to the Resolution of the European Parliament of 4 July 1996, which stresses the importance of the development of a Community strategy in the field of renewable energy (6),</p><p>Having regard to the Green Paper for a Community Strategy &#039;Energy for the future: renewable sources of energy`, which indicates a large potential for renewables, identifies a series of obstacles to short-term competitiveness that can be overcome, and proposes an indicative taret of doubling the overall share of renewables in the Community&#039;s energy mix by 2010,</p><p></p><p>(1) REAFFIRMS that the development of renewable sources of energy is an important element in the energy sector&#039;s contribution for:</p><p>- the achievement of sustainable economic growth, since renewables contribute to the reduction of greenhouse gases and to the fight against climate change,</p><p>- the security of energy supply,</p><p>- the development of a strong European industrial renewable energy base which can compete successfully in the global market place,</p><p>- employment creation and regional development, taking into account the competitiveness of renewables in the energy market,</p><p>- the strengthening of the economic structure of the outermost and isolated regions, to contribute to economic and social cohesion.</p><p>(2) CONFIRMS that the aim should be to etablish a strategy that would lead to improved competitiveness and a substantial share of renewables in the long term because renewables are of major importance to achieve a sustainable economic growth. Member States and the Community should formulate indicative targets as a guideline for this share in the medium (2010) to long term (2020) to strive for and to measure progress in this field. The indicative target to double the overall share of renewables in the Community by 2010 as mentioned in the Green Paper is ambitious and could give useful guidance for increased efforts at Community as well as at Member State level.</p><p>(3) NOTES that within the framework of liberalization of energy markets an active governmental policy at the level of Member States and - taking into account the principle of subsidiarity - at Community level is necessary to improve the competitiveness of renewables.</p><p>(4) CONSIDERS that essential elements with an important Community dimension to be applied in a pragmatic manner according to the level of technological progress are in the following fields:</p><p>- research, technological development and demonstration (paragraph 5),</p><p>- market conditions (paragraph 6 to 8),</p><p>- actions to promote consumer information and confidence (paragraph 6 and 9),</p><p>- coordination and monitoring (paragraph 10).</p><p>(5) BELIEVES that in the field of research, technological development and demonstration a strong commitment and continuation of the fourth framework programme and an adequate provision for the support for renewables in the fifth framework programme are required.</p><p>UNDERLINES the importance of national efforts in the field of research, development and demonstration in respect of the implementation of renewable energy sources in the Member States.</p><p>(6) CONFIRMS that the harmonization of standards on renewables in the Community would serve the double purpose of facilitating introduction of new technologies into the internal market and boosting confidence in these technologies.</p><p>INVITES the appropriate standardization bodies in the Community to continue their work in this field.</p><p>(7) BELIEVES that in order to stimulate the market for renewables, appropriate regulatory measures encouraging market participants to buy energy produced from renewable resources may be introduced.</p><p>(8) RECALLS that, according to Community Guidelines on State Aid for Environmental Protection (7) and in view of the especially high priority in the Community given to the development of renewables, investment aid for renewables can, in appropriate cases, also be authorized when they exceed the general levels of aid contained in these Guidelines, and that the beneficial effects of such measures to the environment must outweigh the distortive effects on competition.</p><p>(9) BELIEVES that the dissemination of information will increase market confidence and awareness in renewables, and allow customers to make informed choices.</p><p>Actions to increase customer choice for renewable energy can prove important for the development of sustainable energy. As a suggestion for action in this field, energy distributors could, by means of special tariffs, grant the possibility to customers to buy electricity produced from renewables.</p><p>(10) CONSIDERS that to make optimal use of available resources good coordination and monitoring of progress are required and that coordination should be strengthened within the Commission services and between Member States. To formulate a comprehensive and mutually reinforcing strategy, different policies and programmes in various fields must be taken into account.</p><p>(11) WELCOMES the presentation by the Commission of the Green Paper and INVITES the Commission to develop a comprehensive strategy for the promotion of renewable sources of energy on the basis of the principles outlined above.</p><p></p><p>(1) OJ No C 224, 1. 8. 1996, p. 1.</p><p>(2) OJ No L 126, 18. 5. 1994, p. 1. Decision as amended by Decision No 616/96/EC (OJ No L 86, 4. 4. 1996, p. 69).</p><p>(3) OJ No L 98, 11. 4. 1989, p. 13.</p><p>(4) OJ No L 185, 17. 7. 1990, p. 1.</p><p>(5) OJ No L 235, 18. 9. 1993, p. 41.</p><p>(6) OJ No C 211, 22. 7. 1996, p. 27.</p><p>(7) OJ No C 72, 10. 3. 1994, p. 3.</p><p></p><p></p><p>  </p>\\n</TXT_TE>\\n</p>\\n</div>\\n</body>\\n</html>\\n'}\n",
      "31981D0648: {'Dates': {'Date of document': '10/07/1981', 'Date of effect': '19/08/1981', 'Date of notification': '19/08/1981', 'Date of end of validity': 'No end date'}, 'Misc': {'Author': 'European Commission', 'Form': 'Decision', 'Addressee': 'France', 'Authentic language': 'French'}, 'Classification': {'EUROVOC descriptor': ['France', 'financial loss', 'aid to industry', 'coal industry', 'State aid'], 'Subject matter': ['State aids', 'Hard coal', 'Competition'], 'Directory code': {'code': '08.60.00.00', 'level 1': 'Competition policy', 'level 2': 'State aids and other subsidies', 'level 3': 'Energy', 'level 4': 'Coal', 'level 5': 'Promotion of the coal industry'}}, 'html': '<!DOCTYPE HTML PUBLIC \"-//W3C//DTD HTML 4.01 Transitional//EN\"><html lang=\"EN\">\\n<head><meta name=\"format-detection\" content=\"telephone=no\"/>\\n<meta name=\"DC.language\" content=\"EN\">\\n<meta name=\"DC.title\" content=\"EUR-Lex - 31981D0648 - EN\">\\n<meta name=\"DC.subject\" content=\"Competition, State aids, Hard coal, France, State aid, coal industry, financial loss, aid to industry, \">\\n<meta name=\"DC.description\" content=\"81/648/ECSC: Commission Decision of 10 July 1981 approving aids from the French Republic to the coal-mining industry during 1980 (Only the French text is authentic)  \">\\n<meta name=\"DC.type\" http-equiv=\"Content-Type\" content=\"text/html; charset=UNICODE-1-1-UTF-8\">\\n<meta name=\"DC.source\" content=\"Official Journal L 233 , 19/08/1981 P. 0026 - 0027; \">\\n<meta name=\"DC.publisher\" content=\"OPOCE\">\\n<meta name=\"DC.identifier\" scheme=\"URI\" content=\"http://europa.eu.int/eur-lex/lex/LexUriServ/LexUriServ.do?uri=CELEX:31981D0648:EN:HTML\">\\n<script type=\"text/javascript\" src=\"/ruxitagentjs_ICA2NVfgjqrux_10259230221142207.js\" data-dtconfig=\"app=47d4c64c3b67ec69|agentId=b32117995dc7d7d3|featureHash=ICA2NVfgjqrux|vcv=2|rdnt=1|uxrgce=1|bp=3|cuc=m097nmfl|mel=100000|mb=null|dpvc=1|iub=null|ssv=4|lastModification=1698244402819|tp=500,50,0,1|agentUri=/ruxitagentjs_ICA2NVfgjqrux_10259230221142207.js|reportUrl=/rb_39a3e95b-5423-482c-879b-99ef235dffeb|rid=RID_709017329|rpid=-27590421|domain=europa.eu\"></script><style type=\"text/css\" media=\"all\">  @import url(./../../../../css/generic.css); </style>\\n<link rel=\"stylesheet\" type=\"text/css\" media=\"print\" href=\"./../../../../css/generic-print.css\">\\n<title>EUR-Lex - 31981D0648 - EN</title>\\n<link rel=\"canonical\" href=\"https://eur-lex.europa.eu/legal-content/EN/TXT/HTML/?uri=CELEX%3A31981D0648\"/>\\n</head>\\n<body>\\n<div id=\"banner\">\\n<a name=\"top\"></a>\\n<div class=\"bglang\">\\n<p class=\"bglang\">\\n<a class=\"langue\" href=\"../../../editorial/legal_notice.htm\" accesskey=\"8\"><b>Avis juridique important</b></a>\\n<br>\\n</p>\\n</div>\\n<div class=\"bgtool\">\\n<em class=\"none\">|</em>\\n</div>\\n</div>\\n<a name=\"top\"></a>\\n<h1>31981D0648</h1>\\n<p>\\n<strong>81/648/ECSC: Commission Decision of 10 July 1981 approving aids from the French Republic to the coal-mining industry during 1980 (Only the French text is authentic)  </strong>\\n<br>\\n<em>\\n<br>Official Journal L 233 , 19/08/1981 P. 0026 - 0027<br> </em>\\n</p>\\n<br>\\n<div id=\"TexteOnly\">\\n<p>\\n<TXT_TE>\\n<p>COMMISSION DECISION of 10 July 1981 approving aids from the French Republic to the coal-mining industry during 1980 (Only the French text is authentic) (81/648/ECSC)</p><p>  THE COMMISSION OF THE EUROPEAN COMMUNITIES, </p><p> Having regard to Commission Decision 528/76/ECSC of 25 February 1976 regarding the Community system of measures taken by the Member States to assist the coal-mining industry (1), </p><p> Having consulted the Council, </p><p> I </p><p> Whereas the French Government has informed the Commission, pursuant to Article 2 of the above Decision, of the financial measures which it intends to implement directly or indirectly for the benefit of the coal industry during 1980 ; whereas of these measures the following may be approved pursuant to that Decision; </p><p> Whereas the French Government intends to grant to Charbonnages de France for 1980 aid amounting to FF 2 305 800 000 to permit the economic restructuring of the coalfields to proceed in an appropriate manner; </p><p> Whereas the French Government also proposes to grant to the central administration of Charbonnages de France in 1980 aid amounting to FF 350 000 000 to cover the charges incurred in borrowing and transferred from the pits to the central administration of Charbonnages de France under the French Government&#039;s financial improvement scheme. Whereas this aid is paid not to the coalfields but only to the central administration of Charbonnages de France; </p><p> Whereas the abovementioned aids meet the criteria laid down in the Decision for the admissibility of such state assistance; </p><p> Whereas the aid of FF 2 655 800 000 proposed by the French Government for 1980 to cover losses (of which FF 2 305 800 000, is to cover the coalfields&#039;losses on mining and FF 350 000 000 to cover the losses sustained by the central administration of Charbonnages de France) will not be higher than the likely operating losses of Charbonnages de France; </p><p> Whereas the following points are relevant in connection with aid to the individual coalfields:    1. In 1980, aid to the Nord/Pas-de-Calais and Centre-Midi coalfields will be calculated in such a way that, as a result of the closure of further pits, there will be a reduction in production, which will mean that some 2 150 fewer persons will be employed in the coal industry. The aids will prevent severe economic and social disruption in areas where there are not yet adequate opportunities for reemployment. The aids to these coalfields therefore comply with the provisions of the first subparagraph of Article 12 (1) and Article 12 (2) of the Decision. </p><p>      2. The output planning of the Charbonnages de France in the Lorraine coalfields aims at long-term stabilization, since the coking coal produced in this coalfield is important for supplying the steel industry. The aid granted for this purpose complies with the second subparagraph of Article 12 (1) and Article 12 (3) of the Decision. </p><p>      </p><p> </p><p> II </p><p> Whereas, under Article 3 (2) of the Decision, an examination of the compatibility of the proposed aids with the proper functioning of the common market must also extend to all other financial measures to support current production in 1980; </p><p> Whereas the sum of all these aids to support current production by the French coal industry is 461 400 000 ECU, or 25 764 ECU per tonne, for 1980 ; whereas this is higher than corresponding German and United Kingdom aids but lower than Belgian aid; </p><p> Whereas the following points must be made about the compatibility of the proposed aid with the proper functioning of the common market:    - there were no supply difficulties on the French coal market in 1980, </p><p>      - French coal exports to other Community countries fell in 1980 compared with 1979,  (1) OJ No L 63, 11.3.1976, p. 1.  </p><p>      - hardly any price alignment agreements were entered into for French coal in 1980, </p><p>      - industrial consumers of coal did not directly receive aid in 1980 through the prices of French coking coal and steam coal, </p><p>      - the closure of three marginal pits in the Nord/Pas-de-Calais and Centre-Midi coalfield resulted in rationalization and concentration of production on pits where productivity is highest; </p><p>      </p><p> </p><p> Whereas it may accordingly be concluded that the aids proposed in 1980 for current production by the French coal industry are compatible with the proper functioning of the common market; </p><p> Whereas this applies even when account is taken of aids to coal mines under Decision 73/287/ECSC; </p><p> III </p><p> Whereas, pursuant to Article 14 (1) of the Decision, the Commission must satisfy itself that the approved aids are used exclusively for the purposes set out in Articles 7 to 12 of that Decision ; whereas consequently the Commission is to be notified in particular of the amount of the aid and the manner in which it is apportioned, </p><p> HAS ADOPTED THIS DECISION:</p><p> </p><p>   Article 1</p><p> The French Republic is hereby authorized to grant to the coal industry the following aid for 1980:    (a) an amount not exceeding FF 2 305 800 000 to cover losses on mining; </p><p>      (b) an amount not exceeding FF 350 000 000 to cover the financial losses sustained by the central administration of Charbonnages de France. </p><p>      </p><p> </p><p> </p><p> Article 2</p><p> The Government of the French Republic shall notify the Commission by 31 October 1981 of details of the aids granted pursuant to this Decision and in particular of the amounts paid and the manner in which they are apportioned. </p><p> </p><p> Article 3</p><p> This Decision is addressed to the French Republic.</p><p> </p><p> </p><p>   Done at Brussels, 10 July 1981. </p><p> For the Commission </p><p> Étienne DAVIGNON </p><p> Vice-President  </p><p> </p><p>  </p>\\n</TXT_TE>\\n</p>\\n</div>\\n</body>\\n</html>\\n'}\n",
      "32013D0791: {'Dates': {'Date of document': '13/12/2013', 'Date of effect': '24/12/2013', 'Date of effect 1': '01/01/2014', 'Date of notification': '07/01/2014', 'Date of end of validity': 'No end date'}, 'Misc': {'Author': 'Council of the European Union', 'Form': 'Decision', 'Addressee': 'The Member States', 'Additional information': 'NLE 2013/0295'}, 'Classification': {'EUROVOC descriptor': ['nuclear fusion', 'Japan', 'cooperation agreement', 'European Joint Undertaking', 'general budget (EU)', 'nuclear research', 'financial aid'], 'Subject matter': ['External relations', 'Energy'], 'Directory code': {'code': '11.30.70.00', 'level 1': 'External relations', 'level 2': 'Multilateral relations', 'level 3': 'Other spheres of multilateral cooperation', 'level 4': 'Energy', 'level 5': 'Nuclear energy', 'level 6': 'Other measures relating to nuclear energy'}}, 'html': '<?xml version=\"1.0\" encoding=\"UTF-8\"?>\\r\\n<!DOCTYPE html PUBLIC \"-//W3C//DTD XHTML//EN\" \"xhtml-strict.dtd\">\\r\\n<html xmlns=\"http://www.w3.org/1999/xhtml\">\\r\\n<!-- CONVEX # converter_version:6.7 # generated_on:20160129-0648 -->\\r\\n<head><meta name=\"format-detection\" content=\"telephone=no\"/><meta http-equiv=\\'X-UA-Compatible\\' content=\\'IE=edge\\'/><meta name=\\'viewport\\' content=\\'width=device-width, initial-scale=1\\'><meta name=\\'WT.z_usr_lan\\' content=\\'EN\\'>\\n   <meta http-equiv=\"content-type\" content=\"text/html; charset=utf-8\"/>\\n   \\n   <title>L_2013349EN.01010001.xml</title>\\n<script type=\"text/javascript\" src=\"/ruxitagentjs_ICA2NVfgjqrux_10259230221142207.js\" data-dtconfig=\"app=47d4c64c3b67ec69|agentId=2c1be46c8222ee71|featureHash=ICA2NVfgjqrux|vcv=2|rdnt=1|uxrgce=1|bp=3|cuc=m097nmfl|mel=100000|mb=null|dpvc=1|iub=null|ssv=4|lastModification=1698244402819|tp=500,50,0,1|agentUri=/ruxitagentjs_ICA2NVfgjqrux_10259230221142207.js|reportUrl=/rb_39a3e95b-5423-482c-879b-99ef235dffeb|rid=RID_-1464160025|rpid=1581981077|domain=europa.eu\"></script><link rel=\"canonical\" href=\"https://eur-lex.europa.eu/legal-content/EN/TXT/HTML/?uri=CELEX%3A32013D0791\"/>\\n<link rel=\\'stylesheet\\' media=\\'all\\' href=\\'./../../../../revamp/components/vendor/bootstrap/dist/css/bootstrap.css\\'><link rel=\\'stylesheet\\' media=\\'all\\' href=\\'./../../../../revamp/components/vendor/font-awesome/css/font-awesome.min.css\\'><link rel=\\'stylesheet\\' media=\\'all\\' href=\\'./../../../../revamp/css/eurlex.css\\'><link rel=\\'stylesheet\\' media=\\'all\\' href=\\'./../../../../revamp/css/eurlex-dev.css\\'><link rel=\\'stylesheet\\' media=\\'all\\' href=\\'./../../../../css/oj/oj.css\\'></head>\\n<body>\\n   <table width=\"100%\" border=\"0\" cellspacing=\"0\" cellpadding=\"0\">\\n      <col width=\"10%\"/>\\n      <col width=\"10%\"/>\\n      <col width=\"60%\"/>\\n      <col width=\"20%\"/>\\n      <tbody>\\n         <tr>\\n            <td>\\n               <p class=\"hd-date\">21.12.2013\\xa0\\xa0\\xa0</p>\\n            </td>\\n            <td>\\n               <p class=\"hd-lg\">EN</p>\\n            </td>\\n            <td>\\n               <p class=\"hd-ti\">Official Journal of the European Union</p>\\n            </td>\\n            <td>\\n               <p class=\"hd-oj\">L 349/100</p>\\n            </td>\\n         </tr>\\n      </tbody>\\n   </table>\\n   <hr class=\"separator\"/>\\n   <p class=\"doc-ti\" id=\"d1e39-100-1\">COUNCIL DECISION</p>\\n   <p class=\"doc-ti\">of 13 December 2013</p>\\n   <p class=\"doc-ti\">amending Decision 2007/198/Euratom establishing the European Joint Undertaking for ITER and the Development of Fusion Energy and conferring advantages upon it</p>\\n   <p class=\"doc-ti\">(2013/791/Euratom)</p>\\n   <p class=\"normal\">THE COUNCIL OF THE EUROPEAN UNION,</p>\\n   <p class=\"normal\">Having regard to the Treaty establishing the European Atomic Energy Community, and in particular the third and fourth paragraphs of Article 47 thereof,</p>\\n   <p class=\"normal\">Having regard to the proposal from the European Commission,</p>\\n   <p class=\"normal\">Whereas:</p>\\n   <table width=\"100%\" border=\"0\" cellspacing=\"0\" cellpadding=\"0\">\\n      <col width=\"4%\"/>\\n      <col width=\"96%\"/>\\n      <tbody>\\n         <tr>\\n            <td valign=\"top\">\\n               <p class=\"normal\">(1)</p>\\n            </td>\\n            <td valign=\"top\">\\n               <p class=\"normal\">Council Decision 2007/198/Euratom<a id=\"ntc1-L_2013349EN.01010001-E0001\" href=\"#ntr1-L_2013349EN.01010001-E0001\">\\xa0(<span class=\"super\">1</span>)</a> established the European Joint Undertaking for ITER and the Development of Fusion Energy (the ‘Joint Undertaking’) to provide the contribution of the European Atomic Energy Community (‘Euratom’) to the ITER International Fusion Energy Organisation and the Broader Approach Activities with Japan as well as to prepare and coordinate a programme of activities in preparation for the construction of a demonstration fusion reactor and related facilities.</p>\\n            </td>\\n         </tr>\\n      </tbody>\\n   </table>\\n   <table width=\"100%\" border=\"0\" cellspacing=\"0\" cellpadding=\"0\">\\n      <col width=\"4%\"/>\\n      <col width=\"96%\"/>\\n      <tbody>\\n         <tr>\\n            <td valign=\"top\">\\n               <p class=\"normal\">(2)</p>\\n            </td>\\n            <td valign=\"top\">\\n               <p class=\"normal\">Decision 2007/198/Euratom provides for a financial reference amount deemed necessary for the Joint Undertaking together with the indicative total contribution of Euratom towards such amount, which should be made available through the Euratom research and training programmes adopted pursuant to Article 7 of the Euratom Treaty.</p>\\n            </td>\\n         </tr>\\n      </tbody>\\n   </table>\\n   <table width=\"100%\" border=\"0\" cellspacing=\"0\" cellpadding=\"0\">\\n      <col width=\"4%\"/>\\n      <col width=\"96%\"/>\\n      <tbody>\\n         <tr>\\n            <td valign=\"top\">\\n               <p class=\"normal\">(3)</p>\\n            </td>\\n            <td valign=\"top\">\\n               <p class=\"normal\">The resources deemed necessary for the Joint Undertaking during the ITER construction phase, covering the 2007-2020 period, amounted to EUR 7\\xa0200\\xa0000\\xa0000 (in 2008 value) in March 2010. In July 2010, the Council capped this amount to EUR 6\\xa0600\\xa0000\\xa0000 (in 2008 value).</p>\\n            </td>\\n         </tr>\\n      </tbody>\\n   </table>\\n   <table width=\"100%\" border=\"0\" cellspacing=\"0\" cellpadding=\"0\">\\n      <col width=\"4%\"/>\\n      <col width=\"96%\"/>\\n      <tbody>\\n         <tr>\\n            <td valign=\"top\">\\n               <p class=\"normal\">(4)</p>\\n            </td>\\n            <td valign=\"top\">\\n               <p class=\"normal\">The European Parliament and the Council set the maximum level of the Euratom commitments for ITER in the Multiannual Financial Framework for the 2014-2020 period at EUR 2\\xa0707\\xa0000\\xa0000 (in 2011 value).</p>\\n            </td>\\n         </tr>\\n      </tbody>\\n   </table>\\n   <table width=\"100%\" border=\"0\" cellspacing=\"0\" cellpadding=\"0\">\\n      <col width=\"4%\"/>\\n      <col width=\"96%\"/>\\n      <tbody>\\n         <tr>\\n            <td valign=\"top\">\\n               <p class=\"normal\">(5)</p>\\n            </td>\\n            <td valign=\"top\">\\n               <p class=\"normal\">It is necessary to amend Decision 2007/198/Euratom to allow the financing of the activities of the Joint Undertaking for the 2014-2020 period from the general budget of the European Union and not through the Euratom research and training programmes.</p>\\n            </td>\\n         </tr>\\n      </tbody>\\n   </table>\\n   <table width=\"100%\" border=\"0\" cellspacing=\"0\" cellpadding=\"0\">\\n      <col width=\"4%\"/>\\n      <col width=\"96%\"/>\\n      <tbody>\\n         <tr>\\n            <td valign=\"top\">\\n               <p class=\"normal\">(6)</p>\\n            </td>\\n            <td valign=\"top\">\\n               <p class=\"normal\">Third countries which have concluded a cooperation agreement with Euratom in the field of nuclear energy research, including controlled nuclear fusion, that associate their respective research programmes with the Euratom programmes are to contribute to the financing of the activities of the Joint Undertaking. Their contribution should be determined in the respective cooperation agreement with Euratom.</p>\\n            </td>\\n         </tr>\\n      </tbody>\\n   </table>\\n   <table width=\"100%\" border=\"0\" cellspacing=\"0\" cellpadding=\"0\">\\n      <col width=\"4%\"/>\\n      <col width=\"96%\"/>\\n      <tbody>\\n         <tr>\\n            <td valign=\"top\">\\n               <p class=\"normal\">(7)</p>\\n            </td>\\n            <td valign=\"top\">\\n               <p class=\"normal\">The 2012 fusion roadmap developed by national fusion laboratories has the ultimate aim of supporting ITER design and construction and demonstrating electricity production by fusion by around the middle of the century. Therefore, in order to fulfil its tasks, the Joint Undertaking should maintain a close working relationship with the European entities implementing this roadmap.</p>\\n            </td>\\n         </tr>\\n      </tbody>\\n   </table>\\n   <table width=\"100%\" border=\"0\" cellspacing=\"0\" cellpadding=\"0\">\\n      <col width=\"4%\"/>\\n      <col width=\"96%\"/>\\n      <tbody>\\n         <tr>\\n            <td valign=\"top\">\\n               <p class=\"normal\">(8)</p>\\n            </td>\\n            <td valign=\"top\">\\n               <p class=\"normal\">It is also appropriate to update Decision 2007/198/Euratom as regards the provisions on protection of the Union\\'s financial interests.</p>\\n            </td>\\n         </tr>\\n      </tbody>\\n   </table>\\n   <table width=\"100%\" border=\"0\" cellspacing=\"0\" cellpadding=\"0\">\\n      <col width=\"4%\"/>\\n      <col width=\"96%\"/>\\n      <tbody>\\n         <tr>\\n            <td valign=\"top\">\\n               <p class=\"normal\">(9)</p>\\n            </td>\\n            <td valign=\"top\">\\n               <p class=\"normal\">It is appropriate to inform the European Parliament and the Council on the implementation of Decision 2007/198/Euratom on the basis of information provided by the Joint Undertaking.</p>\\n            </td>\\n         </tr>\\n      </tbody>\\n   </table>\\n   <table width=\"100%\" border=\"0\" cellspacing=\"0\" cellpadding=\"0\">\\n      <col width=\"4%\"/>\\n      <col width=\"96%\"/>\\n      <tbody>\\n         <tr>\\n            <td valign=\"top\">\\n               <p class=\"normal\">(10)</p>\\n            </td>\\n            <td valign=\"top\">\\n               <p class=\"normal\">Decision 2007/198/Euratom should therefore be amended accordingly,</p>\\n            </td>\\n         </tr>\\n      </tbody>\\n   </table>\\n   <p class=\"normal\">HAS ADOPTED THIS DECISION:</p>\\n   <p id=\"d1e153-100-1\" class=\"ti-art\">Article 1</p>\\n   <p class=\"normal\">Decision 2007/198/Euratom is amended as follows:</p>\\n   <table width=\"100%\" border=\"0\" cellspacing=\"0\" cellpadding=\"0\">\\n      <col width=\"4%\"/>\\n      <col width=\"96%\"/>\\n      <tbody>\\n         <tr>\\n            <td valign=\"top\">\\n               <p class=\"normal\">(1)</p>\\n            </td>\\n            <td valign=\"top\">\\n               <p class=\"normal\">Article 4 is amended as follows:</p>\\n               <table width=\"100%\" border=\"0\" cellspacing=\"0\" cellpadding=\"0\">\\n                  <col width=\"4%\"/>\\n                  <col width=\"96%\"/>\\n                  <tbody>\\n                     <tr>\\n                        <td valign=\"top\">\\n                           <p class=\"normal\">(a)</p>\\n                        </td>\\n                        <td valign=\"top\">\\n                           <p class=\"normal\">paragraph1, point (c) is replaced by the following:</p>\\n                           <table width=\"100%\" border=\"0\" cellspacing=\"0\" cellpadding=\"0\">\\n                              <col width=\"4%\"/>\\n                              <col width=\"96%\"/>\\n                              <tbody>\\n                                 <tr>\\n                                    <td valign=\"top\">\\n                                       <p class=\"normal\">‘(c)</p>\\n                                    </td>\\n                                    <td valign=\"top\">\\n                                       <p class=\"normal\">as regards the tasks referred to in Article 1(2)(c), in accordance with research and training programmes adopted pursuant to Article 7 of the Treaty or through any other decision adopted by the Council.’</p>\\n                                    </td>\\n                                 </tr>\\n                              </tbody>\\n                           </table>\\n                        </td>\\n                     </tr>\\n                  </tbody>\\n               </table>\\n               <table width=\"100%\" border=\"0\" cellspacing=\"0\" cellpadding=\"0\">\\n                  <col width=\"4%\"/>\\n                  <col width=\"96%\"/>\\n                  <tbody>\\n                     <tr>\\n                        <td valign=\"top\">\\n                           <p class=\"normal\">(b)</p>\\n                        </td>\\n                        <td valign=\"top\">\\n                           <p class=\"normal\">in paragraph 2, the following subparagraph is added:</p>\\n                           <p class=\"normal\">‘The contributions from third countries which have concluded a cooperation agreement with Euratom in the field of nuclear energy research, including controlled nuclear fusion, that associate their respective research programmes with the Euratom programmes, shall be determined in the respective cooperation agreement with Euratom.’</p>\\n                        </td>\\n                     </tr>\\n                  </tbody>\\n               </table>\\n               <table width=\"100%\" border=\"0\" cellspacing=\"0\" cellpadding=\"0\">\\n                  <col width=\"4%\"/>\\n                  <col width=\"96%\"/>\\n                  <tbody>\\n                     <tr>\\n                        <td valign=\"top\">\\n                           <p class=\"normal\">(c)</p>\\n                        </td>\\n                        <td valign=\"top\">\\n                           <p class=\"normal\">paragraph 3 is replaced by the following:</p>\\n                           <p class=\"normal\">‘3.\\xa0\\xa0\\xa0The Euratom contribution to the Joint Undertaking for the 2014-2020 period is set at EUR 2\\xa0915\\xa0015\\xa0000 (in current values).’</p>\\n                        </td>\\n                     </tr>\\n                  </tbody>\\n               </table>\\n               <table width=\"100%\" border=\"0\" cellspacing=\"0\" cellpadding=\"0\">\\n                  <col width=\"4%\"/>\\n                  <col width=\"96%\"/>\\n                  <tbody>\\n                     <tr>\\n                        <td valign=\"top\">\\n                           <p class=\"normal\">(d)</p>\\n                        </td>\\n                        <td valign=\"top\">\\n                           <p class=\"normal\">paragraph 4 is deleted.</p>\\n                        </td>\\n                     </tr>\\n                  </tbody>\\n               </table>\\n            </td>\\n         </tr>\\n      </tbody>\\n   </table>\\n   <table width=\"100%\" border=\"0\" cellspacing=\"0\" cellpadding=\"0\">\\n      <col width=\"4%\"/>\\n      <col width=\"96%\"/>\\n      <tbody>\\n         <tr>\\n            <td valign=\"top\">\\n               <p class=\"normal\">(2)</p>\\n            </td>\\n            <td valign=\"top\">\\n               <p class=\"normal\">the following Articles are inserted:</p>\\n               <p id=\"d1e229-100-1\" class=\"ti-art\">‘Article 5a</p>\\n               <p class=\"sti-art\">Protection of the Union\\'s Financial Interests</p>\\n               <p class=\"normal\">1.\\xa0\\xa0\\xa0The Commission shall take appropriate measures ensuring that, when actions financed under this Decision are implemented, the financial interests of the Union are protected by the application of preventive measures against fraud, corruption and any other illegal activities, by effective checks and, where irregularities are detected, by the recovery of the amounts wrongly paid and, where appropriate, by effective, proportionate and dissuasive penalties.</p>\\n               <p class=\"normal\">2.\\xa0\\xa0\\xa0The Commission or its representatives and the Court of Auditors shall have the power of audit, on the basis of documents and on-the-spot checks and inspections, over all grant beneficiaries, contractors, subcontractors and other third parties who have received Euratom funds under this Decision.</p>\\n               <p class=\"normal\">3.\\xa0\\xa0\\xa0The European Anti-Fraud Office (OLAF) may carry out investigations, including on-the-spot checks and inspections, in accordance with the provisions and procedures laid down in Regulation (EU, Euratom) No 883/2013 of the European Parliament and of the Council<a id=\"ntc2-L_2013349EN.01010001-E0002\" href=\"#ntr2-L_2013349EN.01010001-E0002\">\\xa0(<span class=\"super\">2</span>)</a> and Council Regulation (Euratom, EC) No 2185/96<a id=\"ntc3-L_2013349EN.01010001-E0003\" href=\"#ntr3-L_2013349EN.01010001-E0003\">\\xa0(<span class=\"super\">3</span>)</a> with a view to establishing whether there has been fraud, corruption or any other illegal activity affecting the financial interests of the Union in connection with an agreement or decision or a contract funded under this Decision.</p>\\n               <p class=\"normal\">Without prejudice to paragraph 2 and the first subparagraph of this paragraph, cooperation agreements with third countries and international organisations, contracts, agreements and decisions resulting from the application of this Decision shall expressly empower the Commission, the Court of Auditors and OLAF to conduct audits, on-the-spot checks and inspections.</p>\\n               <p id=\"d1e273-100-1\" class=\"ti-art\">Article 5b</p>\\n               <p class=\"sti-art\">Mid-term review</p>\\n               <p class=\"normal\">The Commission shall submit to the European Parliament and to the Council, by 31 December 2017, at the latest, a progress report on the implementation of this Decision on the basis of information provided by the Joint Undertaking. That report shall set out the results of the use of the Euratom contribution referred to in Article 4(3) as regards commitments and expenditure.</p>\\n               <p class=\"note\">\\n                  <a id=\"ntr2-L_2013349EN.01010001-E0002\" href=\"#ntc2-L_2013349EN.01010001-E0002\"\\n                     class=\"quotation\">(<span class=\"super\">2</span>)</a>\\xa0\\xa0Regulation (EU, Euratom) No 883/2013 of the European Parliament and of the Council of 11 September 2013 concerning investigations conducted by the European Anti-Fraud Office (OLAF) and repealing Regulation (EC) No 1073/1999 of the European Parliament and of the Council and Council Regulation (Euratom) No 1074/1999 (<a href=\"./../../../../legal-content/EN/AUTO/?uri=OJ:L:2013:248:TOC\">OJ L 248, 18.9.2013, p. 1</a>).\"\\n\\t\\t\\t\\t\\t\\t</p>\\n               <p class=\"note\">\\n                  <a id=\"ntr3-L_2013349EN.01010001-E0003\" href=\"#ntc3-L_2013349EN.01010001-E0003\"\\n                     class=\"quotation\">(<span class=\"super\">3</span>)</a>\\xa0\\xa0Council Regulation (Euratom, EC) No 2185/96 of 11 November 1996 concerning on-the-spot checks and inspections carried out by the Commission in order to protect the European Communities\\' financial interests against fraud and other irregularities (<a href=\"./../../../../legal-content/EN/AUTO/?uri=OJ:L:1996:292:TOC\">OJ L 292, 15.11.1996, p. 2</a>).’\"\\n\\t\\t\\t\\t\\t\\t</p>\\n            </td>\\n         </tr>\\n      </tbody>\\n   </table>\\n   <p id=\"d1e283-100-1\" class=\"ti-art\">Article 2</p>\\n   <p class=\"sti-art\">Entry into force</p>\\n   <p class=\"normal\">This Decision shall enter into force on the third day following that of its publication in the <span class=\"italic\">Official Journal of the European Union</span>.</p>\\n   <p class=\"normal\">It shall apply from 1 January 2014.</p>\\n   <p id=\"d1e298-100-1\" class=\"ti-art\">Article 3</p>\\n   <p class=\"sti-art\">Addressees</p>\\n   <p class=\"normal\">This Decision is addressed to the Member States.</p>\\n   <div class=\"final\">\\n      <p class=\"normal\">Done at Brussels, 13 December 2013.</p>\\n      <div class=\"signatory\">\\n         <p class=\"signatory\">\\n            <span class=\"italic\">For the Council</span>\\n         </p>\\n         <p class=\"signatory\">\\n            <span class=\"italic\">The President</span>\\n         </p>\\n         <p class=\"signatory\">V. MAZURONIS</p>\\n      </div>\\n   </div>\\n   <hr class=\"note\"/>\\n   <p class=\"note\">\\n      <a id=\"ntr1-L_2013349EN.01010001-E0001\" href=\"#ntc1-L_2013349EN.01010001-E0001\">(<span class=\"super\">1</span>)</a>\\xa0\\xa0Council Decision 2007/198/Euratom of 27 March 2007 establishing the European Joint Undertaking for ITER and the Development of Fusion Energy and conferring advantages upon it (<a href=\"./../../../../legal-content/EN/AUTO/?uri=OJ:L:2007:090:TOC\">OJ L 90, 30.3.2007, p. 58</a>).</p>\\n   <hr class=\"doc-end\"/>\\n<script src=\\'./../../../../js/jquery.js\\'>//</script><script src=\\'./../../../../dynamic-js/eli_subdivisions_en.js\\'>//</script><script src=\\'./../../../../dynamic-js/config.js\\'>//</script><script src=\\'./../../../../dynamic-js/const.js\\'>//</script><script src=\\'./../../../../js/TOC_ELI_SUBDIVISIONS.js\\'>//</script><script src=\\'./../../../../revamp/components/vendor/bootstrap/dist/js/bootstrap.min.js\\'>//</script><script src=\\'./../../../../revamp/js/metisMenu.min.js\\'>//</script><script src=\\'./../../../../revamp/js/eurlex.js\\'>//</script><script src=\\'./../../../../js/eur-lex.js\\'>//</script><script src=\\'./../../../../js/cookieConsentKitUtils.js?v=2.11.6\\'>//</script><script src=\\'./../../../../js/TOC.js\\'>//</script><script type=\\'text/javascript\\'>$(document).ready(function(){generateTOC(true,\\'\\', \\'Top\\',\\'false\\');scrollToCurrentUrlAnchor();});</script></body>\\r\\n</html>\\r\\n'}\n"
     ]
    }
   ],
   "source": [
    "random_keys = random.sample(list(data.keys()), min(3, len(data)))\n",
    "\n",
    "# Print the random elements\n",
    "for key in random_keys:\n",
    "    print(f\"{key}: {data[key]}\")"
   ]
  },
  {
   "cell_type": "markdown",
   "metadata": {},
   "source": [
    "## Manual inspection"
   ]
  },
  {
   "cell_type": "code",
   "execution_count": 6,
   "metadata": {},
   "outputs": [
    {
     "name": "stderr",
     "output_type": "stream",
     "text": [
      "100%|██████████| 5/5 [00:00<00:00, 25.97it/s]"
     ]
    },
    {
     "name": "stdout",
     "output_type": "stream",
     "text": [
      "0\n",
      "filtered\\0original.html\n",
      "1\n",
      "filtered\\1original.html\n",
      "2\n",
      "filtered\\2original.html\n",
      "filtered\\3original.html\n",
      "filtered\\4original.html\n"
     ]
    },
    {
     "name": "stderr",
     "output_type": "stream",
     "text": [
      "\n"
     ]
    }
   ],
   "source": [
    "# Select 20 random documents and write them to files for manual inspection\n",
    "sampleNumber = 5\n",
    "\n",
    "random.seed(42)\n",
    "# keys of the data dict. Each key accesses a dict insice the data dict that has the following attributes: Dates, Misc, Classification, html\n",
    "specific_keys = list(data.keys())[:sampleNumber]\n",
    "\n",
    "# Useless documents\n",
    "uselessDocKey = []\n",
    "\n",
    "for i, key in enumerate(tqdm(specific_keys)):\n",
    "    # Data processing\n",
    "    doc = data[key]\n",
    "    html = doc[\"html\"]\n",
    "    soupHTML = BeautifulSoup(html, 'html.parser')\n",
    "    text = soupHTML.get_text(separator='\\n')\n",
    "    text = re.sub(r'\\n+', '\\n', text)\n",
    "    text = re.sub(r'\\n\\s*\\n', '\\n', text)\n",
    "    # Count invalid documents and save their key\n",
    "    if (text.find(\"The requested document does not exist.\") != -1):\n",
    "        uselessDocKey.append(key)\n",
    "        print(i)\n",
    "\n",
    "    # Printing progress\n",
    "    #print(key)\n",
    "    #print(i)\n",
    "\n",
    "    # Save extracted text to files\n",
    "    subdirectory = 'filtered'\n",
    "    file_name1 = f\"{i}.html\"\n",
    "    file_name2 = f\"{i}.txt\"\n",
    "    file_name3 = f\"{i}original.html\"\n",
    "    file_path1 = os.path.join(subdirectory, file_name1)\n",
    "    file_path2 = os.path.join(subdirectory, file_name2)\n",
    "    file_path3 = os.path.join(subdirectory, file_name3)\n",
    "\n",
    "    print(file_path3)\n",
    "    \n",
    "    os.makedirs(subdirectory, exist_ok=True)\n",
    "\n",
    "\n",
    "    with open(file_path1, 'w', encoding='utf-8') as file:\n",
    "        file.write(str(soupHTML))\n",
    "    with open(file_path2, 'w', encoding='utf-8') as file:\n",
    "        file.write(text)\n",
    "    with open(file_path3, 'w', encoding='utf-8') as file:\n",
    "        file.write(html)"
   ]
  },
  {
   "cell_type": "markdown",
   "metadata": {},
   "source": [
    "## Text only documents percentage"
   ]
  },
  {
   "cell_type": "code",
   "execution_count": 31,
   "metadata": {},
   "outputs": [
    {
     "name": "stderr",
     "output_type": "stream",
     "text": [
      "  0%|          | 0/508 [00:00<?, ?it/s]"
     ]
    },
    {
     "name": "stderr",
     "output_type": "stream",
     "text": [
      "100%|██████████| 508/508 [00:14<00:00, 36.20it/s] \n"
     ]
    }
   ],
   "source": [
    "# Parse the HTML of each document in data and find out if there is a div with id \"TexteOnly\"\n",
    "\n",
    "docs_text_only = []\n",
    "docs_mixed = []\n",
    "for id, doc in tqdm(data.items(), total=len(data)):\n",
    "    soup = BeautifulSoup(doc['html'], 'html.parser')\n",
    "    div = soup.find('div', id='TexteOnly')\n",
    "    \n",
    "    if div is None:\n",
    "        docs_mixed.append(id)\n",
    "    else:\n",
    "        docs_text_only.append(id)"
   ]
  },
  {
   "cell_type": "code",
   "execution_count": 32,
   "metadata": {},
   "outputs": [
    {
     "name": "stdout",
     "output_type": "stream",
     "text": [
      "Found 233 (45.87%) documents with only text\n"
     ]
    }
   ],
   "source": [
    "print(f'Found {len(docs_text_only)} ({len(docs_text_only)/len(data)*100:.2f}%) documents with only text')"
   ]
  },
  {
   "cell_type": "markdown",
   "metadata": {},
   "source": [
    "## Text only parsing"
   ]
  },
  {
   "cell_type": "code",
   "execution_count": null,
   "metadata": {},
   "outputs": [
    {
     "name": "stdout",
     "output_type": "stream",
     "text": [
      "\n",
      "EUR-Lex - 32001Y0123(02) - EN\n",
      "Avis juridique important\n",
      "|\n",
      "32001Y0123(02)\n",
      "Commission opinion of 20 December 2000 concerning the plan for the disposal of radioactive waste from the commissioning of the liquid metal disposal plant (LMDP) and the waste receipt, assay, characterisation and supercompaction facility (WRACS) located on the Dounreay nuclear site in Scotland (United Kingdom), in accordance with Article 37 of the Euratom Treaty  \n",
      "Official Journal C 020 , 23/01/2001 P. 0004 - 0004 \n",
      "Commission opinionof 20 December 2000concerning the plan for the disposal of radioactive waste from the commissioning of the liquid metal disposal plant (LMDP) and the waste receipt, assay, characterisation and supercompaction facility (WRACS) located on the Dounreay nuclear site in Scotland (United Kingdom), in accordance with Article 37 of the Euratom Treaty(2001/C 20/03)(Only the English text is authentic)On 8 June 2000 the European Commission received from the United Kingdom Government, in accordance with Article 37 of the Euratom Treaty, general data relating to the plan for the disposal of radioactive waste resulting from the commissioning of the liquid metal disposal plant (LMDP) and the waste receipt, assay, characterisation and supercompaction facility (WRACS).On the basis of these data and clarifications subsequently provided by the United Kingdom Government, and following consultation with the group of experts, the Commission has drawn up the following opinion:(a) The distance between the plant and the nearest point of another Member State, in this case Denmark (Faeroe Islands), is approximately 370 km;(b) Under normal operating conditions, the discharges of liquid and gaseous effluents will not cause an exposure of the population in other Member States that is significant from the point of view of health;(c) Solid low and intermediate level radioactive waste arising from the operations of the LMDP and WRACS will be stored on-site. Off-site movement of waste is not currently envisaged;(d) In the event of unplanned discharges of radioactive waste, which may follow an accident on the scale considered in the General Data, the doses likely to be received by the population in other Member States would not be significant from the point of view of health.In conclusion, the Commission is of the opinion that the implementation of the plan for the disposal of radioactive waste, resulting from the commissioning of the liquid metal disposal plant (LMDP) and the waste receipt, assay, characterisation and supercompaction facility (WRACS), both in normal operation and in the event of an accident of the type and magnitude considered in the General Data, is not liable to result in the radioactive contamination, significant from the point of view of health, of the water, soil or airspace of another Member State. \n",
      "\n"
     ]
    }
   ],
   "source": [
    "example_text_only = data[docs_text_only[0]]\n",
    "\n",
    "# Remove all tags from the text\n",
    "soup = BeautifulSoup(example_text_only['html'], 'html.parser')\n",
    "text = soup.get_text()\n",
    "\n",
    "# Reduce multiple line breaks to one with regex\n",
    "text = re.sub(r'\\n+', '\\n', text)\n",
    "\n",
    "print(text)"
   ]
  },
  {
   "cell_type": "code",
   "execution_count": null,
   "metadata": {},
   "outputs": [],
   "source": [
    "nlp = spacy.load(\"en_core_web_sm\")"
   ]
  },
  {
   "cell_type": "code",
   "execution_count": null,
   "metadata": {},
   "outputs": [],
   "source": [
    "doc = nlp(text)\n",
    "sentences = [sent.text for sent in doc.sents]"
   ]
  },
  {
   "cell_type": "code",
   "execution_count": null,
   "metadata": {},
   "outputs": [
    {
     "data": {
      "text/plain": [
       "['\\nEUR-Lex - 32001Y0123(02) - EN\\nAvis juridique important\\n|\\n32001Y0123(02)\\nCommission opinion of 20 December 2000 concerning the plan for the disposal of radioactive waste from the commissioning of the liquid metal disposal plant (LMDP) and the waste receipt, assay, characterisation and supercompaction facility (WRACS) located on the Dounreay nuclear site in Scotland (United Kingdom), in accordance with Article 37 of the Euratom Treaty  \\nOfficial Journal C 020 , 23/01/2001 P. 0004 - 0004 \\nCommission opinionof 20 December 2000concerning the plan for the disposal of radioactive waste from the commissioning of the liquid metal disposal plant (LMDP) and the waste receipt, assay, characterisation and supercompaction facility (WRACS) located on the Dounreay nuclear site in Scotland (United Kingdom), in accordance with Article 37 of the Euratom Treaty(2001/C',\n",
       " '20/03)(Only the English text is authentic)On 8 June 2000 the European Commission received from the United Kingdom Government, in accordance with Article 37 of the Euratom Treaty, general data relating to the plan for the disposal of radioactive waste resulting from the commissioning of the liquid metal disposal plant (LMDP) and the waste receipt, assay, characterisation and supercompaction facility (WRACS).On the basis of these data and clarifications subsequently provided by the United Kingdom Government, and following consultation with the group of experts, the Commission has drawn up the following opinion:(a)',\n",
       " 'The distance between the plant and the nearest point of another Member State, in this case Denmark (Faeroe Islands), is approximately 370 km;(b)',\n",
       " 'Under normal operating conditions, the discharges of liquid and gaseous effluents will not cause an exposure of the population in other Member States that is significant from the point of view of health;(c)',\n",
       " 'Solid low and intermediate level radioactive waste arising from the operations of the LMDP and WRACS will be stored on-site.',\n",
       " 'Off-site movement of waste is not currently envisaged;(d)',\n",
       " 'In the event of unplanned discharges of radioactive waste, which may follow an accident on the scale considered in the General Data, the doses likely to be received by the population in other Member States would not be significant from the point of view of health.',\n",
       " 'In conclusion, the Commission is of the opinion that the implementation of the plan for the disposal of radioactive waste, resulting from the commissioning of the liquid metal disposal plant (LMDP) and the waste receipt, assay, characterisation and supercompaction facility (WRACS), both in normal operation and in the event of an accident of the type and magnitude considered in the General Data, is not liable to result in the radioactive contamination, significant from the point of view of health, of the water, soil or airspace of another Member State. \\n']"
      ]
     },
     "execution_count": 26,
     "metadata": {},
     "output_type": "execute_result"
    }
   ],
   "source": [
    "sentences"
   ]
  },
  {
   "cell_type": "markdown",
   "metadata": {},
   "source": [
    "## Mixed text parsing"
   ]
  },
  {
   "cell_type": "code",
   "execution_count": null,
   "metadata": {},
   "outputs": [
    {
     "name": "stdout",
     "output_type": "stream",
     "text": [
      "\n",
      "L_2009191EN.01003501.xml\n",
      "23.7.2009   \n",
      "EN\n",
      "Official Journal of the European Union\n",
      "L 191/35\n",
      "COMMISSION REGULATION (EC) No 641/2009\n",
      "of 22 July 2009\n",
      "implementing Directive 2005/32/EC of the European Parliament and of the Council with regard to ecodesign requirements for glandless standalone circulators and glandless circulators integrated in products\n",
      "(Text with EEA relevance)\n",
      "THE COMMISSION OF THE EUROPEAN COMMUNITIES,\n",
      "Having regard to the Treaty establishing the European Community,\n",
      "Having regard to Directive 2005/32/EC of the European Parliament and of the Council of 6 July 2005 establishing a framework for the setting of ecodesign requirements for energy-using products and amending Council Directive 92/42/EEC and Directives 96/57/EC and 2000/55/EC of the European Parliament and of the Council (1), and in particular Article 15(1) thereof,\n",
      "After consulting the Ecodesign Consultation Forum,\n",
      "Whereas:\n",
      "(1)\n",
      "Under Directive 2005/32/EC ecodesign requirements should be set by the Commission for energy-using products representing significant volumes of sales and trade, having a significant environmental impact and presenting significant potential for improvement in terms of their environmental impact without entailing excessive costs.\n",
      "(2)\n",
      "Article 16(2), first indent, of Directive 2005/32/EC provides that, in accordance with the procedure referred to in Article 19(3) and the criteria set out in Article 15(2) of that Directive, and after consulting the Ecodesign Consultation Forum, the Commission will, as appropriate, introduce an implementing measure for appliances in electric motor systems and heating equipment, such as for circulators.\n",
      "(3)\n",
      "The Commission has carried out a preparatory study to analyse the technical, environmental and economic aspects of circulators typically used in buildings. The study has been developed together with stakeholders and interested parties from the Community and third countries, and the results have been made publicly available.\n",
      "(4)\n",
      "Circulators consume much of the energy used in heating systems in buildings. Furthermore, most standard circulators operate continuously, regardless of heating needs. Circulators are therefore one of the priority products for which ecodesign requirements should be established.\n",
      "(5)\n",
      "The environmental aspect of circulators that is identified as significant for the purposes of this Regulation is electricity consumption in the use phase.\n",
      "(6)\n",
      "The preparatory study shows that approximately 14 million circulators are placed on the Community market annually and that their most significant environmental impact out of all life-cycle phases is the use phase energy consumption amounting to 50 TWh in 2005, corresponding to 23 million tonnes of CO2 emissions. If no specific measures are taken, electricity consumption is predicted to increase to 55 TWh by 2020. The preparatory study shows that use phase electricity consumption can be significantly improved.\n",
      "(7)\n",
      "The preparatory study shows that requirements regarding other ecodesign parameters referred to in Annex I, Part 1, of Directive 2005/32/EC are not necessary as power consumption of circulators in use phase is by far the most important environmental aspect.\n",
      "(8)\n",
      "Circulators should be made more efficient by applying existing non-proprietary cost-effective technologies that can reduce the total combined costs of purchasing and operating circulators.\n",
      "(9)\n",
      "Ecodesign requirements should harmonise electricity consumption requirements for circulators throughout the Community, thus contributing to the functioning of the internal market and to improving the environmental performance of these products.\n",
      "(10)\n",
      "To increase the re-use and recycling of circulators, manufacturers should provide information on the assembly and dismantling of circulators.\n",
      "(11)\n",
      "The ecodesign requirements should not have a negative impact on the functionality of circulators and should not negatively affect health, safety or the environment. In particular, the benefits of reducing electricity consumption during the use phase should more than offset any additional environmental impacts during the production phase.\n",
      "(12)\n",
      "The ecodesign requirements should be introduced gradually in order to provide a sufficient timeframe for manufacturers to re-design products subject to this Regulation as appropriate. The timing for the introduction of these requirements should be such as to avoid negative impacts on the functionalities of circulators on the market, and to take into account cost impacts for manufacturers, in particular small and medium-sized enterprises, while ensuring timely achievement of the objectives of the Regulation.\n",
      "(13)\n",
      "Conformity assessment and measurements of the relevant product parameters should be performed using reliable, accurate and reproducible measurement methods, which take into account the generally recognised state of the art measurement methods including, where available, harmonised standards adopted by the European standardisation bodies, as listed in Annex I to Directive 98/34/EC of the European Parliament and of the Council of 22 June 1998 laying down a procedure for the provision of information in the field of technical standards and regulations and of rules on Information Society services (2).\n",
      "(14)\n",
      "This Regulation should quickly ensure the placing on the market of technologies that reduce the life-cycle environmental impact of circulators, leading to estimated electricity savings of 23 TWh by 2020, corresponding to 11 Mt of CO2 equivalent, compared with the situation, where no action is taken.\n",
      "(15)\n",
      "In accordance with Article 8 of Directive 2005/32/EC, this Regulation should specify the applicable conformity assessment procedures.\n",
      "(16)\n",
      "In order to facilitate compliance checks, manufacturers should provide information in the technical documentation referred to in Annexes IV and V to Directive 2005/32/EC.\n",
      "(17)\n",
      "In addition to the legally binding requirements laid down in this Regulation, indicative benchmarks for best available technologies should be identified to ensure wide availability and easy accessibility of information on the life-cycle environmental performance of circulators.\n",
      "(18)\n",
      "The measures provided for in this Regulation are in accordance with the opinion of the Committee established by Article 19(1) of Directive 2005/32/EC,\n",
      "HAS ADOPTED THE FOLLOWING REGULATION:\n",
      "Article 1\n",
      "Subject matter and scope\n",
      "1.   This Regulation establishes ecodesign requirements for the placing on the market of glandless standalone circulators and glandless circulators integrated in products.\n",
      "2.   This Regulation shall not apply to:\n",
      "(a)\n",
      "drinking water circulators, except as regards information requirements of Annex I, point 2(4);\n",
      "(b)\n",
      "circulators integrated in products and placed on the market not later than 1 January 2020 as replacement for identical circulators integrated in products and placed on the market no later than 1 August 2015. The replacement product or its packaging must clearly indicate the product(s) for which it is intended.\n",
      "Article 2\n",
      "Definitions\n",
      "In addition to the definitions set out in Article 2 of Directive 2005/32/EC, the following definitions shall apply:\n",
      "1.\n",
      "‘circulator’ means an impeller pump which has the rated hydraulic output power of between 1 W and 2 500 W and is designed for use in heating systems or in secondary circuits of cooling distribution systems;\n",
      "2.\n",
      "‘glandless circulator’ means a circulator with the shaft of the motor directly coupled to the impeller and the motor immersed in the pumped medium;\n",
      "3.\n",
      "‘standalone circulator’ means a circulator designed to operate independently from the product;\n",
      "4.\n",
      "‘product’ means an appliance that generates and/or transfers heat;\n",
      "5.\n",
      "‘drinking water circulator’ means a circulator specifically designed to be used in the recirculation of drinking water as defined in Council Directive 98/83/EC (3).\n",
      "Article 3\n",
      "Ecodesign requirements\n",
      "The ecodesign requirements for circulators are set out in Annex I.\n",
      "Compliance with ecodesign requirements shall be measured in accordance with requirements set out in Annex II, point 1.\n",
      "The calculation method for the energy efficiency index of circulators is set out in Annex II, point 2.\n",
      "Article 4\n",
      "Conformity assessment\n",
      "The procedure for assessing conformity referred to in Article 8 of Directive 2005/32/EC shall be the internal design control system set out in Annex IV to that Directive or the management system for assessing conformity set out in Annex V to that Directive.\n",
      "Article 5\n",
      "Verification procedure for market surveillance purposes\n",
      "When performing the market surveillance checks referred to in Article 3(2) of Directive 2005/32/EC, for the requirements set out in Annex I to this Regulation, the authorities of the Member States shall apply the verification procedure described in Annex III to this Regulation.\n",
      "Article 6\n",
      "Benchmarks\n",
      "The indicative benchmarks for best-performing circulators available on the market at the time of entry into force of this Regulation are set out in Annex IV.\n",
      "Article 7\n",
      "Revision\n",
      "The Commission shall review the methodology for calculating the energy efficiency index, set out in Annex II, point 2 to this Regulation, for glandless circulators integrated in products before 1 January 2012.\n",
      "It shall review this Regulation before 1 January 2017, in the light of technological progress. The review will include the assessment of design options that can facilitate re-use and recycling.\n",
      "The results of the reviews shall be presented to the Ecodesign Consultation Forum.\n",
      "Article 8\n",
      "Entry into force\n",
      "This Regulation shall enter into force on the twentieth day following that of its publication in the Official Journal of the European Union.\n",
      "It shall apply in accordance with the following timetable:\n",
      "1.\n",
      "from 1 January 2013, glandless standalone circulators shall meet the efficiency level defined in Annex I, point 1(1), with the exception of those specifically designed for primary circuits of thermal solar systems and of heat pumps;\n",
      "2.\n",
      "from 1 August 2015, glandless standalone circulators and glandless circulators integrated in products shall meet the efficiency level defined in Annex I, point 1(2).\n",
      "This Regulation shall be binding in its entirety and directly applicable in all Member States.\n",
      "Done at Brussels, 22 July 2009.\n",
      "For the Commission\n",
      "Andris PIEBALGS\n",
      "Member of the Commission\n",
      "(1)  OJ L 191, 22.7.2005, p. 29.\n",
      "(2)  OJ L 204, 21.7.1998, p. 37.\n",
      "(3)  OJ L 330, 5.12.1998, p. 32.\n",
      "ANNEX I\n",
      "ECODESIGN REQUIREMENTS\n",
      "1.   ENERGY EFFICIENCY REQUIREMENTS\n",
      "1.\n",
      "From 1 January 2013, glandless standalone circulators, with the exception of those specifically designed for primary circuits of thermal solar systems and of heat pumps, shall have an energy efficiency index (EEI) of not more than 0,27, calculated in accordance with Annex II, point 2.\n",
      "2.\n",
      "From 1 August 2015, glandless standalone circulators and glandless circulators integrated in products shall have an energy efficiency index (EEI) of not more than 0,23, calculated in accordance with Annex II, point 2.\n",
      "2.   PRODUCT INFORMATION REQUIREMENTS\n",
      "From 1 January 2013:\n",
      "1.\n",
      "the energy efficiency index of circulators, calculated in accordance with Annex II, shall be indicated on the name plate and packaging of the product and in the technical documentation as follows: ‘EEI ≤ 0,[xx]’;\n",
      "2.\n",
      "the following information shall be provided: ‘The benchmark for most efficient circulators is EEI ≤ 0,20.’;\n",
      "3.\n",
      "information concerning disassembly, recycling, or disposal at end-of-life of components and materials, shall be made available for treatment facilities;\n",
      "4.\n",
      "the following information shall be provided on the packaging and in the technical documentation of drinking water circulators: ‘This circulator is suitable for drinking water only.’.\n",
      "Manufacturers shall provide information on how to install, use and maintain the circulator in order to minimise its impact on the environment.\n",
      "The information listed above shall be visibly displayed on freely accessible websites of the circulator manufacturers.\n",
      "ANNEX II\n",
      "MEASUREMENT METHODS AND METHODOLOGY FOR CALCULATING THE ENERGY EFFICIENCY INDEX\n",
      "1.   MEASUREMENT METHODS\n",
      "For the purposes of compliance and verification of compliance with the requirements of this Regulation, measurements shall be made using a reliable, accurate and reproducible measurement procedure that takes into account the generally recognised state of the art measurement methods, including methods set out in documents the reference numbers of which have been published for that purpose in the Official Journal of the European Union.\n",
      "2.   METHODOLOGY FOR CALCULATING THE ENERGY EFFICIENCY INDEX\n",
      "The methodology for calculating the energy efficiency index (EEI) for circulators is as follows:\n",
      "1.\n",
      "Where a circulator has more than one setting of head and flow, measure the circulator at the maximum setting.\n",
      "‘Head’ (H) means head (in metres) produced by the circulator at the specified point of operation.\n",
      "‘Flow’ (Q) means the volume flow rate of water through the circulator (m3/h).\n",
      "2.\n",
      "Find the point where \n",
      "Q · H\n",
      " is maximum and define the flow and head at this point as: Q100 %\n",
      " and H100 %\n",
      ".\n",
      "3.\n",
      "Calculate the hydraulic power Phyd\n",
      " at this point.\n",
      "‘Hydraulic power’ means an expression of the arithmetic product of the flow (Q), Head (H) and a conversion factor that aligns the units used in the calculation.\n",
      "‘Phyd’ means hydraulic power delivered by the circulator to the fluid being pumped at the specified point of operation (in watts).\n",
      "4.\n",
      "Calculate the reference power as:\n",
      "Pref\n",
      " = 1,7 · Phyd\n",
      " + 17 · (1 – e–0,3 · Phyd\n",
      "), 1 W ≤ Phyd ≤ 2 500 W\n",
      "‘Reference power’ means a relation between hydraulic power and power consumption of a circulator, taking into account the dependency between circulator efficiency and size.\n",
      "‘Pref’ means the reference power consumption (in watts) of the circulator.\n",
      "5.\n",
      "Define the reference control curve as the straight line between the points:\n",
      "(Q\n",
      "100 %, H\n",
      "100 %) and (Q\n",
      "0 %, )\n",
      "6.\n",
      "Select a setting of the circulator ensuring that the circulator on the selected curve reaches \n",
      "Q · H\n",
      " = max point.\n",
      "7.\n",
      "Measure P1\n",
      " and H at the flows:\n",
      "Q100 %\n",
      ", 0,75 · Q100 %\n",
      ", 0,5 · Q100 %\n",
      ", 0,25 · Q100 %\n",
      ".\n",
      "‘P1’ means the electrical power (in watts) consumed by the circulator at the specified point of operation.\n",
      "8.\n",
      "Calculate at these flows\n",
      ", if Hmeas ≤ Href\n",
      "PL = P1,meas, if Hmeas > Href\n",
      "where Href\n",
      " is the head on the reference control curve at the different flows.\n",
      "9.\n",
      "Using PL\n",
      " and this load profile:\n",
      "Flow\n",
      "[%]\n",
      "Time\n",
      "[%]\n",
      "100\n",
      "6\n",
      "75\n",
      "15\n",
      "50\n",
      "35\n",
      "25\n",
      "44\n",
      "Calculate the weighted average power PL,avg\n",
      " as:\n",
      "PL,avg = 0,06 · PL,100 % + 0,15 · PL,75 % + 0,35 · PL,50 % + 0,44 · PL,25 %\n",
      "Calculate the energy efficiency index (1) as:\n",
      ", where C20 %\n",
      " = 0,49\n",
      "(1)  CXX % means a scaling factor that ensures that at the time of defining the scaling factor only XX % of circulators of a certain type have an EEI ≤ 0,20.\n",
      "ANNEX III\n",
      "VERIFICATION PROCEDURE\n",
      "For the purposes of checking conformity with the requirements laid down in Annex I, the authorities of the Member States shall use the measurement and calculation procedure set out in Annex II.\n",
      "Member States authorities shall test a single circulator. If the energy efficiency index exceeds the values declared by the manufacturer by more than 7 %, the measurements shall be made on three more circulators. The model shall be considered to comply if the arithmetical mean of the measured values for the latter three circulators do not exceed the values declared by the manufacturer by more than 7 %.\n",
      "Otherwise, the model shall be considered not to comply with the requirements of this Regulation.\n",
      "In addition to the procedure set out in this Annex, Member States authorities shall use reliable, accurate and reproducible measurement methods, which take into account the generally recognised state of the art, including methods set out in documents the reference numbers of which have been published for that purpose in the Official Journal of the European Union.\n",
      "ANNEX IV\n",
      "INDICATIVE BENCHMARKS\n",
      "At the time of the adoption of this Regulation, the benchmark for the best available technology on the market for circulators is EEI ≤ 0,20.\n",
      "\n"
     ]
    }
   ],
   "source": [
    "example_mixed = data[docs_mixed[0]]\n",
    "\n",
    "# Remove all tags from the text\n",
    "soup = BeautifulSoup(example_mixed['html'], 'html.parser')\n",
    "text = soup.get_text()\n",
    "\n",
    "# Reduce multiple line breaks to one with regex\n",
    "text = re.sub(r'\\n+', '\\n', text)\n",
    "\n",
    "print(text)"
   ]
  },
  {
   "cell_type": "code",
   "execution_count": null,
   "metadata": {},
   "outputs": [],
   "source": [
    "nlp = spacy.load(\"en_core_web_sm\")"
   ]
  },
  {
   "cell_type": "code",
   "execution_count": null,
   "metadata": {},
   "outputs": [],
   "source": [
    "doc = nlp(text)\n",
    "sentences = [sent.text for sent in doc.sents]"
   ]
  },
  {
   "cell_type": "code",
   "execution_count": null,
   "metadata": {},
   "outputs": [
    {
     "data": {
      "text/plain": [
       "['\\nL_2009191EN.01003501.xml\\n23.7.2009\\xa0\\xa0\\xa0\\nEN\\nOfficial Journal of the European Union\\nL 191/35\\nCOMMISSION REGULATION (EC)',\n",
       " 'No 641/2009\\nof 22 July 2009\\nimplementing Directive 2005/32/EC of the European Parliament and of the Council with regard to ecodesign requirements for glandless standalone circulators and glandless circulators integrated in products\\n(Text with EEA relevance)\\n',\n",
       " 'THE COMMISSION OF THE EUROPEAN COMMUNITIES,\\nHaving regard to the Treaty establishing the European Community,\\nHaving regard to Directive 2005/32/EC of the European Parliament and of the Council of 6 July 2005 establishing a framework for the setting of ecodesign requirements for energy-using products and amending Council Directive 92/42/EEC and Directives 96/57/EC and 2000/55/EC of the European Parliament and of the Council\\xa0(1), and in particular Article 15(1) thereof,\\n',\n",
       " 'After consulting the Ecodesign Consultation Forum,\\nWhereas:\\n(1)\\nUnder Directive 2005/32/EC ecodesign requirements should be set by the Commission for energy-using products representing significant volumes of sales and trade, having a significant environmental impact and presenting significant potential for improvement in terms of their environmental impact without entailing excessive costs.\\n',\n",
       " '(2)\\nArticle 16(2), first indent, of Directive 2005/32/EC provides that, in accordance with the procedure referred to in Article 19(3) and the criteria set out in Article 15(2) of that Directive, and after consulting the Ecodesign Consultation Forum, the Commission will, as appropriate, introduce an implementing measure for appliances in electric motor systems and heating equipment, such as for circulators.\\n',\n",
       " '(3)\\nThe Commission has carried out a preparatory study to analyse the technical, environmental and economic aspects of circulators typically used in buildings.',\n",
       " 'The study has been developed together with stakeholders and interested parties from the Community and third countries, and the results have been made publicly available.\\n',\n",
       " '(4)\\nCirculators consume much of the energy used in heating systems in buildings.',\n",
       " 'Furthermore, most standard circulators operate continuously, regardless of heating needs.',\n",
       " 'Circulators are therefore one of the priority products for which ecodesign requirements should be established.\\n',\n",
       " '(5)\\n',\n",
       " 'The environmental aspect of circulators that is identified as significant for the purposes of this Regulation is electricity consumption in the use phase.\\n',\n",
       " '(6)\\n',\n",
       " 'The preparatory study shows that approximately 14 million circulators are placed on the Community market annually and that their most significant environmental impact out of all life-cycle phases is the use phase energy consumption amounting to 50 TWh in 2005, corresponding to 23 million tonnes of CO2 emissions.',\n",
       " 'If no specific measures are taken, electricity consumption is predicted to increase to 55 TWh by 2020.',\n",
       " 'The preparatory study shows that use phase electricity consumption can be significantly improved.\\n',\n",
       " '(7)\\n',\n",
       " 'The preparatory study shows that requirements regarding other ecodesign parameters referred to in Annex I, Part 1, of Directive 2005/32/EC are not necessary as power consumption of circulators in use phase is by far the most important environmental aspect.\\n',\n",
       " '(8)\\nCirculators should be made more efficient by applying existing non-proprietary cost-effective technologies that can reduce the total combined costs of purchasing and operating circulators.\\n',\n",
       " '(9)\\nEcodesign requirements should harmonise electricity consumption requirements for circulators throughout the Community, thus contributing to the functioning of the internal market and to improving the environmental performance of these products.\\n',\n",
       " '(10)\\nTo increase the re-use and recycling of circulators, manufacturers should provide information on the assembly and dismantling of circulators.\\n',\n",
       " '(11)\\n',\n",
       " 'The ecodesign requirements should not have a negative impact on the functionality of circulators and should not negatively affect health, safety or the environment.',\n",
       " 'In particular, the benefits of reducing electricity consumption during the use phase should more than offset any additional environmental impacts during the production phase.\\n',\n",
       " '(12)\\n',\n",
       " 'The ecodesign requirements should be introduced gradually in order to provide a sufficient timeframe for manufacturers to re-design products subject to this Regulation as appropriate.',\n",
       " 'The timing for the introduction of these requirements should be such as to avoid negative impacts on the functionalities of circulators on the market, and to take into account cost impacts for manufacturers, in particular small and medium-sized enterprises, while ensuring timely achievement of the objectives of the Regulation.\\n',\n",
       " '(13)\\nConformity assessment and measurements of the relevant product parameters should be performed using reliable, accurate and reproducible measurement methods, which take into account the generally recognised state of the art measurement methods including, where available, harmonised standards adopted by the European standardisation bodies, as listed in Annex I to Directive 98/34/EC of the European Parliament and of the Council of 22 June 1998 laying down a procedure for the provision of information in the field of technical standards and regulations and of rules on Information Society services\\xa0(2).\\n',\n",
       " '(14)\\n',\n",
       " 'This Regulation should quickly ensure the placing on the market of technologies that reduce the life-cycle environmental impact of circulators, leading to estimated electricity savings of 23 TWh by 2020, corresponding to 11 Mt of CO2 equivalent, compared with the situation, where no action is taken.\\n',\n",
       " '(15)\\n',\n",
       " 'In accordance with Article 8 of Directive 2005/32/EC, this Regulation should specify the applicable conformity assessment procedures.\\n',\n",
       " '(16)\\n',\n",
       " 'In order to facilitate compliance checks, manufacturers should provide information in the technical documentation referred to in Annexes IV and V to Directive 2005/32/EC.\\n',\n",
       " '(17)\\n',\n",
       " 'In addition to the legally binding requirements laid down in this Regulation, indicative benchmarks for best available technologies should be identified to ensure wide availability and easy accessibility of information on the life-cycle environmental performance of circulators.\\n',\n",
       " '(18)\\n',\n",
       " 'The measures provided for in this Regulation are in accordance with the opinion of the Committee established by Article 19(1) of Directive 2005/32/EC,\\nHAS ADOPTED THE FOLLOWING REGULATION:\\nArticle 1\\nSubject matter and scope\\n1.\\xa0\\xa0\\xa0',\n",
       " 'This Regulation establishes ecodesign requirements for the placing on the market of glandless standalone circulators and glandless circulators integrated in products.\\n',\n",
       " '2.\\xa0\\xa0\\xa0',\n",
       " 'This Regulation shall not apply to:\\n(a)\\ndrinking water circulators, except as regards information requirements of Annex I, point 2(4);\\n(b)\\ncirculators integrated in products and placed on the market not later than 1 January 2020 as replacement for identical circulators integrated in products and placed on the market no later than 1 August 2015.',\n",
       " 'The replacement product or its packaging must clearly indicate the product(s) for which it is intended.\\n',\n",
       " 'Article 2\\nDefinitions\\n',\n",
       " 'In addition to the definitions set out in Article 2 of Directive 2005/32/EC, the following definitions shall apply:\\n1.\\n‘circulator’ means an impeller pump which has the rated hydraulic output power of between 1 W and 2\\xa0500 W and is designed for use in heating systems or in secondary circuits of cooling distribution systems;\\n2.\\n‘glandless circulator’ means a circulator with the shaft of the motor directly coupled to the impeller and the motor immersed in the pumped medium;\\n',\n",
       " '3.\\n‘standalone circulator’ means a circulator designed to operate independently from the product;\\n4.\\n‘product’ means an appliance that generates and/or transfers heat;\\n5.\\n‘drinking water circulator’ means a circulator specifically designed to be used in the recirculation of drinking water as defined in Council Directive 98/83/EC\\xa0(3).\\n',\n",
       " 'Article 3\\nEcodesign requirements\\nThe ecodesign requirements for circulators are set out in Annex\\xa0I.\\nCompliance with ecodesign requirements shall be measured in accordance with requirements set out in Annex II, point 1.\\n',\n",
       " 'The calculation method for the energy efficiency index of circulators is set out in Annex II, point 2.\\nArticle 4\\nConformity assessment\\nThe procedure for assessing conformity referred to in Article 8 of Directive 2005/32/EC shall be the internal design control system set out in Annex IV to that Directive or the management system for assessing conformity set out in Annex V to that Directive.\\n',\n",
       " 'Article 5\\nVerification procedure for market surveillance purposes\\nWhen performing the market surveillance checks referred to in Article 3(2) of Directive 2005/32/EC, for the requirements set out in Annex I to this Regulation, the authorities of the Member States shall apply the verification procedure described in Annex III to this Regulation.\\n',\n",
       " 'Article 6\\nBenchmarks\\nThe indicative benchmarks for best-performing circulators available on the market at the time of entry into force of this Regulation are set out in Annex IV.\\n',\n",
       " 'Article 7\\nRevision\\nThe Commission shall review the methodology for calculating the energy efficiency index, set out in Annex II, point 2 to this Regulation, for glandless circulators integrated in products before 1 January 2012.\\n',\n",
       " 'It shall review this Regulation before 1 January 2017, in the light of technological progress.',\n",
       " 'The review will include the assessment of design options that can facilitate re-use and recycling.\\n',\n",
       " 'The results of the reviews shall be presented to the Ecodesign Consultation Forum.\\n',\n",
       " 'Article 8\\nEntry into force\\nThis Regulation shall enter into force on the twentieth day following that of its publication in the Official Journal of the European Union.\\n',\n",
       " 'It shall apply in accordance with the following timetable:\\n1.\\nfrom 1 January 2013, glandless standalone circulators shall meet the efficiency level defined in Annex I, point 1(1), with the exception of those specifically designed for primary circuits of thermal solar systems and of heat pumps;\\n2.\\nfrom 1 August 2015, glandless standalone circulators and glandless circulators integrated in products shall meet the efficiency level defined in Annex I, point 1(2).\\n',\n",
       " 'This Regulation shall be binding in its entirety and directly applicable in all Member States.\\n',\n",
       " 'Done at Brussels, 22 July 2009.\\n',\n",
       " 'For the Commission\\nAndris PIEBALGS\\nMember of the Commission\\n(1)\\xa0\\xa0OJ L 191, 22.7.2005, p. 29.\\n',\n",
       " '(2)\\xa0\\xa0OJ L 204, 21.7.1998, p. 37.\\n',\n",
       " '(3)\\xa0\\xa0OJ L 330, 5.12.1998, p. 32.\\nANNEX I\\nECODESIGN REQUIREMENTS\\n1.\\xa0\\xa0\\xa0ENERGY EFFICIENCY REQUIREMENTS\\n1.\\nFrom 1 January 2013, glandless standalone circulators, with the exception of those specifically designed for primary circuits of thermal solar systems and of heat pumps, shall have an energy efficiency index (EEI) of not more than 0,27, calculated in accordance with Annex II, point 2.\\n2.\\nFrom 1 August 2015, glandless standalone circulators and glandless circulators integrated in products shall have an energy efficiency index (EEI) of not more than 0,23, calculated in accordance with Annex II, point 2.\\n2.\\xa0\\xa0\\xa0',\n",
       " 'PRODUCT INFORMATION REQUIREMENTS\\nFrom 1 January 2013:\\n',\n",
       " '1.\\nthe energy efficiency index of circulators, calculated in accordance with Annex II, shall be indicated on the name plate and packaging of the product and in the technical documentation as follows: ‘EEI ≤ 0,[xx]’;\\n2.\\nthe following information shall be provided: ‘The benchmark for most efficient circulators is EEI ≤ 0,20.’;\\n',\n",
       " '3.\\ninformation concerning disassembly, recycling, or disposal at end-of-life of components and materials, shall be made available for treatment facilities;\\n4.\\nthe following information shall be provided on the packaging and in the technical documentation of drinking water circulators: ‘This circulator is suitable for drinking water only.’.\\n',\n",
       " 'Manufacturers shall provide information on how to install, use and maintain the circulator in order to minimise its impact on the environment.\\n',\n",
       " 'The information listed above shall be visibly displayed on freely accessible websites of the circulator manufacturers.\\n',\n",
       " 'ANNEX II\\nMEASUREMENT METHODS AND METHODOLOGY FOR CALCULATING THE ENERGY EFFICIENCY INDEX\\n1.\\xa0\\xa0\\xa0MEASUREMENT METHODS\\n',\n",
       " 'For the purposes of compliance and verification of compliance with the requirements of this Regulation, measurements shall be made using a reliable, accurate and reproducible measurement procedure that takes into account the generally recognised state of the art measurement methods, including methods set out in documents the reference numbers of which have been published for that purpose in the Official Journal of the European Union.\\n',\n",
       " '2.\\xa0\\xa0\\xa0METHODOLOGY FOR CALCULATING THE ENERGY EFFICIENCY INDEX\\n',\n",
       " 'The methodology for calculating the energy efficiency index (EEI) for circulators is as follows:\\n1.\\nWhere a circulator has more than one setting of head and flow, measure the circulator at the maximum setting.\\n',\n",
       " '‘Head’ (H) means head (in metres) produced by the\\xa0circulator at the specified point of operation.\\n',\n",
       " '‘Flow’ (Q) means the volume flow rate of water through the circulator (m3/h).\\n',\n",
       " '2.\\nFind the point where \\nQ · H\\n is maximum and define the flow and head at this point as: Q100\\xa0%\\n and H100\\xa0%\\n.\\n',\n",
       " '3.\\nCalculate the hydraulic power Phyd\\n at this point.\\n',\n",
       " '‘Hydraulic power’ means an expression of the arithmetic product of the flow (Q), Head (H) and a conversion factor that aligns the units used in the calculation.\\n',\n",
       " '‘Phyd’ means hydraulic power delivered by the\\xa0circulator to the fluid being pumped at the specified point of operation (in watts).\\n',\n",
       " '4.\\nCalculate the reference power as:\\nPref\\n = 1,7 · Phyd\\n + 17 · (1 – e–0,3 · Phyd\\n), 1 W ≤',\n",
       " 'Phyd ≤ 2\\xa0500 W\\n‘Reference power’ means a relation between hydraulic power and power consumption of a circulator, taking into account the dependency between circulator efficiency and size.\\n',\n",
       " '‘Pref’ means the reference power consumption (in watts) of the circulator.\\n',\n",
       " '5.\\nDefine the reference control curve as the straight line between the points:\\n(Q\\n100\\xa0%, H\\n100\\xa0%) and (Q\\n0\\xa0%, )\\n',\n",
       " '6.\\nSelect a setting of the circulator ensuring that the circulator on the selected curve reaches \\nQ · H\\n = max point.\\n',\n",
       " '7.\\nMeasure P1\\n and H at the flows:\\nQ100\\xa0%\\n, 0,75 · Q100\\xa0%\\n, 0,5 · Q100\\xa0%\\n, 0,25 · Q100\\xa0%\\n.\\n',\n",
       " '‘P1’ means the electrical power (in watts) consumed by the circulator at the specified point of operation.\\n',\n",
       " '8.\\n',\n",
       " 'Calculate at these flows\\n, if Hmeas ≤ Href\\nPL = P1,meas, if Hmeas > Href\\nwhere Href\\n is the head on the reference control curve at the different flows.\\n',\n",
       " '9.\\nUsing PL\\n and this load profile:\\nFlow\\n[%]\\n',\n",
       " 'Time\\n',\n",
       " '[%]\\n100\\n6\\n75\\n15\\n50\\n35\\n25\\n44\\nCalculate the weighted average power PL,avg\\n as:\\nPL,avg = 0,06 · PL,100\\xa0% + 0,15 · PL,75\\xa0% + 0,35 · PL,50\\xa0% + 0,44 · PL,25\\xa0%\\nCalculate the energy efficiency index\\xa0(1) as:\\n, where C20\\xa0%\\n = 0,49\\n(1)\\xa0\\xa0CXX\\xa0% means a scaling factor that ensures that at the time of defining the scaling factor only XX\\xa0% of circulators of a certain type have an EEI ≤ 0,20.\\n',\n",
       " 'ANNEX III\\nVERIFICATION PROCEDURE\\n',\n",
       " 'For the purposes of checking conformity with the requirements laid down in Annex I, the authorities of the Member States shall use the measurement and calculation procedure set out in Annex II.\\n',\n",
       " 'Member States authorities shall test a single circulator.',\n",
       " 'If the energy efficiency index exceeds the values declared by the manufacturer by more than 7\\xa0%, the measurements shall be made on three more circulators.',\n",
       " 'The model shall be considered to comply if the arithmetical mean of the measured values for the latter three circulators do not exceed the values declared by the manufacturer by more than 7\\xa0%.\\n',\n",
       " 'Otherwise, the model shall be considered not to comply with the requirements of this Regulation.\\n',\n",
       " 'In addition to the procedure set out in this Annex, Member States authorities shall use reliable, accurate and reproducible measurement methods, which take into account the generally recognised state of the art, including methods set out in documents the reference numbers of which have been published for that purpose in the Official Journal of the European Union.\\n',\n",
       " 'ANNEX IV\\nINDICATIVE BENCHMARKS\\n',\n",
       " 'At the time of the adoption of this Regulation, the benchmark for the best available technology on the market for circulators is EEI ≤ 0,20.\\n']"
      ]
     },
     "execution_count": 30,
     "metadata": {},
     "output_type": "execute_result"
    }
   ],
   "source": [
    "sentences"
   ]
  }
 ],
 "metadata": {
  "kernelspec": {
   "display_name": "elqm",
   "language": "python",
   "name": "python3"
  },
  "language_info": {
   "codemirror_mode": {
    "name": "ipython",
    "version": 3
   },
   "file_extension": ".py",
   "mimetype": "text/x-python",
   "name": "python",
   "nbconvert_exporter": "python",
   "pygments_lexer": "ipython3",
   "version": "3.11.3"
  }
 },
 "nbformat": 4,
 "nbformat_minor": 2
}
