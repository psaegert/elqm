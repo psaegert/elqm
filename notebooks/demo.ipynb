{
 "cells": [
  {
   "cell_type": "code",
   "execution_count": 5,
   "metadata": {},
   "outputs": [],
   "source": [
    "from dynaconf import Dynaconf\n",
    "import os\n",
    "\n",
    "from elqm import ELQMPipeline\n",
    "from elqm.utils import get_configs_dir"
   ]
  },
  {
   "cell_type": "code",
   "execution_count": 13,
   "metadata": {},
   "outputs": [
    {
     "name": "stdout",
     "output_type": "stream",
     "text": [
      "Cache key: simple_llama2_coarse\n",
      "Using cache for simple_llama2_coarse_nlc\n",
      "bert_load_from_file: gguf version     = 2\n",
      "bert_load_from_file: gguf alignment   = 32\n",
      "bert_load_from_file: gguf data offset = 695552\n",
      "bert_load_from_file: model name           = BERT\n",
      "bert_load_from_file: model architecture   = bert\n",
      "bert_load_from_file: model file type      = 1\n",
      "bert_load_from_file: bert tokenizer vocab = 30522\n",
      "Created Embedding GPT4AllEmbeddings\n",
      "Created Retriever VectorStoreRetriever\n"
     ]
    }
   ],
   "source": [
    "config = Dynaconf(settings_files=os.path.join(get_configs_dir(), \"simple_llama2_coarse_nlc.yaml\"))\n",
    "elqm = ELQMPipeline(config)"
   ]
  },
  {
   "cell_type": "code",
   "execution_count": 15,
   "metadata": {},
   "outputs": [
    {
     "name": "stdout",
     "output_type": "stream",
     "text": [
      "Based on the provided context, a model supporting greater than 99% of the sRGB color space translates to approximately 32.9% of the CIE LUV color space.\n"
     ]
    }
   ],
   "source": [
    "print(elqm.answer(\"Which CIE LUV does a model supporting greater than 99 % of the sRGB colour space translate to?\"))"
   ]
  }
 ],
 "metadata": {
  "kernelspec": {
   "display_name": "elqm",
   "language": "python",
   "name": "python3"
  },
  "language_info": {
   "codemirror_mode": {
    "name": "ipython",
    "version": 3
   },
   "file_extension": ".py",
   "mimetype": "text/x-python",
   "name": "python",
   "nbconvert_exporter": "python",
   "pygments_lexer": "ipython3",
   "version": "3.11.7"
  }
 },
 "nbformat": 4,
 "nbformat_minor": 2
}
